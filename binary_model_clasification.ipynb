{
 "cells": [
  {
   "cell_type": "markdown",
   "metadata": {},
   "source": [
    "## Modelo binario de clasificación "
   ]
  },
  {
   "cell_type": "markdown",
   "metadata": {},
   "source": [
    "En esta libreta de jupyter vamos a realizar el desarrollo de un modelo binario predictivo para el problema de minsait"
   ]
  },
  {
   "cell_type": "code",
   "execution_count": 1,
   "metadata": {},
   "outputs": [
    {
     "data": {
      "text/html": [
       "<style>.container { width:75% !important; }</style>"
      ],
      "text/plain": [
       "<IPython.core.display.HTML object>"
      ]
     },
     "metadata": {},
     "output_type": "display_data"
    }
   ],
   "source": [
    "import pandas as pd\n",
    "import numpy as np\n",
    "\n",
    "import matplotlib.pyplot as plt\n",
    "import seaborn as sns;\n",
    "sns.set()\n",
    "\n",
    "%config InlineBackend.figure_format = 'retina'\n",
    "%matplotlib inline\n",
    "\n",
    "import warnings\n",
    "warnings.simplefilter('ignore')\n",
    "\n",
    "from IPython.core.display import display, HTML\n",
    "display(HTML(\"<style>.container { width:75% !important; }</style>\"))\n",
    "\n",
    "from ipywidgets import interact \n",
    "\n",
    "#Modelo\n",
    "from sklearn.pipeline import Pipeline\n",
    "from sklearn.preprocessing import StandardScaler\n",
    "from sklearn.impute import SimpleImputer\n",
    "from sklearn.preprocessing import OneHotEncoder\n",
    "from sklearn.compose import ColumnTransformer\n",
    "from sklearn.model_selection import GridSearchCV\n",
    "from sklearn.model_selection import train_test_split\n",
    "\n",
    "from sklearn.tree import DecisionTreeClassifier\n",
    "from sklearn.neural_network import MLPClassifier\n",
    "from sklearn.svm import SVC\n",
    "from sklearn.neighbors import KNeighborsClassifier\n",
    "from sklearn.ensemble import RandomForestClassifier\n",
    "\n",
    "from sklearn.metrics import classification_report\n",
    "\n",
    "from sklearn.metrics import accuracy_score, precision_score, recall_score, f1_score, confusion_matrix"
   ]
  },
  {
   "cell_type": "code",
   "execution_count": 2,
   "metadata": {},
   "outputs": [],
   "source": [
    "list_class_order = ['RESIDENTIAL', 'PUBLIC', 'RETAIL', 'OFFICE', 'INDUSTRIAL', 'AGRICULTURE', 'OTHER']"
   ]
  },
  {
   "cell_type": "code",
   "execution_count": 3,
   "metadata": {},
   "outputs": [],
   "source": [
    "def plot_confusion_matrix(cm,\n",
    "                          target_names,\n",
    "                          title='Confusion matrix',\n",
    "                          cmap=None,\n",
    "                          normalize=True):\n",
    "    \"\"\"\n",
    "    given a sklearn confusion matrix (cm), make a nice plot\n",
    "\n",
    "    Arguments\n",
    "    ---------\n",
    "    cm:           confusion matrix from sklearn.metrics.confusion_matrix\n",
    "\n",
    "    target_names: given classification classes such as [0, 1, 2]\n",
    "                  the class names, for example: ['high', 'medium', 'low']\n",
    "\n",
    "    title:        the text to display at the top of the matrix\n",
    "\n",
    "    cmap:         the gradient of the values displayed from matplotlib.pyplot.cm\n",
    "                  see http://matplotlib.org/examples/color/colormaps_reference.html\n",
    "                  plt.get_cmap('jet') or plt.cm.Blues\n",
    "\n",
    "    normalize:    If False, plot the raw numbers\n",
    "                  If True, plot the proportions\n",
    "\n",
    "    Usage\n",
    "    -----\n",
    "    plot_confusion_matrix(cm           = cm,                  # confusion matrix created by\n",
    "                                                              # sklearn.metrics.confusion_matrix\n",
    "                          normalize    = True,                # show proportions\n",
    "                          target_names = y_labels_vals,       # list of names of the classes\n",
    "                          title        = best_estimator_name) # title of graph\n",
    "\n",
    "    Citiation\n",
    "    ---------\n",
    "    http://scikit-learn.org/stable/auto_examples/model_selection/plot_confusion_matrix.html\n",
    "\n",
    "    \"\"\"\n",
    "    import matplotlib.pyplot as plt\n",
    "    import numpy as np\n",
    "    import itertools\n",
    "\n",
    "    accuracy = np.trace(cm) / np.sum(cm).astype('float')\n",
    "    misclass = 1 - accuracy\n",
    "\n",
    "    if cmap is None:\n",
    "        cmap = plt.get_cmap('Blues')\n",
    "\n",
    "    plt.figure(figsize=(8, 6))\n",
    "    plt.imshow(cm, interpolation='nearest', cmap=cmap)\n",
    "    plt.title(title)\n",
    "    plt.colorbar()\n",
    "\n",
    "    if target_names is not None:\n",
    "        tick_marks = np.arange(len(target_names))\n",
    "        plt.xticks(tick_marks, target_names, rotation=45)\n",
    "        plt.yticks(tick_marks, target_names)\n",
    "\n",
    "    if normalize:\n",
    "        cm = cm.astype('float') / cm.sum(axis=1)[:, np.newaxis]\n",
    "\n",
    "\n",
    "    thresh = cm.max() / 1.5 if normalize else cm.max() / 2\n",
    "    for i, j in itertools.product(range(cm.shape[0]), range(cm.shape[1])):\n",
    "        if normalize:\n",
    "            plt.text(j, i, \"{:0.4f}\".format(cm[i, j]),\n",
    "                     horizontalalignment=\"center\",\n",
    "                     color=\"white\" if cm[i, j] > thresh else \"black\")\n",
    "        else:\n",
    "            plt.text(j, i, \"{:,}\".format(cm[i, j]),\n",
    "                     horizontalalignment=\"center\",\n",
    "                     color=\"white\" if cm[i, j] > thresh else \"black\")\n",
    "\n",
    "\n",
    "    plt.tight_layout()\n",
    "    plt.ylabel('True label')\n",
    "    plt.xlabel('Predicted label\\naccuracy={:0.4f}; misclass={:0.4f}'.format(accuracy, misclass))\n",
    "    plt.show()"
   ]
  },
  {
   "cell_type": "code",
   "execution_count": 4,
   "metadata": {},
   "outputs": [],
   "source": [
    "def show_results(y, y_pred):\n",
    "    sns.heatmap(confusion_matrix(y, y_pred), square=True, annot=True, fmt='d', cbar=True, cmap=plt.cm.Blues)\n",
    "    plt.ylabel('Clase real')\n",
    "    plt.xlabel('Predicción');\n",
    "    plt.gca().set_ylim(2.0, 0)\n",
    "    plt.show()\n",
    "    print(\"Resultados\")\n",
    "    print('Accuracy: {}'.format(round(accuracy_score(y, y_pred), 3)))"
   ]
  },
  {
   "cell_type": "code",
   "execution_count": 5,
   "metadata": {},
   "outputs": [
    {
     "name": "stdout",
     "output_type": "stream",
     "text": [
      "Tamaño del conjunto de datos:  103230\n",
      "Número de variables: 55\n",
      "El índice es único.\n"
     ]
    },
    {
     "data": {
      "text/html": [
       "<div>\n",
       "<style scoped>\n",
       "    .dataframe tbody tr th:only-of-type {\n",
       "        vertical-align: middle;\n",
       "    }\n",
       "\n",
       "    .dataframe tbody tr th {\n",
       "        vertical-align: top;\n",
       "    }\n",
       "\n",
       "    .dataframe thead th {\n",
       "        text-align: right;\n",
       "    }\n",
       "</style>\n",
       "<table border=\"1\" class=\"dataframe\">\n",
       "  <thead>\n",
       "    <tr style=\"text-align: right;\">\n",
       "      <th></th>\n",
       "      <th>X</th>\n",
       "      <th>Y</th>\n",
       "      <th>Q_R_4_0_0</th>\n",
       "      <th>Q_R_4_0_1</th>\n",
       "      <th>Q_R_4_0_2</th>\n",
       "      <th>Q_R_4_0_3</th>\n",
       "      <th>Q_R_4_0_4</th>\n",
       "      <th>Q_R_4_0_5</th>\n",
       "      <th>Q_R_4_0_6</th>\n",
       "      <th>Q_R_4_0_7</th>\n",
       "      <th>...</th>\n",
       "      <th>Q_NIR_8_1_0</th>\n",
       "      <th>AREA</th>\n",
       "      <th>GEOM_R1</th>\n",
       "      <th>GEOM_R2</th>\n",
       "      <th>GEOM_R3</th>\n",
       "      <th>GEOM_R4</th>\n",
       "      <th>CONTRUCTIONYEAR</th>\n",
       "      <th>MAXBUILDINGFLOOR</th>\n",
       "      <th>CADASTRALQUALITYID</th>\n",
       "      <th>CLASE</th>\n",
       "    </tr>\n",
       "    <tr>\n",
       "      <th>ID</th>\n",
       "      <th></th>\n",
       "      <th></th>\n",
       "      <th></th>\n",
       "      <th></th>\n",
       "      <th></th>\n",
       "      <th></th>\n",
       "      <th></th>\n",
       "      <th></th>\n",
       "      <th></th>\n",
       "      <th></th>\n",
       "      <th></th>\n",
       "      <th></th>\n",
       "      <th></th>\n",
       "      <th></th>\n",
       "      <th></th>\n",
       "      <th></th>\n",
       "      <th></th>\n",
       "      <th></th>\n",
       "      <th></th>\n",
       "      <th></th>\n",
       "      <th></th>\n",
       "    </tr>\n",
       "  </thead>\n",
       "  <tbody>\n",
       "    <tr>\n",
       "      <th>35984B9C3E7CD9A1</th>\n",
       "      <td>2207357872</td>\n",
       "      <td>165920300</td>\n",
       "      <td>0.000000</td>\n",
       "      <td>443.001300</td>\n",
       "      <td>616.001697</td>\n",
       "      <td>746.998401</td>\n",
       "      <td>872.996472</td>\n",
       "      <td>1009.000946</td>\n",
       "      <td>1159.002319</td>\n",
       "      <td>1342.002466</td>\n",
       "      <td>...</td>\n",
       "      <td>10951.926645</td>\n",
       "      <td>144.426900</td>\n",
       "      <td>0.557237</td>\n",
       "      <td>0.067249</td>\n",
       "      <td>0.057372</td>\n",
       "      <td>0.853127</td>\n",
       "      <td>2002</td>\n",
       "      <td>0.0</td>\n",
       "      <td>2</td>\n",
       "      <td>RESIDENTIAL</td>\n",
       "    </tr>\n",
       "    <tr>\n",
       "      <th>F9D04BF6D037F8FB</th>\n",
       "      <td>2189757160</td>\n",
       "      <td>165463267</td>\n",
       "      <td>0.000059</td>\n",
       "      <td>443.899011</td>\n",
       "      <td>627.999060</td>\n",
       "      <td>770.001611</td>\n",
       "      <td>904.999988</td>\n",
       "      <td>1032.998474</td>\n",
       "      <td>1165.001636</td>\n",
       "      <td>1316.000110</td>\n",
       "      <td>...</td>\n",
       "      <td>7048.367637</td>\n",
       "      <td>38.342550</td>\n",
       "      <td>0.709884</td>\n",
       "      <td>0.125156</td>\n",
       "      <td>0.147929</td>\n",
       "      <td>1.181953</td>\n",
       "      <td>1949</td>\n",
       "      <td>1.0</td>\n",
       "      <td>8</td>\n",
       "      <td>RESIDENTIAL</td>\n",
       "    </tr>\n",
       "    <tr>\n",
       "      <th>B89D5711AFF8C423</th>\n",
       "      <td>2240147335</td>\n",
       "      <td>165690752</td>\n",
       "      <td>0.000000</td>\n",
       "      <td>353.502274</td>\n",
       "      <td>523.003601</td>\n",
       "      <td>644.001831</td>\n",
       "      <td>760.997131</td>\n",
       "      <td>876.999634</td>\n",
       "      <td>1006.997498</td>\n",
       "      <td>1168.995544</td>\n",
       "      <td>...</td>\n",
       "      <td>7013.073271</td>\n",
       "      <td>108.794384</td>\n",
       "      <td>0.517702</td>\n",
       "      <td>0.058268</td>\n",
       "      <td>0.081666</td>\n",
       "      <td>1.401552</td>\n",
       "      <td>1986</td>\n",
       "      <td>1.0</td>\n",
       "      <td>5</td>\n",
       "      <td>RESIDENTIAL</td>\n",
       "    </tr>\n",
       "    <tr>\n",
       "      <th>1C3478AC1522E7E4</th>\n",
       "      <td>2227146459</td>\n",
       "      <td>165934099</td>\n",
       "      <td>0.000000</td>\n",
       "      <td>268.000613</td>\n",
       "      <td>376.999609</td>\n",
       "      <td>478.003784</td>\n",
       "      <td>575.001233</td>\n",
       "      <td>683.997742</td>\n",
       "      <td>809.005994</td>\n",
       "      <td>955.002960</td>\n",
       "      <td>...</td>\n",
       "      <td>6216.880538</td>\n",
       "      <td>155.224455</td>\n",
       "      <td>0.450871</td>\n",
       "      <td>0.053591</td>\n",
       "      <td>0.054201</td>\n",
       "      <td>1.011382</td>\n",
       "      <td>1999</td>\n",
       "      <td>1.0</td>\n",
       "      <td>2</td>\n",
       "      <td>RESIDENTIAL</td>\n",
       "    </tr>\n",
       "    <tr>\n",
       "      <th>4D12AA5009064345</th>\n",
       "      <td>2212350459</td>\n",
       "      <td>165681791</td>\n",
       "      <td>0.000000</td>\n",
       "      <td>318.997910</td>\n",
       "      <td>492.003845</td>\n",
       "      <td>632.999634</td>\n",
       "      <td>757.002197</td>\n",
       "      <td>882.999908</td>\n",
       "      <td>1019.008911</td>\n",
       "      <td>1175.993103</td>\n",
       "      <td>...</td>\n",
       "      <td>7092.767616</td>\n",
       "      <td>1789.873366</td>\n",
       "      <td>0.458819</td>\n",
       "      <td>0.012858</td>\n",
       "      <td>0.019936</td>\n",
       "      <td>1.550478</td>\n",
       "      <td>1966</td>\n",
       "      <td>8.0</td>\n",
       "      <td>6</td>\n",
       "      <td>RESIDENTIAL</td>\n",
       "    </tr>\n",
       "  </tbody>\n",
       "</table>\n",
       "<p>5 rows × 55 columns</p>\n",
       "</div>"
      ],
      "text/plain": [
       "                           X          Y  Q_R_4_0_0   Q_R_4_0_1   Q_R_4_0_2  \\\n",
       "ID                                                                           \n",
       "35984B9C3E7CD9A1  2207357872  165920300   0.000000  443.001300  616.001697   \n",
       "F9D04BF6D037F8FB  2189757160  165463267   0.000059  443.899011  627.999060   \n",
       "B89D5711AFF8C423  2240147335  165690752   0.000000  353.502274  523.003601   \n",
       "1C3478AC1522E7E4  2227146459  165934099   0.000000  268.000613  376.999609   \n",
       "4D12AA5009064345  2212350459  165681791   0.000000  318.997910  492.003845   \n",
       "\n",
       "                   Q_R_4_0_3   Q_R_4_0_4    Q_R_4_0_5    Q_R_4_0_6  \\\n",
       "ID                                                                   \n",
       "35984B9C3E7CD9A1  746.998401  872.996472  1009.000946  1159.002319   \n",
       "F9D04BF6D037F8FB  770.001611  904.999988  1032.998474  1165.001636   \n",
       "B89D5711AFF8C423  644.001831  760.997131   876.999634  1006.997498   \n",
       "1C3478AC1522E7E4  478.003784  575.001233   683.997742   809.005994   \n",
       "4D12AA5009064345  632.999634  757.002197   882.999908  1019.008911   \n",
       "\n",
       "                    Q_R_4_0_7  ...   Q_NIR_8_1_0         AREA   GEOM_R1  \\\n",
       "ID                             ...                                        \n",
       "35984B9C3E7CD9A1  1342.002466  ...  10951.926645   144.426900  0.557237   \n",
       "F9D04BF6D037F8FB  1316.000110  ...   7048.367637    38.342550  0.709884   \n",
       "B89D5711AFF8C423  1168.995544  ...   7013.073271   108.794384  0.517702   \n",
       "1C3478AC1522E7E4   955.002960  ...   6216.880538   155.224455  0.450871   \n",
       "4D12AA5009064345  1175.993103  ...   7092.767616  1789.873366  0.458819   \n",
       "\n",
       "                   GEOM_R2   GEOM_R3   GEOM_R4  CONTRUCTIONYEAR  \\\n",
       "ID                                                                \n",
       "35984B9C3E7CD9A1  0.067249  0.057372  0.853127             2002   \n",
       "F9D04BF6D037F8FB  0.125156  0.147929  1.181953             1949   \n",
       "B89D5711AFF8C423  0.058268  0.081666  1.401552             1986   \n",
       "1C3478AC1522E7E4  0.053591  0.054201  1.011382             1999   \n",
       "4D12AA5009064345  0.012858  0.019936  1.550478             1966   \n",
       "\n",
       "                  MAXBUILDINGFLOOR  CADASTRALQUALITYID        CLASE  \n",
       "ID                                                                   \n",
       "35984B9C3E7CD9A1               0.0                   2  RESIDENTIAL  \n",
       "F9D04BF6D037F8FB               1.0                   8  RESIDENTIAL  \n",
       "B89D5711AFF8C423               1.0                   5  RESIDENTIAL  \n",
       "1C3478AC1522E7E4               1.0                   2  RESIDENTIAL  \n",
       "4D12AA5009064345               8.0                   6  RESIDENTIAL  \n",
       "\n",
       "[5 rows x 55 columns]"
      ]
     },
     "execution_count": 5,
     "metadata": {},
     "output_type": "execute_result"
    }
   ],
   "source": [
    "df_minsait = pd.read_csv('data/Modelar_UH2020.txt', sep=\"|\", index_col='ID', encoding='utf-8')\n",
    "print(\"Tamaño del conjunto de datos:  %d\" % df_minsait.shape[0])\n",
    "print(\"Número de variables: %d\" % df_minsait.shape[1])\n",
    "if df_minsait.index.is_unique:\n",
    "    print('El índice es único.')\n",
    "else:\n",
    "    print('Los índices están duplicados.')\n",
    "df_minsait.head()"
   ]
  },
  {
   "cell_type": "code",
   "execution_count": 6,
   "metadata": {},
   "outputs": [
    {
     "data": {
      "image/png": "[encoded data removed]",
      "text/plain": [
       "<Figure size 864x288 with 1 Axes>"
      ]
     },
     "metadata": {
      "image/png": {
       "height": 283,
       "width": 854
      },
      "needs_background": "light"
     },
     "output_type": "display_data"
    }
   ],
   "source": [
    "plt.figure(figsize=(12,4))\n",
    "sns.countplot(x='CLASE', data=df_minsait, order=list_class_order)\n",
    "plt.title('Distribución de muestras')\n",
    "plt.tight_layout()\n",
    "plt.show()"
   ]
  },
  {
   "cell_type": "code",
   "execution_count": 7,
   "metadata": {},
   "outputs": [
    {
     "name": "stdout",
     "output_type": "stream",
     "text": [
      "Discretas:  ['CADASTRALQUALITYID']\n",
      "\n",
      "Numéricas:  ['X', 'Y', 'Q_R_4_0_0', 'Q_R_4_0_1', 'Q_R_4_0_2', 'Q_R_4_0_3', 'Q_R_4_0_4', 'Q_R_4_0_5', 'Q_R_4_0_6', 'Q_R_4_0_7', 'Q_R_4_0_8', 'Q_R_4_0_9', 'Q_R_4_1_0', 'Q_G_3_0_0', 'Q_G_3_0_1', 'Q_G_3_0_2', 'Q_G_3_0_3', 'Q_G_3_0_4', 'Q_G_3_0_5', 'Q_G_3_0_6', 'Q_G_3_0_7', 'Q_G_3_0_8', 'Q_G_3_0_9', 'Q_G_3_1_0', 'Q_B_2_0_0', 'Q_B_2_0_1', 'Q_B_2_0_2', 'Q_B_2_0_3', 'Q_B_2_0_4', 'Q_B_2_0_5', 'Q_B_2_0_6', 'Q_B_2_0_7', 'Q_B_2_0_8', 'Q_B_2_0_9', 'Q_B_2_1_0', 'Q_NIR_8_0_0', 'Q_NIR_8_0_1', 'Q_NIR_8_0_2', 'Q_NIR_8_0_3', 'Q_NIR_8_0_4', 'Q_NIR_8_0_5', 'Q_NIR_8_0_6', 'Q_NIR_8_0_7', 'Q_NIR_8_0_8', 'Q_NIR_8_0_9', 'Q_NIR_8_1_0', 'AREA', 'GEOM_R1', 'GEOM_R2', 'GEOM_R3', 'GEOM_R4', 'CONTRUCTIONYEAR', 'MAXBUILDINGFLOOR']\n"
     ]
    }
   ],
   "source": [
    "dis_df_columns = df_minsait.select_dtypes(exclude=np.number).columns.tolist()\n",
    "dis_df_columns.remove('CLASE') #Eliminamos la variable clase\n",
    "number_df_columns = df_minsait.select_dtypes(include=np.number).columns.tolist()\n",
    "\n",
    "print('Discretas: ',dis_df_columns)\n",
    "print('\\nNuméricas: ',number_df_columns)"
   ]
  },
  {
   "cell_type": "code",
   "execution_count": 8,
   "metadata": {},
   "outputs": [],
   "source": [
    "def preprocess_function(functions, df):\n",
    "    [f(df) for f in functions]\n",
    "\n",
    "process_dataframe = []"
   ]
  },
  {
   "cell_type": "code",
   "execution_count": 9,
   "metadata": {},
   "outputs": [],
   "source": [
    "def process_cadastral_quality(df):\n",
    "    dic = {'A': 11, 'B': 10, 'C': 9, '1': 8, '2': 7, '3': 6, '4': 5, '5': 4, '6': 3, '7': 3, '8': 1, '9': 0}\n",
    "    df['CADASTRALQUALITYID'] = df['CADASTRALQUALITYID'].apply(lambda x: dic[x] if x not in [np.NaN] else -1)\n",
    "    return df\n",
    "\n",
    "process_dataframe.append(process_cadastral_quality)"
   ]
  },
  {
   "cell_type": "code",
   "execution_count": 10,
   "metadata": {},
   "outputs": [],
   "source": [
    "dis_df_columns.remove('CADASTRALQUALITYID')\n",
    "number_df_columns.append('CADASTRALQUALITYID')"
   ]
  },
  {
   "cell_type": "code",
   "execution_count": 11,
   "metadata": {},
   "outputs": [],
   "source": [
    "def process_max_building_floor(df):\n",
    "    df['MAXBUILDINGFLOOR'].fillna(-1, inplace=True)\n",
    "    return df\n",
    "\n",
    "process_dataframe.append(process_max_building_floor)"
   ]
  },
  {
   "cell_type": "code",
   "execution_count": 12,
   "metadata": {},
   "outputs": [],
   "source": [
    "#Ahora aplicamos todo el preprocesamiento al dataframe\n",
    "preprocess_function(process_dataframe, df_minsait)"
   ]
  },
  {
   "cell_type": "code",
   "execution_count": 13,
   "metadata": {},
   "outputs": [
    {
     "data": {
      "text/html": [
       "<div>\n",
       "<style scoped>\n",
       "    .dataframe tbody tr th:only-of-type {\n",
       "        vertical-align: middle;\n",
       "    }\n",
       "\n",
       "    .dataframe tbody tr th {\n",
       "        vertical-align: top;\n",
       "    }\n",
       "\n",
       "    .dataframe thead th {\n",
       "        text-align: right;\n",
       "    }\n",
       "</style>\n",
       "<table border=\"1\" class=\"dataframe\">\n",
       "  <thead>\n",
       "    <tr style=\"text-align: right;\">\n",
       "      <th></th>\n",
       "      <th>X</th>\n",
       "      <th>Y</th>\n",
       "      <th>Q_R_4_0_0</th>\n",
       "      <th>Q_R_4_0_1</th>\n",
       "      <th>Q_R_4_0_2</th>\n",
       "      <th>Q_R_4_0_3</th>\n",
       "      <th>Q_R_4_0_4</th>\n",
       "      <th>Q_R_4_0_5</th>\n",
       "      <th>Q_R_4_0_6</th>\n",
       "      <th>Q_R_4_0_7</th>\n",
       "      <th>...</th>\n",
       "      <th>Q_NIR_8_0_9</th>\n",
       "      <th>Q_NIR_8_1_0</th>\n",
       "      <th>AREA</th>\n",
       "      <th>GEOM_R1</th>\n",
       "      <th>GEOM_R2</th>\n",
       "      <th>GEOM_R3</th>\n",
       "      <th>GEOM_R4</th>\n",
       "      <th>CONTRUCTIONYEAR</th>\n",
       "      <th>MAXBUILDINGFLOOR</th>\n",
       "      <th>CADASTRALQUALITYID</th>\n",
       "    </tr>\n",
       "  </thead>\n",
       "  <tbody>\n",
       "    <tr>\n",
       "      <th>count</th>\n",
       "      <td>1.032300e+05</td>\n",
       "      <td>1.032300e+05</td>\n",
       "      <td>1.032300e+05</td>\n",
       "      <td>103230.000000</td>\n",
       "      <td>103230.000000</td>\n",
       "      <td>103230.000000</td>\n",
       "      <td>103230.000000</td>\n",
       "      <td>103230.000000</td>\n",
       "      <td>103230.000000</td>\n",
       "      <td>103230.000000</td>\n",
       "      <td>...</td>\n",
       "      <td>103230.000000</td>\n",
       "      <td>103230.000000</td>\n",
       "      <td>103230.000000</td>\n",
       "      <td>103230.000000</td>\n",
       "      <td>103230.000000</td>\n",
       "      <td>103230.000000</td>\n",
       "      <td>103230.000000</td>\n",
       "      <td>103230.000000</td>\n",
       "      <td>103230.000000</td>\n",
       "      <td>103230.000000</td>\n",
       "    </tr>\n",
       "    <tr>\n",
       "      <th>mean</th>\n",
       "      <td>2.208858e+09</td>\n",
       "      <td>1.655955e+08</td>\n",
       "      <td>4.578804e-05</td>\n",
       "      <td>382.633602</td>\n",
       "      <td>548.659095</td>\n",
       "      <td>684.016575</td>\n",
       "      <td>811.053925</td>\n",
       "      <td>939.978002</td>\n",
       "      <td>1080.127592</td>\n",
       "      <td>1242.841586</td>\n",
       "      <td>...</td>\n",
       "      <td>2738.622278</td>\n",
       "      <td>7748.293927</td>\n",
       "      <td>441.123610</td>\n",
       "      <td>0.563343</td>\n",
       "      <td>0.062482</td>\n",
       "      <td>0.061855</td>\n",
       "      <td>1.074327</td>\n",
       "      <td>1972.552436</td>\n",
       "      <td>3.765785</td>\n",
       "      <td>3.987368</td>\n",
       "    </tr>\n",
       "    <tr>\n",
       "      <th>std</th>\n",
       "      <td>2.751723e+07</td>\n",
       "      <td>2.040199e+05</td>\n",
       "      <td>3.168761e-03</td>\n",
       "      <td>99.470870</td>\n",
       "      <td>121.439858</td>\n",
       "      <td>137.763573</td>\n",
       "      <td>153.486424</td>\n",
       "      <td>169.546408</td>\n",
       "      <td>186.422410</td>\n",
       "      <td>206.993926</td>\n",
       "      <td>...</td>\n",
       "      <td>365.812714</td>\n",
       "      <td>2795.775635</td>\n",
       "      <td>1869.705189</td>\n",
       "      <td>0.174141</td>\n",
       "      <td>0.042849</td>\n",
       "      <td>0.042295</td>\n",
       "      <td>0.541156</td>\n",
       "      <td>22.335987</td>\n",
       "      <td>2.945358</td>\n",
       "      <td>1.452818</td>\n",
       "    </tr>\n",
       "    <tr>\n",
       "      <th>min</th>\n",
       "      <td>2.120751e+09</td>\n",
       "      <td>1.650957e+08</td>\n",
       "      <td>0.000000e+00</td>\n",
       "      <td>151.000375</td>\n",
       "      <td>184.999420</td>\n",
       "      <td>214.000473</td>\n",
       "      <td>239.999503</td>\n",
       "      <td>269.999451</td>\n",
       "      <td>310.999493</td>\n",
       "      <td>382.999844</td>\n",
       "      <td>...</td>\n",
       "      <td>2172.992676</td>\n",
       "      <td>4085.049076</td>\n",
       "      <td>0.038770</td>\n",
       "      <td>0.000626</td>\n",
       "      <td>0.000679</td>\n",
       "      <td>0.000770</td>\n",
       "      <td>0.015157</td>\n",
       "      <td>1820.000000</td>\n",
       "      <td>-1.000000</td>\n",
       "      <td>-1.000000</td>\n",
       "    </tr>\n",
       "    <tr>\n",
       "      <th>25%</th>\n",
       "      <td>2.194235e+09</td>\n",
       "      <td>1.654515e+08</td>\n",
       "      <td>0.000000e+00</td>\n",
       "      <td>316.997635</td>\n",
       "      <td>492.003845</td>\n",
       "      <td>632.999634</td>\n",
       "      <td>753.999597</td>\n",
       "      <td>875.008087</td>\n",
       "      <td>1006.997498</td>\n",
       "      <td>1173.999329</td>\n",
       "      <td>...</td>\n",
       "      <td>2478.998193</td>\n",
       "      <td>6051.309064</td>\n",
       "      <td>97.477454</td>\n",
       "      <td>0.455183</td>\n",
       "      <td>0.038255</td>\n",
       "      <td>0.038153</td>\n",
       "      <td>0.801352</td>\n",
       "      <td>1960.000000</td>\n",
       "      <td>1.000000</td>\n",
       "      <td>3.000000</td>\n",
       "    </tr>\n",
       "    <tr>\n",
       "      <th>50%</th>\n",
       "      <td>2.205985e+09</td>\n",
       "      <td>1.655907e+08</td>\n",
       "      <td>0.000000e+00</td>\n",
       "      <td>385.000995</td>\n",
       "      <td>562.997583</td>\n",
       "      <td>698.003998</td>\n",
       "      <td>833.996582</td>\n",
       "      <td>969.999817</td>\n",
       "      <td>1115.001489</td>\n",
       "      <td>1268.997705</td>\n",
       "      <td>...</td>\n",
       "      <td>2688.000000</td>\n",
       "      <td>6798.207198</td>\n",
       "      <td>171.554907</td>\n",
       "      <td>0.536336</td>\n",
       "      <td>0.055802</td>\n",
       "      <td>0.055036</td>\n",
       "      <td>0.997175</td>\n",
       "      <td>1972.000000</td>\n",
       "      <td>4.000000</td>\n",
       "      <td>4.000000</td>\n",
       "    </tr>\n",
       "    <tr>\n",
       "      <th>75%</th>\n",
       "      <td>2.224105e+09</td>\n",
       "      <td>1.657138e+08</td>\n",
       "      <td>5.786675e-07</td>\n",
       "      <td>445.002853</td>\n",
       "      <td>627.001038</td>\n",
       "      <td>770.001611</td>\n",
       "      <td>904.999988</td>\n",
       "      <td>1042.505188</td>\n",
       "      <td>1200.006226</td>\n",
       "      <td>1348.996033</td>\n",
       "      <td>...</td>\n",
       "      <td>2940.996704</td>\n",
       "      <td>8033.479864</td>\n",
       "      <td>343.563671</td>\n",
       "      <td>0.674723</td>\n",
       "      <td>0.078477</td>\n",
       "      <td>0.078064</td>\n",
       "      <td>1.223456</td>\n",
       "      <td>1989.000000</td>\n",
       "      <td>5.000000</td>\n",
       "      <td>5.000000</td>\n",
       "    </tr>\n",
       "    <tr>\n",
       "      <th>max</th>\n",
       "      <td>2.287300e+09</td>\n",
       "      <td>1.665046e+08</td>\n",
       "      <td>1.016050e+00</td>\n",
       "      <td>833.999402</td>\n",
       "      <td>1016.000732</td>\n",
       "      <td>1200.003003</td>\n",
       "      <td>1377.999927</td>\n",
       "      <td>1570.504517</td>\n",
       "      <td>1806.002686</td>\n",
       "      <td>2175.694824</td>\n",
       "      <td>...</td>\n",
       "      <td>4614.998535</td>\n",
       "      <td>15848.608811</td>\n",
       "      <td>238058.952253</td>\n",
       "      <td>1.000000</td>\n",
       "      <td>1.785714</td>\n",
       "      <td>2.631579</td>\n",
       "      <td>68.812431</td>\n",
       "      <td>2017.000000</td>\n",
       "      <td>25.000000</td>\n",
       "      <td>11.000000</td>\n",
       "    </tr>\n",
       "  </tbody>\n",
       "</table>\n",
       "<p>8 rows × 54 columns</p>\n",
       "</div>"
      ],
      "text/plain": [
       "                  X             Y     Q_R_4_0_0      Q_R_4_0_1      Q_R_4_0_2  \\\n",
       "count  1.032300e+05  1.032300e+05  1.032300e+05  103230.000000  103230.000000   \n",
       "mean   2.208858e+09  1.655955e+08  4.578804e-05     382.633602     548.659095   \n",
       "std    2.751723e+07  2.040199e+05  3.168761e-03      99.470870     121.439858   \n",
       "min    2.120751e+09  1.650957e+08  0.000000e+00     151.000375     184.999420   \n",
       "25%    2.194235e+09  1.654515e+08  0.000000e+00     316.997635     492.003845   \n",
       "50%    2.205985e+09  1.655907e+08  0.000000e+00     385.000995     562.997583   \n",
       "75%    2.224105e+09  1.657138e+08  5.786675e-07     445.002853     627.001038   \n",
       "max    2.287300e+09  1.665046e+08  1.016050e+00     833.999402    1016.000732   \n",
       "\n",
       "           Q_R_4_0_3      Q_R_4_0_4      Q_R_4_0_5      Q_R_4_0_6  \\\n",
       "count  103230.000000  103230.000000  103230.000000  103230.000000   \n",
       "mean      684.016575     811.053925     939.978002    1080.127592   \n",
       "std       137.763573     153.486424     169.546408     186.422410   \n",
       "min       214.000473     239.999503     269.999451     310.999493   \n",
       "25%       632.999634     753.999597     875.008087    1006.997498   \n",
       "50%       698.003998     833.996582     969.999817    1115.001489   \n",
       "75%       770.001611     904.999988    1042.505188    1200.006226   \n",
       "max      1200.003003    1377.999927    1570.504517    1806.002686   \n",
       "\n",
       "           Q_R_4_0_7  ...    Q_NIR_8_0_9    Q_NIR_8_1_0           AREA  \\\n",
       "count  103230.000000  ...  103230.000000  103230.000000  103230.000000   \n",
       "mean     1242.841586  ...    2738.622278    7748.293927     441.123610   \n",
       "std       206.993926  ...     365.812714    2795.775635    1869.705189   \n",
       "min       382.999844  ...    2172.992676    4085.049076       0.038770   \n",
       "25%      1173.999329  ...    2478.998193    6051.309064      97.477454   \n",
       "50%      1268.997705  ...    2688.000000    6798.207198     171.554907   \n",
       "75%      1348.996033  ...    2940.996704    8033.479864     343.563671   \n",
       "max      2175.694824  ...    4614.998535   15848.608811  238058.952253   \n",
       "\n",
       "             GEOM_R1        GEOM_R2        GEOM_R3        GEOM_R4  \\\n",
       "count  103230.000000  103230.000000  103230.000000  103230.000000   \n",
       "mean        0.563343       0.062482       0.061855       1.074327   \n",
       "std         0.174141       0.042849       0.042295       0.541156   \n",
       "min         0.000626       0.000679       0.000770       0.015157   \n",
       "25%         0.455183       0.038255       0.038153       0.801352   \n",
       "50%         0.536336       0.055802       0.055036       0.997175   \n",
       "75%         0.674723       0.078477       0.078064       1.223456   \n",
       "max         1.000000       1.785714       2.631579      68.812431   \n",
       "\n",
       "       CONTRUCTIONYEAR  MAXBUILDINGFLOOR  CADASTRALQUALITYID  \n",
       "count    103230.000000     103230.000000       103230.000000  \n",
       "mean       1972.552436          3.765785            3.987368  \n",
       "std          22.335987          2.945358            1.452818  \n",
       "min        1820.000000         -1.000000           -1.000000  \n",
       "25%        1960.000000          1.000000            3.000000  \n",
       "50%        1972.000000          4.000000            4.000000  \n",
       "75%        1989.000000          5.000000            5.000000  \n",
       "max        2017.000000         25.000000           11.000000  \n",
       "\n",
       "[8 rows x 54 columns]"
      ]
     },
     "execution_count": 13,
     "metadata": {},
     "output_type": "execute_result"
    }
   ],
   "source": [
    "df_minsait.describe()"
   ]
  },
  {
   "cell_type": "markdown",
   "metadata": {},
   "source": [
    "---"
   ]
  },
  {
   "cell_type": "markdown",
   "metadata": {},
   "source": [
    "Ahora vamos a convertir un problema multietiqueta en uno binario, utlizando para esta discriminación la clase mayoritaría **Residencial** y el resto de etiquetas como **No Residencial**."
   ]
  },
  {
   "cell_type": "code",
   "execution_count": 14,
   "metadata": {},
   "outputs": [],
   "source": [
    "df_minsait['SUBCLASE'] = (df_minsait['CLASE'] == 'RESIDENTIAL').astype(int)"
   ]
  },
  {
   "cell_type": "code",
   "execution_count": 15,
   "metadata": {},
   "outputs": [
    {
     "data": {
      "text/html": [
       "<div>\n",
       "<style scoped>\n",
       "    .dataframe tbody tr th:only-of-type {\n",
       "        vertical-align: middle;\n",
       "    }\n",
       "\n",
       "    .dataframe tbody tr th {\n",
       "        vertical-align: top;\n",
       "    }\n",
       "\n",
       "    .dataframe thead th {\n",
       "        text-align: right;\n",
       "    }\n",
       "</style>\n",
       "<table border=\"1\" class=\"dataframe\">\n",
       "  <thead>\n",
       "    <tr style=\"text-align: right;\">\n",
       "      <th></th>\n",
       "      <th>CLASE</th>\n",
       "      <th>SUBCLASE</th>\n",
       "    </tr>\n",
       "    <tr>\n",
       "      <th>ID</th>\n",
       "      <th></th>\n",
       "      <th></th>\n",
       "    </tr>\n",
       "  </thead>\n",
       "  <tbody>\n",
       "    <tr>\n",
       "      <th>35984B9C3E7CD9A1</th>\n",
       "      <td>RESIDENTIAL</td>\n",
       "      <td>1</td>\n",
       "    </tr>\n",
       "    <tr>\n",
       "      <th>F9D04BF6D037F8FB</th>\n",
       "      <td>RESIDENTIAL</td>\n",
       "      <td>1</td>\n",
       "    </tr>\n",
       "    <tr>\n",
       "      <th>B89D5711AFF8C423</th>\n",
       "      <td>RESIDENTIAL</td>\n",
       "      <td>1</td>\n",
       "    </tr>\n",
       "    <tr>\n",
       "      <th>1C3478AC1522E7E4</th>\n",
       "      <td>RESIDENTIAL</td>\n",
       "      <td>1</td>\n",
       "    </tr>\n",
       "    <tr>\n",
       "      <th>4D12AA5009064345</th>\n",
       "      <td>RESIDENTIAL</td>\n",
       "      <td>1</td>\n",
       "    </tr>\n",
       "  </tbody>\n",
       "</table>\n",
       "</div>"
      ],
      "text/plain": [
       "                        CLASE  SUBCLASE\n",
       "ID                                     \n",
       "35984B9C3E7CD9A1  RESIDENTIAL         1\n",
       "F9D04BF6D037F8FB  RESIDENTIAL         1\n",
       "B89D5711AFF8C423  RESIDENTIAL         1\n",
       "1C3478AC1522E7E4  RESIDENTIAL         1\n",
       "4D12AA5009064345  RESIDENTIAL         1"
      ]
     },
     "execution_count": 15,
     "metadata": {},
     "output_type": "execute_result"
    }
   ],
   "source": [
    "df_minsait[df_minsait.columns[-2:]].head()"
   ]
  },
  {
   "cell_type": "code",
   "execution_count": 16,
   "metadata": {},
   "outputs": [
    {
     "data": {
      "text/plain": [
       "(31092, 56)"
      ]
     },
     "metadata": {},
     "output_type": "display_data"
    },
    {
     "data": {
      "text/plain": [
       "RESIDENTIAL    18035\n",
       "INDUSTRIAL      4490\n",
       "PUBLIC          2976\n",
       "RETAIL          2093\n",
       "OFFICE          1828\n",
       "OTHER           1332\n",
       "AGRICULTURE      338\n",
       "Name: CLASE, dtype: int64"
      ]
     },
     "metadata": {},
     "output_type": "display_data"
    }
   ],
   "source": [
    "#Necesitamos balancear las clases en la medida de lo posible sin eliminar la superioridad clara de la clase mayoritaría\n",
    "\n",
    "#Obtenemos una decima parte de los datos de la clase residencial desordenados\n",
    "df_minsait_reduce = df_minsait[df_minsait['CLASE']=='RESIDENTIAL'].sample(frac=0.2, random_state=10)\n",
    "\n",
    "#Concatenamos los datos del resto de etiquetas\n",
    "df_minsait_reduce = df_minsait_reduce.append(df_minsait[df_minsait['CLASE']!='RESIDENTIAL'])\n",
    "\n",
    "display(df_minsait_reduce.shape)\n",
    "\n",
    "display(df_minsait_reduce['CLASE'].value_counts())"
   ]
  },
  {
   "cell_type": "code",
   "execution_count": 17,
   "metadata": {},
   "outputs": [
    {
     "name": "stdout",
     "output_type": "stream",
     "text": [
      "Hay 0.42 de la clase No Residencial\n",
      "Hay 0.58 de la clase Residencial\n"
     ]
    }
   ],
   "source": [
    "print(f\"Hay {np.round((len(df_minsait_reduce[df_minsait_reduce['SUBCLASE']==0]))/len(df_minsait_reduce), 3)} de la clase No Residencial\")\n",
    "print(f\"Hay {np.round(1-(len(df_minsait_reduce[df_minsait_reduce['SUBCLASE']==0]))/len(df_minsait_reduce), 3)} de la clase Residencial\")"
   ]
  },
  {
   "cell_type": "code",
   "execution_count": 18,
   "metadata": {},
   "outputs": [],
   "source": [
    "#Para nuestro primer modelo vamos a usar todas las variables\n",
    "X = df_minsait_reduce[df_minsait_reduce.columns[:-2]].copy()\n",
    "y = df_minsait_reduce['SUBCLASE'].copy()"
   ]
  },
  {
   "cell_type": "code",
   "execution_count": 19,
   "metadata": {},
   "outputs": [],
   "source": [
    "X_train, X_test, y_train, y_test = train_test_split(X, y, test_size=0.3, stratify=y, random_state=10)"
   ]
  },
  {
   "cell_type": "code",
   "execution_count": 20,
   "metadata": {},
   "outputs": [],
   "source": [
    "#Transformación que se le va a aplicar a las columnas numéricas\n",
    "num_transformer = Pipeline([('imputer', SimpleImputer(strategy='median')),\n",
    "                             ('scaler', StandardScaler())])"
   ]
  },
  {
   "cell_type": "code",
   "execution_count": 21,
   "metadata": {},
   "outputs": [],
   "source": [
    "#Transformación que se le va a aplicar a las columnas categóricas\n",
    "cat_transformer = Pipeline([('imputer', SimpleImputer(strategy='constant', fill_value='missing')),\n",
    "                           ('onehot', OneHotEncoder(handle_unknown='ignore'))])"
   ]
  },
  {
   "cell_type": "code",
   "execution_count": 22,
   "metadata": {},
   "outputs": [],
   "source": [
    "#Transformador que se aplica a cada una de las columnas en función a lo declarado previamente\n",
    "df_minsait_trans = ColumnTransformer(transformers=[('num', num_transformer, number_df_columns)])"
   ]
  },
  {
   "cell_type": "code",
   "execution_count": 23,
   "metadata": {},
   "outputs": [
    {
     "name": "stdout",
     "output_type": "stream",
     "text": [
      "Fitting 5 folds for each of 1 candidates, totalling 5 fits\n"
     ]
    },
    {
     "name": "stderr",
     "output_type": "stream",
     "text": [
      "[Parallel(n_jobs=-1)]: Using backend LokyBackend with 16 concurrent workers.\n",
      "[Parallel(n_jobs=-1)]: Done   5 out of   5 | elapsed:   25.3s finished\n"
     ]
    },
    {
     "name": "stdout",
     "output_type": "stream",
     "text": [
      "Mejor score:  0.8519571631633356\n",
      "Mejore configuración de parámetros:  {'clas__max_depth': 20, 'clas__scale_pos_weight': 1}\n"
     ]
    }
   ],
   "source": [
    "import xgboost as xgb\n",
    "rfc_p_model = xgb.XGBClassifier(random_state=10)\n",
    "\n",
    "parameters = {\n",
    "    'clas__max_depth': [20],\n",
    "    'clas__scale_pos_weight': [1]\n",
    "}\n",
    "\n",
    "minsait_pipe_rfc_p = Pipeline(steps=[('prep', df_minsait_trans), ('clas', rfc_p_model)])\n",
    "\n",
    "GSR_p = GridSearchCV(minsait_pipe_rfc_p, parameters, cv=5, n_jobs=-1, scoring='accuracy', refit=True, verbose=1)\n",
    "GSR_p.fit(X_train, y_train)\n",
    "    \n",
    "print(\"Mejor score: \", GSR_p.best_score_)\n",
    "print(\"Mejore configuración de parámetros: \", GSR_p.best_params_)\n",
    "\n",
    "minsait_pipe_rfc_p = GSR_p.best_estimator_"
   ]
  },
  {
   "cell_type": "code",
   "execution_count": 24,
   "metadata": {
    "scrolled": false
   },
   "outputs": [
    {
     "data": {
      "image/png": "[encoded data removed]",
      "text/plain": [
       "<Figure size 432x288 with 2 Axes>"
      ]
     },
     "metadata": {
      "image/png": {
       "height": 269,
       "width": 328
      },
      "needs_background": "light"
     },
     "output_type": "display_data"
    },
    {
     "name": "stdout",
     "output_type": "stream",
     "text": [
      "Resultados\n",
      "Accuracy: 0.85\n"
     ]
    }
   ],
   "source": [
    "y_pred = minsait_pipe_rfc_p.predict(X_test)\n",
    "show_results(y_test, y_pred)"
   ]
  },
  {
   "cell_type": "code",
   "execution_count": null,
   "metadata": {},
   "outputs": [],
   "source": [
    "minsait_pipe_rfc_p['clas'][0].get_depth()"
   ]
  },
  {
   "cell_type": "markdown",
   "metadata": {},
   "source": [
    "3163, 754\n",
    "503, 3555\n",
    "0.842 con todas las variables, max_depth 30 y 500"
   ]
  },
  {
   "cell_type": "code",
   "execution_count": 25,
   "metadata": {},
   "outputs": [
    {
     "data": {
      "text/plain": [
       "(9328, 54)"
      ]
     },
     "execution_count": 25,
     "metadata": {},
     "output_type": "execute_result"
    }
   ],
   "source": [
    "X_test.shape"
   ]
  },
  {
   "cell_type": "code",
   "execution_count": 26,
   "metadata": {},
   "outputs": [],
   "source": [
    "list_ids_no_residential = X_test[y_pred==0].index.tolist()"
   ]
  },
  {
   "cell_type": "code",
   "execution_count": 27,
   "metadata": {},
   "outputs": [
    {
     "data": {
      "text/plain": [
       "(3556, 56)"
      ]
     },
     "execution_count": 27,
     "metadata": {},
     "output_type": "execute_result"
    }
   ],
   "source": [
    "df_no_resident = df_minsait[df_minsait.index.isin(list_ids_no_residential)]\n",
    "df_no_resident.shape"
   ]
  },
  {
   "cell_type": "code",
   "execution_count": 28,
   "metadata": {},
   "outputs": [
    {
     "data": {
      "text/plain": [
       "(99674, 56)"
      ]
     },
     "metadata": {},
     "output_type": "display_data"
    }
   ],
   "source": [
    "df_resident = df_minsait[~df_minsait.index.isin(list_ids_no_residential)]\n",
    "display(df_resident.shape)\n",
    "y_resident = df_resident['CLASE']"
   ]
  },
  {
   "cell_type": "code",
   "execution_count": 29,
   "metadata": {},
   "outputs": [
    {
     "data": {
      "image/png": "[encoded data removed]",
      "text/plain": [
       "<Figure size 864x432 with 1 Axes>"
      ]
     },
     "metadata": {
      "image/png": {
       "height": 378,
       "width": 736
      },
      "needs_background": "light"
     },
     "output_type": "display_data"
    }
   ],
   "source": [
    "plt.figure(figsize=(12,6))\n",
    "sns.countplot(df_no_resident.CLASE, order=list_class_order);"
   ]
  },
  {
   "cell_type": "code",
   "execution_count": 30,
   "metadata": {},
   "outputs": [],
   "source": [
    "import pickle\n",
    "pickle.dump(minsait_pipe_rfc_p, open('./models/binary.pkl', 'wb'))"
   ]
  },
  {
   "cell_type": "markdown",
   "metadata": {},
   "source": [
    "---"
   ]
  },
  {
   "cell_type": "markdown",
   "metadata": {},
   "source": [
    "## Modelo multiclase balanceada"
   ]
  },
  {
   "cell_type": "code",
   "execution_count": 31,
   "metadata": {},
   "outputs": [
    {
     "data": {
      "text/plain": [
       "(14860, 56)"
      ]
     },
     "metadata": {},
     "output_type": "display_data"
    },
    {
     "data": {
      "text/plain": [
       "INDUSTRIAL     4490\n",
       "PUBLIC         2976\n",
       "RETAIL         2093\n",
       "OFFICE         1828\n",
       "RESIDENTIAL    1803\n",
       "OTHER          1332\n",
       "AGRICULTURE     338\n",
       "Name: CLASE, dtype: int64"
      ]
     },
     "metadata": {},
     "output_type": "display_data"
    }
   ],
   "source": [
    "#Obtenemos una decima parte de los datos de la clase residencial desordenados\n",
    "df_minsait_reduce_multi = df_minsait[df_minsait['CLASE']=='RESIDENTIAL'].sample(frac=0.02, random_state=10)\n",
    "\n",
    "#Concatenamos los datos del resto de etiquetas\n",
    "df_minsait_reduce_multi = df_minsait_reduce_multi.append(df_minsait[df_minsait['CLASE']!='RESIDENTIAL'])\n",
    "\n",
    "display(df_minsait_reduce_multi.shape)\n",
    "\n",
    "display(df_minsait_reduce_multi['CLASE'].value_counts())"
   ]
  },
  {
   "cell_type": "code",
   "execution_count": 32,
   "metadata": {},
   "outputs": [
    {
     "name": "stdout",
     "output_type": "stream",
     "text": [
      "Hay 0.121% de la clase RESIDENTIAL\n",
      "Hay 0.302% de la clase INDUSTRIAL\n",
      "Hay 0.2% de la clase PUBLIC\n",
      "Hay 0.123% de la clase OFFICE\n",
      "Hay 0.09% de la clase OTHER\n",
      "Hay 0.141% de la clase RETAIL\n",
      "Hay 0.023% de la clase AGRICULTURE\n"
     ]
    },
    {
     "data": {
      "image/png": "[encoded data removed]",
      "text/plain": [
       "<Figure size 432x288 with 1 Axes>"
      ]
     },
     "metadata": {
      "image/png": {
       "height": 269,
       "width": 401
      },
      "needs_background": "light"
     },
     "output_type": "display_data"
    }
   ],
   "source": [
    "sns.countplot(df_minsait_reduce_multi['CLASE'], order=list_class_order);\n",
    "for c in df_minsait_reduce_multi['CLASE'].unique():\n",
    "    print(f\"Hay {np.round((len(df_minsait_reduce_multi[df_minsait_reduce_multi['CLASE']==c]))/len(df_minsait_reduce_multi), 3)}% de la clase {c}\")"
   ]
  },
  {
   "cell_type": "code",
   "execution_count": 33,
   "metadata": {},
   "outputs": [],
   "source": [
    "#Para nuestro primer modelo vamos a usar todas las variables\n",
    "X = df_minsait_reduce_multi[df_minsait_reduce_multi.columns[:-2]].copy()\n",
    "y = df_minsait_reduce_multi['CLASE'].copy()"
   ]
  },
  {
   "cell_type": "code",
   "execution_count": 34,
   "metadata": {},
   "outputs": [],
   "source": [
    "X_train, X_test, y_train, y_test = train_test_split(X, y, test_size=0.3, stratify=y, random_state=10)"
   ]
  },
  {
   "cell_type": "code",
   "execution_count": 35,
   "metadata": {},
   "outputs": [
    {
     "name": "stdout",
     "output_type": "stream",
     "text": [
      "Fitting 5 folds for each of 2 candidates, totalling 10 fits\n"
     ]
    },
    {
     "name": "stderr",
     "output_type": "stream",
     "text": [
      "[Parallel(n_jobs=-1)]: Using backend LokyBackend with 16 concurrent workers.\n",
      "[Parallel(n_jobs=-1)]: Done  10 out of  10 | elapsed:   11.8s finished\n"
     ]
    },
    {
     "name": "stdout",
     "output_type": "stream",
     "text": [
      "Mejor score:  0.5759477229882084\n",
      "Mejore configuración de parámetros:  {'clas__class_weight': 'balanced', 'clas__criterion': 'gini', 'clas__max_depth': 20, 'clas__n_estimators': 500}\n"
     ]
    }
   ],
   "source": [
    "rfc_p_multi_model = RandomForestClassifier(random_state=10)\n",
    "\n",
    "parameters = {}\n",
    "parameters['clas__max_depth'] = [20] #Quitamos None para que no sobreajuste al conjunto de train y que no pueda hacer la profundidad que el modelo desee. \n",
    "                                               # Lo forzamos a ponerle profundidad, como máximo 30, aunque se podría establecer mayor profundidad pero he decidido que sea esa.\n",
    "parameters['clas__n_estimators'] = [200, 500]\n",
    "parameters['clas__criterion'] = ['gini']\n",
    "parameters['clas__class_weight'] = ['balanced']\n",
    "\n",
    "minsait_pipe_rfc_multi_p = Pipeline(steps=[('prep', df_minsait_trans), ('clas', rfc_p_multi_model)])\n",
    "\n",
    "GSR_p = GridSearchCV(minsait_pipe_rfc_multi_p, parameters, cv=5, n_jobs=-1, scoring='accuracy', refit=True, verbose=1)\n",
    "GSR_p.fit(X_train, y_train)\n",
    "    \n",
    "print(\"Mejor score: \", GSR_p.best_score_)\n",
    "print(\"Mejore configuración de parámetros: \", GSR_p.best_params_)\n",
    "\n",
    "minsait_pipe_rfc_multi_p = GSR_p.best_estimator_"
   ]
  },
  {
   "cell_type": "code",
   "execution_count": 36,
   "metadata": {},
   "outputs": [],
   "source": [
    "y_pred = minsait_pipe_rfc_multi_p.predict(X_test)"
   ]
  },
  {
   "cell_type": "code",
   "execution_count": 37,
   "metadata": {},
   "outputs": [
    {
     "data": {
      "image/png": "[encoded data removed]",
      "text/plain": [
       "<Figure size 576x432 with 2 Axes>"
      ]
     },
     "metadata": {
      "image/png": {
       "height": 454,
       "width": 511
      },
      "needs_background": "light"
     },
     "output_type": "display_data"
    }
   ],
   "source": [
    "plot_confusion_matrix(confusion_matrix(y_test, y_pred), target_names= list_class_order, cmap=plt.cm.Blues, normalize=False)"
   ]
  },
  {
   "cell_type": "code",
   "execution_count": 38,
   "metadata": {},
   "outputs": [],
   "source": [
    "import pickle\n",
    "pickle.dump(minsait_pipe_rfc_multi_p, open('./models/multiclass.pkl', 'wb'))"
   ]
  },
  {
   "cell_type": "markdown",
   "metadata": {},
   "source": [
    "---"
   ]
  },
  {
   "cell_type": "markdown",
   "metadata": {},
   "source": [
    "# Predicción con los dos modelos"
   ]
  },
  {
   "cell_type": "code",
   "execution_count": null,
   "metadata": {},
   "outputs": [],
   "source": [
    "df_no_resident.head() #Es el dataframe resultante de clasificar como no residencial con los fallos incluidos del anteiror modelo"
   ]
  },
  {
   "cell_type": "code",
   "execution_count": null,
   "metadata": {},
   "outputs": [],
   "source": [
    "X_val = df_no_resident[df_no_resident.columns[:-2]].copy()\n",
    "y_val = df_no_resident['CLASE'].copy()"
   ]
  },
  {
   "cell_type": "code",
   "execution_count": null,
   "metadata": {},
   "outputs": [],
   "source": [
    "y_val_pred = minsait_pipe_rfc_multi_p.predict(X_val)"
   ]
  },
  {
   "cell_type": "code",
   "execution_count": null,
   "metadata": {},
   "outputs": [],
   "source": [
    "y_val_pred"
   ]
  },
  {
   "cell_type": "code",
   "execution_count": null,
   "metadata": {},
   "outputs": [],
   "source": [
    "sns.heatmap(confusion_matrix(y_val, y_val_pred), square=True, annot=True, fmt='d', cbar=True, cmap=plt.cm.Blues)\n",
    "plt.ylabel('Clase real')\n",
    "plt.xlabel('Predicción');\n",
    "target_names = y_val.unique()\n",
    "tick_marks = np.arange(len(target_names))\n",
    "plt.xticks(tick_marks, target_names, rotation=45)\n",
    "plt.yticks(tick_marks, target_names, rotation=0)\n",
    "plt.show()\n",
    "print(\"Resultados\")\n",
    "print('Accuracy: {}'.format(round(accuracy_score(y_test, y_pred), 3)))"
   ]
  },
  {
   "cell_type": "code",
   "execution_count": null,
   "metadata": {},
   "outputs": [],
   "source": [
    "# Lo convertimos en serie para tener referenciado el ID\n",
    "y_no_resident = pd.Series(index=X_val.index, data=y_val_pred)"
   ]
  },
  {
   "cell_type": "code",
   "execution_count": null,
   "metadata": {},
   "outputs": [],
   "source": [
    "all_data_pred = y_resident.append(y_no_resident)"
   ]
  },
  {
   "cell_type": "code",
   "execution_count": null,
   "metadata": {},
   "outputs": [],
   "source": [
    "accuracy_score(df_minsait['CLASE'], all_data_pred)"
   ]
  },
  {
   "cell_type": "code",
   "execution_count": null,
   "metadata": {},
   "outputs": [],
   "source": [
    "fig, (ax1, ax2) = plt.subplots(1, 2, figsize=(20,6))\n",
    "sns.countplot(df_minsait['CLASE'], order=list_class_order, ax=ax1, label='REAL');\n",
    "sns.countplot(all_data_pred, order=list_class_order, ax=ax2, label='PREDICHO');\n",
    "ax1.legend()\n",
    "ax2.legend()"
   ]
  },
  {
   "cell_type": "code",
   "execution_count": null,
   "metadata": {},
   "outputs": [],
   "source": [
    "print('-----------------Valores reales---------------')\n",
    "df_minsait['CLASE'].value_counts()"
   ]
  },
  {
   "cell_type": "code",
   "execution_count": null,
   "metadata": {
    "scrolled": false
   },
   "outputs": [],
   "source": [
    "print('-----------------Valores predichos---------------')\n",
    "all_data_pred.value_counts()"
   ]
  },
  {
   "cell_type": "markdown",
   "metadata": {},
   "source": [
    "Hay un problema con los count, ya que pueden no referenciar lo que sucede, por ejemplo un valro que es residencial y se equivoca entonces mejora alguna otra clase, pero realmente es un fallo, por eso sale un 0.76 y no más alto"
   ]
  },
  {
   "cell_type": "code",
   "execution_count": null,
   "metadata": {},
   "outputs": [],
   "source": []
  }
 ],
 "metadata": {
  "kernelspec": {
   "display_name": "Python 3",
   "language": "python",
   "name": "python3"
  },
  "language_info": {
   "codemirror_mode": {
    "name": "ipython",
    "version": 3
   },
   "file_extension": ".py",
   "mimetype": "text/x-python",
   "name": "python",
   "nbconvert_exporter": "python",
   "pygments_lexer": "ipython3",
   "version": "3.7.4"
  }
 },
 "nbformat": 4,
 "nbformat_minor": 2
}
