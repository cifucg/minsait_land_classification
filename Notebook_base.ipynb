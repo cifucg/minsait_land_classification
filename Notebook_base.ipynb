{
 "cells": [
  {
   "cell_type": "code",
   "execution_count": 1,
   "metadata": {
    "colab": {
     "base_uri": "https://localhost:8080/",
     "height": 51
    },
    "colab_type": "code",
    "executionInfo": {
     "elapsed": 1210,
     "status": "ok",
     "timestamp": 1586596686057,
     "user": {
      "displayName": "Manuel Bermúdez",
      "photoUrl": "https://lh3.googleusercontent.com/a-/AOh14GjKgNSSTuC0pom-v--IEAu-172dJG8dEZHW1SdY9A=s64",
      "userId": "00420240342109638220"
     },
     "user_tz": -120
    },
    "id": "YnJoDY3uf_Ud",
    "outputId": "951ce584-8af4-475c-f729-5826e59faed9"
   },
   "outputs": [
    {
     "data": {
      "text/html": [
       "<style>.container { width:80% !important; }</style>"
      ],
      "text/plain": [
       "<IPython.core.display.HTML object>"
      ]
     },
     "metadata": {},
     "output_type": "display_data"
    }
   ],
   "source": [
    "# Librerias para el tratamiento de los datos\n",
    "import pandas as pd\n",
    "import numpy as np\n",
    "import math\n",
    "\n",
    "# Librerias para la graficación de los datost\n",
    "import matplotlib.pyplot as plt\n",
    "import seaborn as sns;\n",
    "sns.set()\n",
    "\n",
    "# Permite que las graficas se generen a mayor resolucion\n",
    "%config InlineBackend.figure_format = 'retina'\n",
    "%matplotlib inline\n",
    "\n",
    "# Permite ignorar los warnings de la libreta al generar algunos modelos\n",
    "import warnings\n",
    "warnings.simplefilter('ignore')\n",
    "\n",
    "# Establece un ancho de libreta mayor\n",
    "from IPython.core.display import display, HTML\n",
    "display(HTML(\"<style>.container { width:80% !important; }</style>\"))\n",
    "\n",
    "# Libreria necesaria para los gráficos interactivos\n",
    "from ipywidgets import interact \n",
    "\n",
    "# Librerias necesarias para el aprendizaje de modelos\n",
    "from imblearn.pipeline import Pipeline\n",
    "from sklearn.preprocessing import StandardScaler, MinMaxScaler\n",
    "from sklearn.impute import SimpleImputer\n",
    "from sklearn.preprocessing import OneHotEncoder\n",
    "from sklearn.compose import ColumnTransformer\n",
    "from imblearn.over_sampling import SMOTE\n",
    "from imblearn.combine import SMOTETomek\n",
    "from sklearn.model_selection import GridSearchCV, train_test_split\n",
    "\n",
    "#Libreria para reducción de dimensionalidad\n",
    "from sklearn.decomposition import PCA\n",
    "\n",
    "#Modelos\n",
    "#import xgboost as xgb\n",
    "from sklearn.tree import DecisionTreeClassifier\n",
    "from sklearn.ensemble import RandomForestClassifier\n",
    "from sklearn.linear_model import LogisticRegression, SGDClassifier\n",
    "from sklearn.neighbors import KNeighborsClassifier\n",
    "\n",
    "#Métricas\n",
    "from sklearn.metrics import accuracy_score, confusion_matrix, classification_report, roc_curve, auc\n",
    "\n",
    "#Medicion de tiempos\n",
    "import time\n",
    "\n",
    "# Pickle\n",
    "import pickle"
   ]
  },
  {
   "cell_type": "code",
   "execution_count": 2,
   "metadata": {
    "colab": {},
    "colab_type": "code",
    "id": "mEfz5lZyoqLK"
   },
   "outputs": [],
   "source": [
    "def show_results(y, y_pred):\n",
    "    sns.heatmap(confusion_matrix(y, y_pred), square=True, annot=True, fmt='d', cbar=True, cmap=plt.cm.Blues)\n",
    "    plt.ylabel('Clase real')\n",
    "    plt.xlabel('Predicción');\n",
    "    plt.gca().set_ylim(2.0, 0)\n",
    "    plt.show()\n",
    "    print(\"Resultados\")\n",
    "    print('Accuracy: {}'.format(round(accuracy_score(y, y_pred), 3)))"
   ]
  },
  {
   "cell_type": "markdown",
   "metadata": {},
   "source": [
    "### Carga de datos"
   ]
  },
  {
   "cell_type": "code",
   "execution_count": 3,
   "metadata": {
    "colab": {},
    "colab_type": "code",
    "id": "i9_9m4NugSAG"
   },
   "outputs": [],
   "source": [
    "df = pd.read_csv('./data/Modelar_UH2020.txt', sep=\"|\", index_col='ID', encoding='utf-8')"
   ]
  },
  {
   "cell_type": "code",
   "execution_count": 4,
   "metadata": {
    "colab": {},
    "colab_type": "code",
    "id": "86TgeYrajZrY"
   },
   "outputs": [],
   "source": [
    "list_class_order = ['RESIDENTIAL', 'PUBLIC', 'RETAIL', 'OFFICE', 'INDUSTRIAL', 'AGRICULTURE', 'OTHER']"
   ]
  },
  {
   "cell_type": "code",
   "execution_count": 5,
   "metadata": {
    "colab": {},
    "colab_type": "code",
    "id": "mFycknpRjbZP"
   },
   "outputs": [],
   "source": [
    "list_preprocess_function = []"
   ]
  },
  {
   "cell_type": "code",
   "execution_count": 6,
   "metadata": {
    "colab": {},
    "colab_type": "code",
    "id": "rY8ScQyzj5sU"
   },
   "outputs": [],
   "source": [
    "def preprocess_data(df, list_preprocess_function):\n",
    "    for func in list_preprocess_function:\n",
    "        df = func(df)\n",
    "    return df"
   ]
  },
  {
   "cell_type": "code",
   "execution_count": 7,
   "metadata": {
    "colab": {
     "base_uri": "https://localhost:8080/",
     "height": 51
    },
    "colab_type": "code",
    "executionInfo": {
     "elapsed": 1675,
     "status": "ok",
     "timestamp": 1586596849870,
     "user": {
      "displayName": "Manuel Bermúdez",
      "photoUrl": "https://lh3.googleusercontent.com/a-/AOh14GjKgNSSTuC0pom-v--IEAu-172dJG8dEZHW1SdY9A=s64",
      "userId": "00420240342109638220"
     },
     "user_tz": -120
    },
    "id": "6HOApxQyiHQi",
    "outputId": "1a121c30-c977-4f15-d8b3-a056a4fb1e13"
   },
   "outputs": [
    {
     "name": "stdout",
     "output_type": "stream",
     "text": [
      "Tamaño del conjunto de datos disponibles:  87745\n",
      "Tamaño del conjunto de nuevos datos:  15485\n"
     ]
    }
   ],
   "source": [
    "X = df.drop(columns=['CLASE']).copy()\n",
    "y = df['CLASE'].copy()\n",
    "\n",
    "X_train, X_val, y_train, y_val = train_test_split(X, y, test_size=0.15, stratify=y, shuffle=True, random_state=10)\n",
    "\n",
    "df_modelar = X_train.merge(y_train, on='ID')\n",
    "df_modelar_new = X_val.merge(y_val, on='ID')\n",
    "\n",
    "print(\"Tamaño del conjunto de datos disponibles: \", len(df_modelar))\n",
    "print(\"Tamaño del conjunto de nuevos datos: \", len(df_modelar_new))"
   ]
  },
  {
   "cell_type": "markdown",
   "metadata": {},
   "source": [
    "## Preprocesamiento de variables"
   ]
  },
  {
   "cell_type": "markdown",
   "metadata": {},
   "source": [
    "Añadimos variables relacionadas con los deciles de cada uno de los distintos colores"
   ]
  },
  {
   "cell_type": "code",
   "execution_count": 8,
   "metadata": {
    "colab": {},
    "colab_type": "code",
    "id": "ehGIb4XliqGP"
   },
   "outputs": [],
   "source": [
    "df_modelar['mean_red'] = df_modelar.loc[:, 'Q_R_4_0_0':'Q_R_4_1_0'].mean(axis=1)\n",
    "df_modelar['mean_green'] = df_modelar.loc[:, 'Q_G_3_0_0':'Q_G_3_1_0'].mean(axis=1)\n",
    "df_modelar['mean_blue'] = df_modelar.loc[:, 'Q_B_2_0_0':'Q_B_2_1_0'].mean(axis=1)\n",
    "df_modelar['mean_nir'] = df_modelar.loc[:, 'Q_NIR_8_0_0':'Q_NIR_8_1_0'].mean(axis=1)"
   ]
  },
  {
   "cell_type": "code",
   "execution_count": 9,
   "metadata": {
    "colab": {},
    "colab_type": "code",
    "id": "5gj6TbMJiwXZ"
   },
   "outputs": [],
   "source": [
    "df_modelar['std_red'] = df_modelar.loc[:, 'Q_R_4_0_0':'Q_R_4_1_0'].std(axis=1)\n",
    "df_modelar['std_green'] = df_modelar.loc[:, 'Q_G_3_0_0':'Q_G_3_1_0'].std(axis=1)\n",
    "df_modelar['std_blue'] = df_modelar.loc[:, 'Q_B_2_0_0':'Q_B_2_1_0'].std(axis=1)\n",
    "df_modelar['std_nir'] = df_modelar.loc[:, 'Q_NIR_8_0_0':'Q_NIR_8_1_0'].std(axis=1)"
   ]
  },
  {
   "cell_type": "markdown",
   "metadata": {},
   "source": [
    "Añadimos variables relacionadas con la distnacia al centro de cada uno de los registros de nuestro conjunto de datos."
   ]
  },
  {
   "cell_type": "code",
   "execution_count": 10,
   "metadata": {
    "colab": {},
    "colab_type": "code",
    "id": "VOBc0pFIkxed"
   },
   "outputs": [],
   "source": [
    "CENTER_X = df_modelar['X'].sum()/len(df_modelar['X'])\n",
    "CENTER_Y = df_modelar['Y'].sum()/len(df_modelar['Y'])"
   ]
  },
  {
   "cell_type": "code",
   "execution_count": 11,
   "metadata": {
    "colab": {},
    "colab_type": "code",
    "id": "A0d8KsIWk7O2"
   },
   "outputs": [],
   "source": [
    "def distance(p0, p1):\n",
    "    return math.sqrt((p0[0] - p1[0])**2 + (p0[1] - p1[1])**2)\n",
    "\n",
    "def process_distance_to_center(df):\n",
    "    df['distance_to_center'] = df.apply(lambda r: distance([r['X'], r['Y']], [CENTER_X, CENTER_Y]), axis=1)\n",
    "    df['distance_to_center'] = df['distance_to_center'] / df['distance_to_center'].max() #Normalizamos 0,1\n",
    "    return df"
   ]
  },
  {
   "cell_type": "code",
   "execution_count": 12,
   "metadata": {
    "colab": {},
    "colab_type": "code",
    "id": "xq3AUolTlV7q"
   },
   "outputs": [],
   "source": [
    "list_preprocess_function.append(process_distance_to_center)"
   ]
  },
  {
   "cell_type": "markdown",
   "metadata": {},
   "source": [
    "Funcion para convertir los datos de la variable _CADASTRALQUALITYID_"
   ]
  },
  {
   "cell_type": "code",
   "execution_count": 13,
   "metadata": {
    "colab": {},
    "colab_type": "code",
    "id": "Y2PPOFrhjwY5"
   },
   "outputs": [],
   "source": [
    "def process_cadastralquality(value):\n",
    "    dic = {'A': 11, 'B': 10, 'C': 9}\n",
    "    if value in dic:\n",
    "        return dic[value]\n",
    "    else:\n",
    "        try:\n",
    "            return 9 - int(value)\n",
    "        except ValueError:\n",
    "            return np.nan\n",
    "        \n",
    "def process_cadastral(df):\n",
    "    df['CADASTRALQUALITYID'] = df['CADASTRALQUALITYID'].apply(process_cadastralquality)\n",
    "    return df"
   ]
  },
  {
   "cell_type": "code",
   "execution_count": 14,
   "metadata": {
    "colab": {},
    "colab_type": "code",
    "id": "-1r6STwBi0uD"
   },
   "outputs": [],
   "source": [
    "list_preprocess_function.append(process_cadastral)"
   ]
  },
  {
   "cell_type": "markdown",
   "metadata": {},
   "source": [
    "Entrenamiento de un _KNeighborsClassifier_"
   ]
  },
  {
   "cell_type": "code",
   "execution_count": 15,
   "metadata": {
    "colab": {},
    "colab_type": "code",
    "id": "MCUBor9blvgh"
   },
   "outputs": [
    {
     "data": {
      "text/plain": [
       "KNeighborsClassifier(algorithm='auto', leaf_size=30, metric='minkowski',\n",
       "                     metric_params=None, n_jobs=None, n_neighbors=5, p=2,\n",
       "                     weights='uniform')"
      ]
     },
     "execution_count": 15,
     "metadata": {},
     "output_type": "execute_result"
    }
   ],
   "source": [
    "X = df_modelar[['X', 'Y']].copy()\n",
    "y = df_modelar['CLASE'].copy()\n",
    "\n",
    "w = []\n",
    "X_train, X_test, y_train, y_test = train_test_split(X, y, test_size=0.3, stratify=y, random_state=10)\n",
    "n = 5\n",
    "neigh = KNeighborsClassifier(n_neighbors=n, weights='uniform')\n",
    "neigh.fit(X, y)"
   ]
  },
  {
   "cell_type": "code",
   "execution_count": null,
   "metadata": {
    "colab": {},
    "colab_type": "code",
    "id": "n4mKMSHZoLzO"
   },
   "outputs": [],
   "source": [
    "#pickle.dump(neigh, open('/content/drive/My Drive/knn_MBM.model', 'wb'))"
   ]
  },
  {
   "cell_type": "markdown",
   "metadata": {},
   "source": [
    "Funcion para calcular las variables _contexto_"
   ]
  },
  {
   "cell_type": "code",
   "execution_count": 16,
   "metadata": {
    "colab": {},
    "colab_type": "code",
    "id": "kZTasgr6mtnp"
   },
   "outputs": [],
   "source": [
    "def process_neihgbours(df):\n",
    "    predict = neigh.predict_proba(df[['X', 'Y']])\n",
    "    aux = pd.DataFrame(predict*n, columns=[ 'N_'+c for c in neigh.classes_ ], index=df.index)\n",
    "    df = df.merge(aux, on='ID', how='inner')\n",
    "    df.drop(columns=['X', 'Y'], inplace=True)\n",
    "    return df"
   ]
  },
  {
   "cell_type": "code",
   "execution_count": 17,
   "metadata": {
    "colab": {},
    "colab_type": "code",
    "id": "W9SfvAfznBIZ"
   },
   "outputs": [],
   "source": [
    "list_preprocess_function.append(process_neihgbours)"
   ]
  },
  {
   "cell_type": "markdown",
   "metadata": {},
   "source": [
    "## Procesamiento de los outliers"
   ]
  },
  {
   "cell_type": "code",
   "execution_count": 18,
   "metadata": {
    "colab": {},
    "colab_type": "code",
    "id": "v0IiEZlHnGLy"
   },
   "outputs": [],
   "source": [
    "data = df_modelar.groupby('CLASE')\n",
    "d = {}\n",
    "aux_without_outliers = []\n",
    "for name, group in data:\n",
    "    d[name] = len(group[group['AREA']> group['AREA'].quantile(0.75)])\n",
    "    group = group[group['AREA'] < group['AREA'].quantile(0.75)]\n",
    "    aux_without_outliers.append(group.reset_index())"
   ]
  },
  {
   "cell_type": "code",
   "execution_count": 19,
   "metadata": {
    "colab": {},
    "colab_type": "code",
    "id": "POXitKBCnGK3"
   },
   "outputs": [],
   "source": [
    "df_aux_without_outliers = pd.concat(aux_without_outliers).set_index('ID').sample(frac=1, random_state=10)"
   ]
  },
  {
   "cell_type": "code",
   "execution_count": 20,
   "metadata": {
    "colab": {},
    "colab_type": "code",
    "id": "TKcN7kfnnGHK"
   },
   "outputs": [
    {
     "data": {
      "text/plain": [
       "RESIDENTIAL    57485\n",
       "INDUSTRIAL      2862\n",
       "PUBLIC          1897\n",
       "RETAIL          1334\n",
       "OFFICE          1165\n",
       "OTHER            849\n",
       "AGRICULTURE      215\n",
       "Name: CLASE, dtype: int64"
      ]
     },
     "execution_count": 20,
     "metadata": {},
     "output_type": "execute_result"
    }
   ],
   "source": [
    "df_aux_without_outliers['CLASE'].value_counts()"
   ]
  },
  {
   "cell_type": "code",
   "execution_count": 21,
   "metadata": {
    "colab": {},
    "colab_type": "code",
    "id": "3N5KK6_BnF-0"
   },
   "outputs": [
    {
     "data": {
      "text/plain": [
       "{'AGRICULTURE': 72,\n",
       " 'INDUSTRIAL': 954,\n",
       " 'OFFICE': 389,\n",
       " 'OTHER': 283,\n",
       " 'PUBLIC': 633,\n",
       " 'RESIDENTIAL': 19162,\n",
       " 'RETAIL': 445}"
      ]
     },
     "execution_count": 21,
     "metadata": {},
     "output_type": "execute_result"
    }
   ],
   "source": [
    "d"
   ]
  },
  {
   "cell_type": "code",
   "execution_count": 22,
   "metadata": {},
   "outputs": [
    {
     "data": {
      "text/plain": [
       "count    65807.000000\n",
       "mean       176.311884\n",
       "std        204.271353\n",
       "min          0.062300\n",
       "25%         80.915746\n",
       "50%        128.961050\n",
       "75%        203.517860\n",
       "max       2758.023028\n",
       "Name: AREA, dtype: float64"
      ]
     },
     "execution_count": 22,
     "metadata": {},
     "output_type": "execute_result"
    }
   ],
   "source": [
    "df_aux_without_outliers['AREA'].describe()"
   ]
  },
  {
   "cell_type": "code",
   "execution_count": 23,
   "metadata": {
    "scrolled": true
   },
   "outputs": [
    {
     "data": {
      "image/png": "[encoded data removed]",
      "text/plain": [
       "<Figure size 864x432 with 1 Axes>"
      ]
     },
     "metadata": {
      "image/png": {
       "height": 355,
       "width": 727
      },
      "needs_background": "light"
     },
     "output_type": "display_data"
    },
    {
     "data": {
      "image/png": "[encoded data removed]",
      "text/plain": [
       "<Figure size 864x432 with 1 Axes>"
      ]
     },
     "metadata": {
      "image/png": {
       "height": 355,
       "width": 727
      },
      "needs_background": "light"
     },
     "output_type": "display_data"
    },
    {
     "data": {
      "image/png": "[encoded data removed]",
      "text/plain": [
       "<Figure size 864x432 with 1 Axes>"
      ]
     },
     "metadata": {
      "image/png": {
       "height": 355,
       "width": 733
      },
      "needs_background": "light"
     },
     "output_type": "display_data"
    },
    {
     "data": {
      "image/png": "[encoded data removed]",
      "text/plain": [
       "<Figure size 864x432 with 1 Axes>"
      ]
     },
     "metadata": {
      "image/png": {
       "height": 355,
       "width": 733
      },
      "needs_background": "light"
     },
     "output_type": "display_data"
    },
    {
     "data": {
      "image/png": "[encoded data removed]",
      "text/plain": [
       "<Figure size 864x432 with 1 Axes>"
      ]
     },
     "metadata": {
      "image/png": {
       "height": 355,
       "width": 733
      },
      "needs_background": "light"
     },
     "output_type": "display_data"
    },
    {
     "data": {
      "image/png": "[encoded data removed]",
      "text/plain": [
       "<Figure size 864x432 with 1 Axes>"
      ]
     },
     "metadata": {
      "image/png": {
       "height": 355,
       "width": 727
      },
      "needs_background": "light"
     },
     "output_type": "display_data"
    },
    {
     "data": {
      "image/png": "[encoded data removed]",
      "text/plain": [
       "<Figure size 864x432 with 1 Axes>"
      ]
     },
     "metadata": {
      "image/png": {
       "height": 355,
       "width": 727
      },
      "needs_background": "light"
     },
     "output_type": "display_data"
    }
   ],
   "source": [
    "data = df_aux_without_outliers.groupby('CLASE')\n",
    "for name, group in data:\n",
    "    plt.figure(figsize=(12,6))\n",
    "    sns.boxplot(group['AREA'], orient='vertical')\n",
    "    plt.title(name)"
   ]
  },
  {
   "cell_type": "code",
   "execution_count": 24,
   "metadata": {},
   "outputs": [],
   "source": [
    "df_modelar = df_aux_without_outliers.copy()"
   ]
  },
  {
   "cell_type": "code",
   "execution_count": 25,
   "metadata": {
    "colab": {},
    "colab_type": "code",
    "id": "j2he_dK9jy9Z"
   },
   "outputs": [
    {
     "name": "stdout",
     "output_type": "stream",
     "text": [
      "\n",
      "Pasos de preprocesamiento: \n",
      "\t 0: process_distance_to_center\n",
      "\t 1: process_cadastral\n",
      "\t 2: process_neihgbours\n"
     ]
    }
   ],
   "source": [
    "print(\"\\nPasos de preprocesamiento: \")\n",
    "for step, function in enumerate(list_preprocess_function):\n",
    "    print(\"\\t {:d}: {:s}\".format(step, function.__name__))"
   ]
  },
  {
   "cell_type": "code",
   "execution_count": 27,
   "metadata": {
    "colab": {},
    "colab_type": "code",
    "id": "s75rGwTanF6b"
   },
   "outputs": [],
   "source": [
    "df_modelar = preprocess_data(df_modelar, list_preprocess_function)"
   ]
  },
  {
   "cell_type": "code",
   "execution_count": 28,
   "metadata": {},
   "outputs": [
    {
     "data": {
      "text/html": [
       "<div>\n",
       "<style scoped>\n",
       "    .dataframe tbody tr th:only-of-type {\n",
       "        vertical-align: middle;\n",
       "    }\n",
       "\n",
       "    .dataframe tbody tr th {\n",
       "        vertical-align: top;\n",
       "    }\n",
       "\n",
       "    .dataframe thead th {\n",
       "        text-align: right;\n",
       "    }\n",
       "</style>\n",
       "<table border=\"1\" class=\"dataframe\">\n",
       "  <thead>\n",
       "    <tr style=\"text-align: right;\">\n",
       "      <th></th>\n",
       "      <th>Q_R_4_0_0</th>\n",
       "      <th>Q_R_4_0_1</th>\n",
       "      <th>Q_R_4_0_2</th>\n",
       "      <th>Q_R_4_0_3</th>\n",
       "      <th>Q_R_4_0_4</th>\n",
       "      <th>Q_R_4_0_5</th>\n",
       "      <th>Q_R_4_0_6</th>\n",
       "      <th>Q_R_4_0_7</th>\n",
       "      <th>Q_R_4_0_8</th>\n",
       "      <th>Q_R_4_0_9</th>\n",
       "      <th>...</th>\n",
       "      <th>std_blue</th>\n",
       "      <th>std_nir</th>\n",
       "      <th>distance_to_center</th>\n",
       "      <th>N_AGRICULTURE</th>\n",
       "      <th>N_INDUSTRIAL</th>\n",
       "      <th>N_OFFICE</th>\n",
       "      <th>N_OTHER</th>\n",
       "      <th>N_PUBLIC</th>\n",
       "      <th>N_RESIDENTIAL</th>\n",
       "      <th>N_RETAIL</th>\n",
       "    </tr>\n",
       "    <tr>\n",
       "      <th>ID</th>\n",
       "      <th></th>\n",
       "      <th></th>\n",
       "      <th></th>\n",
       "      <th></th>\n",
       "      <th></th>\n",
       "      <th></th>\n",
       "      <th></th>\n",
       "      <th></th>\n",
       "      <th></th>\n",
       "      <th></th>\n",
       "      <th></th>\n",
       "      <th></th>\n",
       "      <th></th>\n",
       "      <th></th>\n",
       "      <th></th>\n",
       "      <th></th>\n",
       "      <th></th>\n",
       "      <th></th>\n",
       "      <th></th>\n",
       "      <th></th>\n",
       "      <th></th>\n",
       "    </tr>\n",
       "  </thead>\n",
       "  <tbody>\n",
       "    <tr>\n",
       "      <th>306803655F285386</th>\n",
       "      <td>0.00000</td>\n",
       "      <td>388.001147</td>\n",
       "      <td>584.004370</td>\n",
       "      <td>743.997858</td>\n",
       "      <td>891.000598</td>\n",
       "      <td>1042.505188</td>\n",
       "      <td>1201.999268</td>\n",
       "      <td>1378.998694</td>\n",
       "      <td>1613.997559</td>\n",
       "      <td>1969.295251</td>\n",
       "      <td>...</td>\n",
       "      <td>696.885778</td>\n",
       "      <td>2960.096492</td>\n",
       "      <td>0.218601</td>\n",
       "      <td>0.0</td>\n",
       "      <td>0.0</td>\n",
       "      <td>0.0</td>\n",
       "      <td>0.0</td>\n",
       "      <td>0.0</td>\n",
       "      <td>5.0</td>\n",
       "      <td>0.0</td>\n",
       "    </tr>\n",
       "    <tr>\n",
       "      <th>580642E08F1D7033</th>\n",
       "      <td>0.00000</td>\n",
       "      <td>326.004053</td>\n",
       "      <td>514.001172</td>\n",
       "      <td>671.001691</td>\n",
       "      <td>819.998169</td>\n",
       "      <td>963.002045</td>\n",
       "      <td>1110.996777</td>\n",
       "      <td>1276.998474</td>\n",
       "      <td>1486.999927</td>\n",
       "      <td>1816.105042</td>\n",
       "      <td>...</td>\n",
       "      <td>455.411465</td>\n",
       "      <td>1527.577626</td>\n",
       "      <td>0.127689</td>\n",
       "      <td>0.0</td>\n",
       "      <td>0.0</td>\n",
       "      <td>0.0</td>\n",
       "      <td>0.0</td>\n",
       "      <td>0.0</td>\n",
       "      <td>5.0</td>\n",
       "      <td>0.0</td>\n",
       "    </tr>\n",
       "    <tr>\n",
       "      <th>FABA82816B5A558C</th>\n",
       "      <td>0.00000</td>\n",
       "      <td>230.000186</td>\n",
       "      <td>378.405115</td>\n",
       "      <td>523.001740</td>\n",
       "      <td>646.000208</td>\n",
       "      <td>773.012451</td>\n",
       "      <td>915.998193</td>\n",
       "      <td>1080.996216</td>\n",
       "      <td>1303.997827</td>\n",
       "      <td>1658.997327</td>\n",
       "      <td>...</td>\n",
       "      <td>345.091585</td>\n",
       "      <td>1579.860295</td>\n",
       "      <td>0.357959</td>\n",
       "      <td>0.0</td>\n",
       "      <td>0.0</td>\n",
       "      <td>0.0</td>\n",
       "      <td>0.0</td>\n",
       "      <td>0.0</td>\n",
       "      <td>5.0</td>\n",
       "      <td>0.0</td>\n",
       "    </tr>\n",
       "    <tr>\n",
       "      <th>9E99E9965AED7767</th>\n",
       "      <td>0.00000</td>\n",
       "      <td>499.700449</td>\n",
       "      <td>678.003564</td>\n",
       "      <td>806.003247</td>\n",
       "      <td>922.999207</td>\n",
       "      <td>1040.998291</td>\n",
       "      <td>1162.994458</td>\n",
       "      <td>1308.004126</td>\n",
       "      <td>1501.995020</td>\n",
       "      <td>1794.301233</td>\n",
       "      <td>...</td>\n",
       "      <td>480.120841</td>\n",
       "      <td>1667.133138</td>\n",
       "      <td>0.098528</td>\n",
       "      <td>0.0</td>\n",
       "      <td>0.0</td>\n",
       "      <td>0.0</td>\n",
       "      <td>0.0</td>\n",
       "      <td>0.0</td>\n",
       "      <td>5.0</td>\n",
       "      <td>0.0</td>\n",
       "    </tr>\n",
       "    <tr>\n",
       "      <th>353B67F8CD4EED73</th>\n",
       "      <td>0.00002</td>\n",
       "      <td>778.999207</td>\n",
       "      <td>960.998657</td>\n",
       "      <td>1105.999939</td>\n",
       "      <td>1247.002563</td>\n",
       "      <td>1404.001709</td>\n",
       "      <td>1576.000854</td>\n",
       "      <td>1767.000549</td>\n",
       "      <td>1999.000610</td>\n",
       "      <td>2343.000122</td>\n",
       "      <td>...</td>\n",
       "      <td>644.900447</td>\n",
       "      <td>1639.235546</td>\n",
       "      <td>0.200964</td>\n",
       "      <td>0.0</td>\n",
       "      <td>4.0</td>\n",
       "      <td>0.0</td>\n",
       "      <td>0.0</td>\n",
       "      <td>0.0</td>\n",
       "      <td>1.0</td>\n",
       "      <td>0.0</td>\n",
       "    </tr>\n",
       "  </tbody>\n",
       "</table>\n",
       "<p>5 rows × 69 columns</p>\n",
       "</div>"
      ],
      "text/plain": [
       "                  Q_R_4_0_0   Q_R_4_0_1   Q_R_4_0_2    Q_R_4_0_3    Q_R_4_0_4  \\\n",
       "ID                                                                              \n",
       "306803655F285386    0.00000  388.001147  584.004370   743.997858   891.000598   \n",
       "580642E08F1D7033    0.00000  326.004053  514.001172   671.001691   819.998169   \n",
       "FABA82816B5A558C    0.00000  230.000186  378.405115   523.001740   646.000208   \n",
       "9E99E9965AED7767    0.00000  499.700449  678.003564   806.003247   922.999207   \n",
       "353B67F8CD4EED73    0.00002  778.999207  960.998657  1105.999939  1247.002563   \n",
       "\n",
       "                    Q_R_4_0_5    Q_R_4_0_6    Q_R_4_0_7    Q_R_4_0_8  \\\n",
       "ID                                                                     \n",
       "306803655F285386  1042.505188  1201.999268  1378.998694  1613.997559   \n",
       "580642E08F1D7033   963.002045  1110.996777  1276.998474  1486.999927   \n",
       "FABA82816B5A558C   773.012451   915.998193  1080.996216  1303.997827   \n",
       "9E99E9965AED7767  1040.998291  1162.994458  1308.004126  1501.995020   \n",
       "353B67F8CD4EED73  1404.001709  1576.000854  1767.000549  1999.000610   \n",
       "\n",
       "                    Q_R_4_0_9  ...    std_blue      std_nir  \\\n",
       "ID                             ...                            \n",
       "306803655F285386  1969.295251  ...  696.885778  2960.096492   \n",
       "580642E08F1D7033  1816.105042  ...  455.411465  1527.577626   \n",
       "FABA82816B5A558C  1658.997327  ...  345.091585  1579.860295   \n",
       "9E99E9965AED7767  1794.301233  ...  480.120841  1667.133138   \n",
       "353B67F8CD4EED73  2343.000122  ...  644.900447  1639.235546   \n",
       "\n",
       "                  distance_to_center  N_AGRICULTURE  N_INDUSTRIAL  N_OFFICE  \\\n",
       "ID                                                                            \n",
       "306803655F285386            0.218601            0.0           0.0       0.0   \n",
       "580642E08F1D7033            0.127689            0.0           0.0       0.0   \n",
       "FABA82816B5A558C            0.357959            0.0           0.0       0.0   \n",
       "9E99E9965AED7767            0.098528            0.0           0.0       0.0   \n",
       "353B67F8CD4EED73            0.200964            0.0           4.0       0.0   \n",
       "\n",
       "                  N_OTHER  N_PUBLIC  N_RESIDENTIAL  N_RETAIL  \n",
       "ID                                                            \n",
       "306803655F285386      0.0       0.0            5.0       0.0  \n",
       "580642E08F1D7033      0.0       0.0            5.0       0.0  \n",
       "FABA82816B5A558C      0.0       0.0            5.0       0.0  \n",
       "9E99E9965AED7767      0.0       0.0            5.0       0.0  \n",
       "353B67F8CD4EED73      0.0       0.0            1.0       0.0  \n",
       "\n",
       "[5 rows x 69 columns]"
      ]
     },
     "execution_count": 28,
     "metadata": {},
     "output_type": "execute_result"
    }
   ],
   "source": [
    "df_modelar.head()"
   ]
  },
  {
   "cell_type": "markdown",
   "metadata": {},
   "source": [
    "### Pipelines"
   ]
  },
  {
   "cell_type": "code",
   "execution_count": 29,
   "metadata": {
    "colab": {},
    "colab_type": "code",
    "id": "wxHDOq13npBL"
   },
   "outputs": [
    {
     "name": "stdout",
     "output_type": "stream",
     "text": [
      "\n",
      "- \u001b[1mVariables numéricas\u001b[0m:  ['Q_R_4_0_0', 'Q_R_4_0_1', 'Q_R_4_0_2', 'Q_R_4_0_3', 'Q_R_4_0_4', 'Q_R_4_0_5', 'Q_R_4_0_6', 'Q_R_4_0_7', 'Q_R_4_0_8', 'Q_R_4_0_9', 'Q_R_4_1_0', 'Q_G_3_0_0', 'Q_G_3_0_1', 'Q_G_3_0_2', 'Q_G_3_0_3', 'Q_G_3_0_4', 'Q_G_3_0_5', 'Q_G_3_0_6', 'Q_G_3_0_7', 'Q_G_3_0_8', 'Q_G_3_0_9', 'Q_G_3_1_0', 'Q_B_2_0_0', 'Q_B_2_0_1', 'Q_B_2_0_2', 'Q_B_2_0_3', 'Q_B_2_0_4', 'Q_B_2_0_5', 'Q_B_2_0_6', 'Q_B_2_0_7', 'Q_B_2_0_8', 'Q_B_2_0_9', 'Q_B_2_1_0', 'Q_NIR_8_0_0', 'Q_NIR_8_0_1', 'Q_NIR_8_0_2', 'Q_NIR_8_0_3', 'Q_NIR_8_0_4', 'Q_NIR_8_0_5', 'Q_NIR_8_0_6', 'Q_NIR_8_0_7', 'Q_NIR_8_0_8', 'Q_NIR_8_0_9', 'Q_NIR_8_1_0', 'AREA', 'GEOM_R1', 'GEOM_R2', 'GEOM_R3', 'GEOM_R4', 'CONTRUCTIONYEAR', 'MAXBUILDINGFLOOR', 'CADASTRALQUALITYID', 'mean_red', 'mean_green', 'mean_blue', 'mean_nir', 'std_red', 'std_green', 'std_blue', 'std_nir', 'distance_to_center', 'N_AGRICULTURE', 'N_INDUSTRIAL', 'N_OFFICE', 'N_OTHER', 'N_PUBLIC', 'N_RESIDENTIAL', 'N_RETAIL']\n"
     ]
    }
   ],
   "source": [
    "number_df_columns = df_modelar.select_dtypes(include=np.number).columns.tolist()\n",
    "\n",
    "print('\\n- \\033[1mVariables numéricas\\033[0m: ',number_df_columns)"
   ]
  },
  {
   "cell_type": "code",
   "execution_count": 30,
   "metadata": {
    "colab": {},
    "colab_type": "code",
    "id": "Ybnohlq0nbaP"
   },
   "outputs": [],
   "source": [
    "#Transformación que se le va a aplicar a las columnas numéricas\n",
    "num_transformer = Pipeline([('imputer', SimpleImputer(strategy='constant', fill_value=-1)),\n",
    "                             ('scaler', StandardScaler())])"
   ]
  },
  {
   "cell_type": "code",
   "execution_count": 31,
   "metadata": {
    "colab": {},
    "colab_type": "code",
    "id": "ZROquTpRndRC"
   },
   "outputs": [],
   "source": [
    "#Transformación que se le aplicaría a las columnas categóricas, en el caso de que existan\n",
    "cat_transformer = Pipeline([('imputer', SimpleImputer(strategy='constant', fill_value='missing')),\n",
    "                           ('onehot', OneHotEncoder(handle_unknown='ignore'))])"
   ]
  },
  {
   "cell_type": "code",
   "execution_count": 32,
   "metadata": {
    "colab": {},
    "colab_type": "code",
    "id": "vMEC8fLMne-o"
   },
   "outputs": [],
   "source": [
    "#Transformador que se aplica a cada una de las columnas en función a lo declarado previamente\n",
    "df_modelar_trans = ColumnTransformer(transformers=[('num', num_transformer, number_df_columns)])"
   ]
  },
  {
   "cell_type": "markdown",
   "metadata": {
    "colab_type": "text",
    "id": "EEBPW-01oWCb"
   },
   "source": [
    "## Modelo Binario"
   ]
  },
  {
   "cell_type": "code",
   "execution_count": 33,
   "metadata": {
    "colab": {},
    "colab_type": "code",
    "id": "GLB4YUdfoVkT"
   },
   "outputs": [],
   "source": [
    "df_modelar['SUBCLASE'] = (df_modelar['CLASE'] == 'RESIDENTIAL').astype(int)"
   ]
  },
  {
   "cell_type": "code",
   "execution_count": null,
   "metadata": {
    "colab": {},
    "colab_type": "code",
    "id": "cj72T25Zob1S"
   },
   "outputs": [],
   "source": [
    "#Para nuestro primer modelo vamos a usar todas las variables\n",
    "X = df_modelar.drop(columns=['CLASE', 'SUBCLASE']).copy()\n",
    "y = df_modelar['SUBCLASE'].copy()\n",
    "\n",
    "X_train, X_test, y_train, y_test = train_test_split(X, y, test_size=0.3, stratify=y, random_state=10)"
   ]
  },
  {
   "cell_type": "code",
   "execution_count": null,
   "metadata": {
    "colab": {},
    "colab_type": "code",
    "id": "CloAgtSloeOn"
   },
   "outputs": [],
   "source": [
    "rfc_p_model = xgb.XGBClassifier(random_state=10)\n",
    "underSampling = RandomUnderSampler('majority', random_state=10)\n",
    "smote = SMOTE('auto', random_state=10)\n",
    "\n",
    "parameters = {\n",
    "    'clas__max_depth': [10]\n",
    "}\n",
    "\n",
    "minsait_pipe_rfc_p = Pipeline(steps=[('prep', df_minsait_trans), ('smt', smote), ('clas', rfc_p_model)])\n",
    "\n",
    "GSR_p = GridSearchCV(minsait_pipe_rfc_p, parameters, cv=5, n_jobs=-1, scoring='f1', refit=True, verbose=1)\n",
    "GSR_p.fit(X_train, y_train)\n",
    "    \n",
    "print(\"Mejor score: \", GSR_p.best_score_)\n",
    "print(\"Mejore configuración de parámetros: \", GSR_p.best_params_)\n",
    "\n",
    "minsait_pipe_rfc_p = GSR_p.best_estimator_"
   ]
  },
  {
   "cell_type": "code",
   "execution_count": null,
   "metadata": {
    "colab": {},
    "colab_type": "code",
    "id": "OxoAqKeUotGP"
   },
   "outputs": [],
   "source": [
    "y_pred = minsait_pipe_rfc_p.predict(X_test)\n",
    "show_results(y_test, y_pred)\n",
    "print(classification_report(y_test, y_pred))"
   ]
  },
  {
   "cell_type": "code",
   "execution_count": null,
   "metadata": {
    "colab": {},
    "colab_type": "code",
    "id": "a-yUrfx3ow8q"
   },
   "outputs": [],
   "source": [
    "importances = minsait_pipe_rfc_p['clas'].feature_importances_\n",
    "# Extrae los índices ordenados de menor a mayor\n",
    "ranking = np.argsort(importances)\n",
    "\n",
    "#Ahora que hemos obtenido las importancias de las variables y su ranking, vamos a dibujarlo\n",
    "plt.figure(figsize=(28,20))\n",
    "plt.barh(range(df_modelar.shape[1]-2), importances[ranking],color=sns.diverging_palette(220, 20, n=55),align='center')\n",
    "plt.yticks(range(df_modelar.shape[1]-2), X_test.columns[ranking], fontsize=9)\n",
    "plt.show()"
   ]
  },
  {
   "cell_type": "code",
   "execution_count": null,
   "metadata": {
    "colab": {},
    "colab_type": "code",
    "id": "e2-1ryU3ozLz"
   },
   "outputs": [],
   "source": [
    "pickle.dump(minsait_pipe_rfc_p, open('/content/drive/My Drive/binary_xgboost_MBM.model', 'wb'))"
   ]
  },
  {
   "cell_type": "markdown",
   "metadata": {
    "colab_type": "text",
    "id": "Zc_UcTJGo0pn"
   },
   "source": [
    "### Modelo Multietiqueta"
   ]
  },
  {
   "cell_type": "code",
   "execution_count": null,
   "metadata": {
    "colab": {},
    "colab_type": "code",
    "id": "FyraQmOyo2Gk"
   },
   "outputs": [],
   "source": [
    "y_pred_train = minsait_pipe_rfc_p.predict(X_train)"
   ]
  },
  {
   "cell_type": "code",
   "execution_count": null,
   "metadata": {
    "colab": {},
    "colab_type": "code",
    "id": "eExnfyI0o6A1"
   },
   "outputs": [],
   "source": [
    "X_multi = df_modelar.loc[X_train[y_pred_train==0].index.tolist()].drop(columns=['CLASE', 'SUBCLASE']).copy()\n",
    "y_multi = df_modelar.loc[X_train[y_pred_train==0].index.tolist()]['CLASE'].copy()"
   ]
  },
  {
   "cell_type": "code",
   "execution_count": null,
   "metadata": {
    "colab": {},
    "colab_type": "code",
    "id": "d8CtMSLDpfZ6"
   },
   "outputs": [],
   "source": [
    "y_multi.value_counts()"
   ]
  },
  {
   "cell_type": "code",
   "execution_count": null,
   "metadata": {
    "colab": {},
    "colab_type": "code",
    "id": "2Xm2grrepiHc"
   },
   "outputs": [],
   "source": [
    "X_train_multi, X_test_multi, y_train_multi, y_test_multi = train_test_split(X_multi, y_multi, test_size=0.3, random_state=10)\n",
    "#smt = SMOTE('not majority', random_state=10)"
   ]
  },
  {
   "cell_type": "code",
   "execution_count": null,
   "metadata": {
    "colab": {},
    "colab_type": "code",
    "id": "T5MhhXToplmI"
   },
   "outputs": [],
   "source": [
    "model = RandomForestClassifier(random_state=10)\n",
    "\n",
    "parameters = {}\n",
    "parameters['clas__max_depth'] = [5, 10, 20] #Quitamos None para que no sobreajuste al conjunto de train y que no pueda hacer la profundidad que el modelo desee. \n",
    "                                            # Lo forzamos a ponerle profundidad, como máximo 20, aunque se podría establecer mayor profundidad pero no queremos que sobreajute a los datos del train.\n",
    "parameters['clas__n_estimators'] = [100, 200]\n",
    "parameters['clas__class_weight'] = ['balanced']\n",
    "\n",
    "pipe = Pipeline(steps=[('prep', df_minsait_trans),('clas', model)])\n",
    "GS = GridSearchCV(pipe, parameters, cv=5, n_jobs=-1, scoring='accuracy', refit=True, verbose=1)\n",
    "GS.fit(X_train_multi, y_train_multi)\n",
    "print(f\"Mejor score: \", GS.best_score_)\n",
    "print(\"Mejore configuración de parámetros: \", GS.best_params_)\n",
    "\n",
    "model_multilabel = GS.best_estimator_"
   ]
  },
  {
   "cell_type": "code",
   "execution_count": null,
   "metadata": {
    "colab": {},
    "colab_type": "code",
    "id": "W19CBRbTporN"
   },
   "outputs": [],
   "source": [
    "y_pred_multi = model_multilabel.predict(X_test_multi)\n",
    "print(classification_report(y_test_multi, y_pred_multi))"
   ]
  },
  {
   "cell_type": "code",
   "execution_count": null,
   "metadata": {
    "colab": {},
    "colab_type": "code",
    "id": "E9VdARJnpsUe"
   },
   "outputs": [],
   "source": [
    "importances = model_multilabel['clas'].feature_importances_\n",
    "# Extrae los índices ordenados de menor a mayor\n",
    "ranking = np.argsort(importances)\n",
    "\n",
    "#Ahora que hemos obtenido las importancias de las variables y su ranking, vamos a dibujarlo\n",
    "plt.figure(figsize=(28,20))\n",
    "plt.barh(range(df_modelar.shape[1]-2), importances[ranking],color=sns.diverging_palette(220, 20, n=55),align='center')\n",
    "plt.yticks(range(df_modelar.shape[1]-2), X_test.columns[ranking], fontsize=9)\n",
    "plt.show()"
   ]
  },
  {
   "cell_type": "code",
   "execution_count": null,
   "metadata": {
    "colab": {},
    "colab_type": "code",
    "id": "1JC0h26xpvMz"
   },
   "outputs": [],
   "source": [
    "pickle.dump(model_multilabel, open('/content/drive/My Drive/multilabel_rfc_MBM.model', 'wb'))"
   ]
  }
 ],
 "metadata": {
  "colab": {
   "collapsed_sections": [],
   "name": "Notebook_base.ipynb",
   "provenance": []
  },
  "kernelspec": {
   "display_name": "Python 3",
   "language": "python",
   "name": "python3"
  },
  "language_info": {
   "codemirror_mode": {
    "name": "ipython",
    "version": 3
   },
   "file_extension": ".py",
   "mimetype": "text/x-python",
   "name": "python",
   "nbconvert_exporter": "python",
   "pygments_lexer": "ipython3",
   "version": "3.7.7"
  }
 },
 "nbformat": 4,
 "nbformat_minor": 1
}
