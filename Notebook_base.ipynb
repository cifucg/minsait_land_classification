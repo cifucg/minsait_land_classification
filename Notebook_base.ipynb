{
 "cells": [
  {
   "cell_type": "code",
   "execution_count": null,
   "metadata": {
    "colab": {
     "base_uri": "https://localhost:8080/",
     "height": 51
    },
    "colab_type": "code",
    "executionInfo": {
     "elapsed": 1210,
     "status": "ok",
     "timestamp": 1586596686057,
     "user": {
      "displayName": "Manuel Bermúdez",
      "photoUrl": "https://lh3.googleusercontent.com/a-/AOh14GjKgNSSTuC0pom-v--IEAu-172dJG8dEZHW1SdY9A=s64",
      "userId": "00420240342109638220"
     },
     "user_tz": -120
    },
    "id": "YnJoDY3uf_Ud",
    "outputId": "951ce584-8af4-475c-f729-5826e59faed9"
   },
   "outputs": [],
   "source": [
    "# Librerias para el tratamiento de los datos\n",
    "import pandas as pd\n",
    "import numpy as np\n",
    "import math\n",
    "\n",
    "# Librerias para la graficación de los datost\n",
    "import matplotlib.pyplot as plt\n",
    "import seaborn as sns;\n",
    "sns.set()\n",
    "\n",
    "# Permite que las graficas se generen a mayor resolucion\n",
    "%config InlineBackend.figure_format = 'retina'\n",
    "%matplotlib inline\n",
    "\n",
    "# Permite ignorar los warnings de la libreta al generar algunos modelos\n",
    "import warnings\n",
    "warnings.simplefilter('ignore')\n",
    "\n",
    "# Establece un ancho de libreta mayor\n",
    "from IPython.core.display import display, HTML\n",
    "display(HTML(\"<style>.container { width:80% !important; }</style>\"))\n",
    "\n",
    "# Libreria necesaria para los gráficos interactivos\n",
    "from ipywidgets import interact \n",
    "\n",
    "# Librerias necesarias para el aprendizaje de modelos\n",
    "from imblearn.pipeline import Pipeline\n",
    "from sklearn.preprocessing import StandardScaler, MinMaxScaler\n",
    "from sklearn.impute import SimpleImputer\n",
    "from sklearn.preprocessing import OneHotEncoder\n",
    "from sklearn.compose import ColumnTransformer\n",
    "from imblearn.over_sampling import SMOTE\n",
    "from imblearn.combine import SMOTETomek\n",
    "from sklearn.model_selection import GridSearchCV, train_test_split\n",
    "\n",
    "#Libreria para reducción de dimensionalidad\n",
    "from sklearn.decomposition import PCA\n",
    "\n",
    "#Modelos\n",
    "#import xgboost as xgb\n",
    "from sklearn.tree import DecisionTreeClassifier\n",
    "from sklearn.ensemble import RandomForestClassifier\n",
    "from sklearn.linear_model import LogisticRegression, SGDClassifier\n",
    "from sklearn.neighbors import KNeighborsClassifier\n",
    "\n",
    "#Métricas\n",
    "from sklearn.metrics import accuracy_score, confusion_matrix, classification_report, roc_curve, auc\n",
    "\n",
    "#Medicion de tiempos\n",
    "import time\n",
    "\n",
    "# Pickle\n",
    "import pickle"
   ]
  },
  {
   "cell_type": "code",
   "execution_count": null,
   "metadata": {
    "colab": {},
    "colab_type": "code",
    "id": "mEfz5lZyoqLK"
   },
   "outputs": [],
   "source": [
    "def show_results(y, y_pred):\n",
    "    sns.heatmap(confusion_matrix(y, y_pred), square=True, annot=True, fmt='d', cbar=True, cmap=plt.cm.Blues)\n",
    "    plt.ylabel('Clase real')\n",
    "    plt.xlabel('Predicción');\n",
    "    plt.gca().set_ylim(2.0, 0)\n",
    "    plt.show()\n",
    "    print(\"Resultados\")\n",
    "    print('Accuracy: {}'.format(round(accuracy_score(y, y_pred), 3)))"
   ]
  },
  {
   "cell_type": "code",
   "execution_count": null,
   "metadata": {
    "colab": {},
    "colab_type": "code",
    "id": "i9_9m4NugSAG"
   },
   "outputs": [],
   "source": [
    "df = pd.read_csv('./data/Modelar_UH2020.txt', sep=\"|\", index_col='ID', encoding='utf-8')"
   ]
  },
  {
   "cell_type": "code",
   "execution_count": null,
   "metadata": {
    "colab": {},
    "colab_type": "code",
    "id": "86TgeYrajZrY"
   },
   "outputs": [],
   "source": [
    "list_class_order = ['RESIDENTIAL', 'PUBLIC', 'RETAIL', 'OFFICE', 'INDUSTRIAL', 'AGRICULTURE', 'OTHER']"
   ]
  },
  {
   "cell_type": "code",
   "execution_count": null,
   "metadata": {
    "colab": {},
    "colab_type": "code",
    "id": "mFycknpRjbZP"
   },
   "outputs": [],
   "source": [
    "list_preprocess_function = []"
   ]
  },
  {
   "cell_type": "code",
   "execution_count": null,
   "metadata": {
    "colab": {},
    "colab_type": "code",
    "id": "rY8ScQyzj5sU"
   },
   "outputs": [],
   "source": [
    "def preprocess_data(df, list_preprocess_function):\n",
    "    for func in list_preprocess_function:\n",
    "        df = func(df)\n",
    "    return df"
   ]
  },
  {
   "cell_type": "code",
   "execution_count": null,
   "metadata": {
    "colab": {
     "base_uri": "https://localhost:8080/",
     "height": 51
    },
    "colab_type": "code",
    "executionInfo": {
     "elapsed": 1675,
     "status": "ok",
     "timestamp": 1586596849870,
     "user": {
      "displayName": "Manuel Bermúdez",
      "photoUrl": "https://lh3.googleusercontent.com/a-/AOh14GjKgNSSTuC0pom-v--IEAu-172dJG8dEZHW1SdY9A=s64",
      "userId": "00420240342109638220"
     },
     "user_tz": -120
    },
    "id": "6HOApxQyiHQi",
    "outputId": "1a121c30-c977-4f15-d8b3-a056a4fb1e13"
   },
   "outputs": [],
   "source": [
    "X = df.drop(columns=['CLASE']).copy()\n",
    "y = df['CLASE'].copy()\n",
    "\n",
    "X_train, X_val, y_train, y_val = train_test_split(X, y, test_size=0.15, stratify=y, shuffle=True, random_state=10)\n",
    "\n",
    "df_modelar = X_train.merge(y_train, on='ID')\n",
    "df_modelar_new = X_val.merge(y_val, on='ID')\n",
    "\n",
    "print(\"Tamaño del conjunto de datos disponibles: \", len(df_modelar))\n",
    "print(\"Tamaño del conjunto de nuevos datos: \", len(df_modelar_new))"
   ]
  },
  {
   "cell_type": "markdown",
   "metadata": {},
   "source": [
    "## Procesar variables"
   ]
  },
  {
   "cell_type": "code",
   "execution_count": null,
   "metadata": {
    "colab": {},
    "colab_type": "code",
    "id": "ehGIb4XliqGP"
   },
   "outputs": [],
   "source": [
    "df_modelar['mean_red'] = df_modelar.loc[:, 'Q_R_4_0_0':'Q_R_4_1_0'].mean(axis=1)\n",
    "df_modelar['mean_green'] = df_modelar.loc[:, 'Q_G_3_0_0':'Q_G_3_1_0'].mean(axis=1)\n",
    "df_modelar['mean_blue'] = df_modelar.loc[:, 'Q_B_2_0_0':'Q_B_2_1_0'].mean(axis=1)\n",
    "df_modelar['mean_nir'] = df_modelar.loc[:, 'Q_NIR_8_0_0':'Q_NIR_8_1_0'].mean(axis=1)"
   ]
  },
  {
   "cell_type": "code",
   "execution_count": null,
   "metadata": {
    "colab": {},
    "colab_type": "code",
    "id": "5gj6TbMJiwXZ"
   },
   "outputs": [],
   "source": [
    "df_modelar['std_red'] = df_modelar.loc[:, 'Q_R_4_0_0':'Q_R_4_1_0'].std(axis=1)\n",
    "df_modelar['std_green'] = df_modelar.loc[:, 'Q_G_3_0_0':'Q_G_3_1_0'].std(axis=1)\n",
    "df_modelar['std_blue'] = df_modelar.loc[:, 'Q_B_2_0_0':'Q_B_2_1_0'].std(axis=1)\n",
    "df_modelar['std_nir'] = df_modelar.loc[:, 'Q_NIR_8_0_0':'Q_NIR_8_1_0'].std(axis=1)"
   ]
  },
  {
   "cell_type": "code",
   "execution_count": null,
   "metadata": {
    "colab": {},
    "colab_type": "code",
    "id": "VOBc0pFIkxed"
   },
   "outputs": [],
   "source": [
    "CENTER_X = df_modelar['X'].sum()/len(df_modelar['X'])\n",
    "CENTER_Y = df_modelar['Y'].sum()/len(df_modelar['Y'])"
   ]
  },
  {
   "cell_type": "code",
   "execution_count": null,
   "metadata": {
    "colab": {},
    "colab_type": "code",
    "id": "A0d8KsIWk7O2"
   },
   "outputs": [],
   "source": [
    "def distance(p0, p1):\n",
    "    return math.sqrt((p0[0] - p1[0])**2 + (p0[1] - p1[1])**2)\n",
    "\n",
    "def process_distance_to_center(df):\n",
    "    df['distance_to_center'] = df.apply(lambda r: distance([r['X'], r['Y']], [CENTER_X, CENTER_Y]), axis=1)\n",
    "    df['distance_to_center'] = df['distance_to_center'] / df['distance_to_center'].max() #Normalizamos 0,1\n",
    "    return df"
   ]
  },
  {
   "cell_type": "code",
   "execution_count": null,
   "metadata": {
    "colab": {},
    "colab_type": "code",
    "id": "xq3AUolTlV7q"
   },
   "outputs": [],
   "source": [
    "list_preprocess_function.append(process_distance_to_center)"
   ]
  },
  {
   "cell_type": "code",
   "execution_count": null,
   "metadata": {
    "colab": {},
    "colab_type": "code",
    "id": "Y2PPOFrhjwY5"
   },
   "outputs": [],
   "source": [
    "def process_cadastralquality(value):\n",
    "    dic = {'A': 11, 'B': 10, 'C': 9}\n",
    "    if value in dic:\n",
    "        return dic[value]\n",
    "    else:\n",
    "        try:\n",
    "            return 9 - int(value)\n",
    "        except ValueError:\n",
    "            return np.nan\n",
    "        \n",
    "def process_cadastral(df):\n",
    "    df['CADASTRALQUALITYID'] = df['CADASTRALQUALITYID'].apply(process_cadastralquality)\n",
    "    return df"
   ]
  },
  {
   "cell_type": "code",
   "execution_count": null,
   "metadata": {
    "colab": {},
    "colab_type": "code",
    "id": "-1r6STwBi0uD"
   },
   "outputs": [],
   "source": [
    "list_preprocess_function.append(process_cadastral)"
   ]
  },
  {
   "cell_type": "code",
   "execution_count": null,
   "metadata": {
    "colab": {},
    "colab_type": "code",
    "id": "MCUBor9blvgh"
   },
   "outputs": [],
   "source": [
    "X = df_modelar[['X', 'Y']].copy()\n",
    "y = df_modelar['CLASE'].copy()\n",
    "\n",
    "w = []\n",
    "X_train, X_test, y_train, y_test = train_test_split(X, y, test_size=0.3, stratify=y, random_state=10)\n",
    "n = 5\n",
    "neigh = KNeighborsClassifier(n_neighbors=n, weights='uniform')\n",
    "neigh.fit(X, y)"
   ]
  },
  {
   "cell_type": "code",
   "execution_count": null,
   "metadata": {
    "colab": {},
    "colab_type": "code",
    "id": "n4mKMSHZoLzO"
   },
   "outputs": [],
   "source": [
    "#pickle.dump(neigh, open('/content/drive/My Drive/knn_MBM.model', 'wb'))"
   ]
  },
  {
   "cell_type": "code",
   "execution_count": null,
   "metadata": {
    "colab": {},
    "colab_type": "code",
    "id": "kZTasgr6mtnp"
   },
   "outputs": [],
   "source": [
    "def process_neihgbours(df):\n",
    "    predict = neigh.predict_proba(df[['X', 'Y']])\n",
    "    aux = pd.DataFrame(predict*n, columns=[ 'N_'+c for c in neigh.classes_ ], index=df.index)\n",
    "    df = df.merge(aux, on='ID', how='inner')\n",
    "    df.drop(columns=['X', 'Y'], inplace=True)\n",
    "    return df"
   ]
  },
  {
   "cell_type": "code",
   "execution_count": null,
   "metadata": {
    "colab": {},
    "colab_type": "code",
    "id": "W9SfvAfznBIZ"
   },
   "outputs": [],
   "source": [
    "list_preprocess_function.append(process_neihgbours)"
   ]
  },
  {
   "cell_type": "code",
   "execution_count": null,
   "metadata": {
    "scrolled": true
   },
   "outputs": [],
   "source": [
    "process_neihgbours(df_pruebas)"
   ]
  },
  {
   "cell_type": "markdown",
   "metadata": {},
   "source": [
    "## Procesamiento de los outliers"
   ]
  },
  {
   "cell_type": "code",
   "execution_count": null,
   "metadata": {
    "colab": {},
    "colab_type": "code",
    "id": "v0IiEZlHnGLy"
   },
   "outputs": [],
   "source": [
    "data = df_modelar.groupby('CLASE')\n",
    "d = {}\n",
    "aux_without_outliers = []\n",
    "for name, group in data:\n",
    "    d[name] = len(group[group['AREA']> group['AREA'].quantile(0.75)])\n",
    "    group = group[group['AREA'] < group['AREA'].quantile(0.75)]\n",
    "    aux_without_outliers.append(group.reset_index())"
   ]
  },
  {
   "cell_type": "code",
   "execution_count": null,
   "metadata": {
    "colab": {},
    "colab_type": "code",
    "id": "POXitKBCnGK3"
   },
   "outputs": [],
   "source": [
    "df_aux_without_outliers = pd.concat(aux_without_outliers).set_index('ID').sample(frac=1, random_state=10)"
   ]
  },
  {
   "cell_type": "code",
   "execution_count": null,
   "metadata": {
    "colab": {},
    "colab_type": "code",
    "id": "TKcN7kfnnGHK"
   },
   "outputs": [],
   "source": [
    "df_aux_without_outliers['CLASE'].value_counts()"
   ]
  },
  {
   "cell_type": "code",
   "execution_count": null,
   "metadata": {
    "colab": {},
    "colab_type": "code",
    "id": "3N5KK6_BnF-0"
   },
   "outputs": [],
   "source": [
    "d"
   ]
  },
  {
   "cell_type": "code",
   "execution_count": null,
   "metadata": {},
   "outputs": [],
   "source": [
    "df_aux_without_outliers['AREA'].describe()"
   ]
  },
  {
   "cell_type": "code",
   "execution_count": null,
   "metadata": {
    "scrolled": true
   },
   "outputs": [],
   "source": [
    "data = df_aux_without_outliers.groupby('CLASE')\n",
    "for name, group in data:\n",
    "    plt.figure(figsize=(12,6))\n",
    "    sns.boxplot(group['AREA'], orient='vertical')\n",
    "    plt.title(name)"
   ]
  },
  {
   "cell_type": "code",
   "execution_count": null,
   "metadata": {},
   "outputs": [],
   "source": [
    "df_modelar = df_aux_without_outliers.copy()"
   ]
  },
  {
   "cell_type": "code",
   "execution_count": null,
   "metadata": {
    "colab": {},
    "colab_type": "code",
    "id": "j2he_dK9jy9Z"
   },
   "outputs": [],
   "source": [
    "print(\"\\nPasos de preprocesamiento: \")\n",
    "for step, function in enumerate(list_preprocess_function):\n",
    "    print(\"\\t {:d}: {:s}\".format(step, function.__name__))"
   ]
  },
  {
   "cell_type": "code",
   "execution_count": null,
   "metadata": {
    "colab": {},
    "colab_type": "code",
    "id": "s75rGwTanF6b"
   },
   "outputs": [],
   "source": [
    "df_modelar = preprocess_data(df_pruebas_2, list_preprocess_function)"
   ]
  },
  {
   "cell_type": "markdown",
   "metadata": {},
   "source": [
    "# Ojo que el dataframe devuelto del procesamiento no está bien"
   ]
  },
  {
   "cell_type": "code",
   "execution_count": null,
   "metadata": {
    "colab": {},
    "colab_type": "code",
    "id": "wxHDOq13npBL"
   },
   "outputs": [],
   "source": [
    "number_df_columns = df_modelar.select_dtypes(include=np.number).columns.tolist()\n",
    "\n",
    "print('\\n- \\033[1mVariables numéricas\\033[0m: ',number_df_columns)"
   ]
  },
  {
   "cell_type": "code",
   "execution_count": null,
   "metadata": {
    "colab": {},
    "colab_type": "code",
    "id": "Ybnohlq0nbaP"
   },
   "outputs": [],
   "source": [
    "#Transformación que se le va a aplicar a las columnas numéricas\n",
    "num_transformer = Pipeline([('imputer', SimpleImputer(strategy='constant', fill_value=-1)),\n",
    "                             ('scaler', StandardScaler())])"
   ]
  },
  {
   "cell_type": "code",
   "execution_count": null,
   "metadata": {
    "colab": {},
    "colab_type": "code",
    "id": "ZROquTpRndRC"
   },
   "outputs": [],
   "source": [
    "#Transformación que se le aplicaría a las columnas categóricas, en el caso de que existan\n",
    "cat_transformer = Pipeline([('imputer', SimpleImputer(strategy='constant', fill_value='missing')),\n",
    "                           ('onehot', OneHotEncoder(handle_unknown='ignore'))])"
   ]
  },
  {
   "cell_type": "code",
   "execution_count": null,
   "metadata": {
    "colab": {},
    "colab_type": "code",
    "id": "vMEC8fLMne-o"
   },
   "outputs": [],
   "source": [
    "#Transformador que se aplica a cada una de las columnas en función a lo declarado previamente\n",
    "df_modelar_trans = ColumnTransformer(transformers=[('num', num_transformer, number_df_columns)])"
   ]
  },
  {
   "cell_type": "markdown",
   "metadata": {
    "colab_type": "text",
    "id": "EEBPW-01oWCb"
   },
   "source": [
    "### Modelo Binario"
   ]
  },
  {
   "cell_type": "code",
   "execution_count": null,
   "metadata": {
    "colab": {},
    "colab_type": "code",
    "id": "GLB4YUdfoVkT"
   },
   "outputs": [],
   "source": [
    "df_modelar['SUBCLASE'] = (df_modelar['CLASE'] == 'RESIDENTIAL').astype(int)"
   ]
  },
  {
   "cell_type": "code",
   "execution_count": null,
   "metadata": {
    "colab": {},
    "colab_type": "code",
    "id": "cj72T25Zob1S"
   },
   "outputs": [],
   "source": [
    "#Para nuestro primer modelo vamos a usar todas las variables\n",
    "X = df_modelar.drop(columns=['CLASE', 'SUBCLASE']).copy()\n",
    "y = df_modelar['SUBCLASE'].copy()\n",
    "\n",
    "X_train, X_test, y_train, y_test = train_test_split(X, y, test_size=0.3, stratify=y, random_state=10)"
   ]
  },
  {
   "cell_type": "code",
   "execution_count": null,
   "metadata": {
    "colab": {},
    "colab_type": "code",
    "id": "CloAgtSloeOn"
   },
   "outputs": [],
   "source": [
    "rfc_p_model = xgb.XGBClassifier(random_state=10)\n",
    "underSampling = RandomUnderSampler('majority', random_state=10)\n",
    "smote = SMOTE('auto', random_state=10)\n",
    "\n",
    "parameters = {\n",
    "    'clas__max_depth': [10]\n",
    "}\n",
    "\n",
    "minsait_pipe_rfc_p = Pipeline(steps=[('prep', df_minsait_trans), ('smt', smote), ('clas', rfc_p_model)])\n",
    "\n",
    "GSR_p = GridSearchCV(minsait_pipe_rfc_p, parameters, cv=5, n_jobs=-1, scoring='f1', refit=True, verbose=1)\n",
    "GSR_p.fit(X_train, y_train)\n",
    "    \n",
    "print(\"Mejor score: \", GSR_p.best_score_)\n",
    "print(\"Mejore configuración de parámetros: \", GSR_p.best_params_)\n",
    "\n",
    "minsait_pipe_rfc_p = GSR_p.best_estimator_"
   ]
  },
  {
   "cell_type": "code",
   "execution_count": null,
   "metadata": {
    "colab": {},
    "colab_type": "code",
    "id": "OxoAqKeUotGP"
   },
   "outputs": [],
   "source": [
    "y_pred = minsait_pipe_rfc_p.predict(X_test)\n",
    "show_results(y_test, y_pred)\n",
    "print(classification_report(y_test, y_pred))"
   ]
  },
  {
   "cell_type": "code",
   "execution_count": null,
   "metadata": {
    "colab": {},
    "colab_type": "code",
    "id": "a-yUrfx3ow8q"
   },
   "outputs": [],
   "source": [
    "importances = minsait_pipe_rfc_p['clas'].feature_importances_\n",
    "# Extrae los índices ordenados de menor a mayor\n",
    "ranking = np.argsort(importances)\n",
    "\n",
    "#Ahora que hemos obtenido las importancias de las variables y su ranking, vamos a dibujarlo\n",
    "plt.figure(figsize=(28,20))\n",
    "plt.barh(range(df_modelar.shape[1]-2), importances[ranking],color=sns.diverging_palette(220, 20, n=55),align='center')\n",
    "plt.yticks(range(df_modelar.shape[1]-2), X_test.columns[ranking], fontsize=9)\n",
    "plt.show()"
   ]
  },
  {
   "cell_type": "code",
   "execution_count": null,
   "metadata": {
    "colab": {},
    "colab_type": "code",
    "id": "e2-1ryU3ozLz"
   },
   "outputs": [],
   "source": [
    "pickle.dump(minsait_pipe_rfc_p, open('/content/drive/My Drive/binary_xgboost_MBM.model', 'wb'))"
   ]
  },
  {
   "cell_type": "markdown",
   "metadata": {
    "colab_type": "text",
    "id": "Zc_UcTJGo0pn"
   },
   "source": [
    "### Modelo Multietiqueta"
   ]
  },
  {
   "cell_type": "code",
   "execution_count": null,
   "metadata": {
    "colab": {},
    "colab_type": "code",
    "id": "FyraQmOyo2Gk"
   },
   "outputs": [],
   "source": [
    "y_pred_train = minsait_pipe_rfc_p.predict(X_train)"
   ]
  },
  {
   "cell_type": "code",
   "execution_count": null,
   "metadata": {
    "colab": {},
    "colab_type": "code",
    "id": "eExnfyI0o6A1"
   },
   "outputs": [],
   "source": [
    "X_multi = df_modelar.loc[X_train[y_pred_train==0].index.tolist()].drop(columns=['CLASE', 'SUBCLASE']).copy()\n",
    "y_multi = df_modelar.loc[X_train[y_pred_train==0].index.tolist()]['CLASE'].copy()"
   ]
  },
  {
   "cell_type": "code",
   "execution_count": null,
   "metadata": {
    "colab": {},
    "colab_type": "code",
    "id": "d8CtMSLDpfZ6"
   },
   "outputs": [],
   "source": [
    "y_multi.value_counts()"
   ]
  },
  {
   "cell_type": "code",
   "execution_count": null,
   "metadata": {
    "colab": {},
    "colab_type": "code",
    "id": "2Xm2grrepiHc"
   },
   "outputs": [],
   "source": [
    "X_train_multi, X_test_multi, y_train_multi, y_test_multi = train_test_split(X_multi, y_multi, test_size=0.3, random_state=10)\n",
    "#smt = SMOTE('not majority', random_state=10)"
   ]
  },
  {
   "cell_type": "code",
   "execution_count": null,
   "metadata": {
    "colab": {},
    "colab_type": "code",
    "id": "T5MhhXToplmI"
   },
   "outputs": [],
   "source": [
    "model = RandomForestClassifier(random_state=10)\n",
    "\n",
    "parameters = {}\n",
    "parameters['clas__max_depth'] = [5, 10, 20] #Quitamos None para que no sobreajuste al conjunto de train y que no pueda hacer la profundidad que el modelo desee. \n",
    "                                            # Lo forzamos a ponerle profundidad, como máximo 20, aunque se podría establecer mayor profundidad pero no queremos que sobreajute a los datos del train.\n",
    "parameters['clas__n_estimators'] = [100, 200]\n",
    "parameters['clas__class_weight'] = ['balanced']\n",
    "\n",
    "pipe = Pipeline(steps=[('prep', df_minsait_trans),('clas', model)])\n",
    "GS = GridSearchCV(pipe, parameters, cv=5, n_jobs=-1, scoring='accuracy', refit=True, verbose=1)\n",
    "GS.fit(X_train_multi, y_train_multi)\n",
    "print(f\"Mejor score: \", GS.best_score_)\n",
    "print(\"Mejore configuración de parámetros: \", GS.best_params_)\n",
    "\n",
    "model_multilabel = GS.best_estimator_"
   ]
  },
  {
   "cell_type": "code",
   "execution_count": null,
   "metadata": {
    "colab": {},
    "colab_type": "code",
    "id": "W19CBRbTporN"
   },
   "outputs": [],
   "source": [
    "y_pred_multi = model_multilabel.predict(X_test_multi)\n",
    "print(classification_report(y_test_multi, y_pred_multi))"
   ]
  },
  {
   "cell_type": "code",
   "execution_count": null,
   "metadata": {
    "colab": {},
    "colab_type": "code",
    "id": "E9VdARJnpsUe"
   },
   "outputs": [],
   "source": [
    "importances = model_multilabel['clas'].feature_importances_\n",
    "# Extrae los índices ordenados de menor a mayor\n",
    "ranking = np.argsort(importances)\n",
    "\n",
    "#Ahora que hemos obtenido las importancias de las variables y su ranking, vamos a dibujarlo\n",
    "plt.figure(figsize=(28,20))\n",
    "plt.barh(range(df_modelar.shape[1]-2), importances[ranking],color=sns.diverging_palette(220, 20, n=55),align='center')\n",
    "plt.yticks(range(df_modelar.shape[1]-2), X_test.columns[ranking], fontsize=9)\n",
    "plt.show()"
   ]
  },
  {
   "cell_type": "code",
   "execution_count": null,
   "metadata": {
    "colab": {},
    "colab_type": "code",
    "id": "1JC0h26xpvMz"
   },
   "outputs": [],
   "source": [
    "pickle.dump(model_multilabel, open('/content/drive/My Drive/multilabel_rfc_MBM.model', 'wb'))"
   ]
  }
 ],
 "metadata": {
  "colab": {
   "collapsed_sections": [],
   "name": "Notebook_base.ipynb",
   "provenance": []
  },
  "kernelspec": {
   "display_name": "Python 3",
   "language": "python",
   "name": "python3"
  },
  "language_info": {
   "codemirror_mode": {
    "name": "ipython",
    "version": 3
   },
   "file_extension": ".py",
   "mimetype": "text/x-python",
   "name": "python",
   "nbconvert_exporter": "python",
   "pygments_lexer": "ipython3",
   "version": "3.7.7"
  }
 },
 "nbformat": 4,
 "nbformat_minor": 1
}
