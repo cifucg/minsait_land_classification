{
 "cells": [
  {
   "cell_type": "markdown",
   "metadata": {},
   "source": [
    "# Minsait Land Classification"
   ]
  },
  {
   "cell_type": "markdown",
   "metadata": {},
   "source": [
    "---"
   ]
  },
  {
   "cell_type": "markdown",
   "metadata": {},
   "source": [
    "## Descripción del problema"
   ]
  },
  {
   "cell_type": "markdown",
   "metadata": {},
   "source": [
    "Este es un reto de multiclasificación cuya principal dificultad es que **las clases están muy desbalanceadas**. Tenlo en cuenta ya que nuestro dataset de validación no lo estará tanto."
   ]
  },
  {
   "cell_type": "markdown",
   "metadata": {},
   "source": [
    "**Variables**\n",
    "\n",
    "Los ficheros contienen un total 58 variables: las 6 primeras de ellas relativas a la identificación de los registros y las 8 últimas variables son distintas referencias geométricas y relativas al entorno (geometría del edificio, métricas geométricas generadas automáticamente -GEOM-, metros cuadrados, año construcción y nº de plantas de los edificios del entorno).\n",
    "\n",
    "Las imágenes satelitales se han tratado y se ha extraído información de 4 canales (R, G, B y NIR), correspondientes a las bandas de color rojo, verde y azul, y el infrarrojo cercano. El valor mostrado corresponde a la intensidad por deciles en cada imagen. Estas variables empiezan con la letra “Q”.\n",
    "\n",
    "El fichero \"Modelar_UH2020.txt\" tiene, adicionalmente como última variable, la clase a predecir.\n",
    "\n",
    "\n",
    "**Ámbito geográfico y temporal**\n",
    "\n",
    "El ámbito geográfico de las imágenes es una zona concreta del municipio Madrid. Una misma referencia geográfica puede tener datos tomados en distintos momentos, siendo una referencia (ID) distinta a todos los efectos.\n",
    "\n",
    "**Los datasets con formato txt tienen como estructura**:\n",
    "\n",
    "Nombres de campo: Incluidos en la cabecera.\n",
    "Separador: \"|\".\n",
    "Codificación: UTF-8."
   ]
  },
  {
   "cell_type": "markdown",
   "metadata": {},
   "source": [
    "**Dataset respuesta**\n",
    "\n",
    "Se denominará “Equipo_UH2020.txt” donde Equipo será el nombre del equipo con el que te has inscrito y constará de dos columnas que corresponden a la variable “ID” (identificación de la referencia en “Estimar_UH2020.txt”) y la variable “CLASE”, que la predicción del tipo de terreno estimado por tu modelo."
   ]
  },
  {
   "cell_type": "markdown",
   "metadata": {},
   "source": [
    "---"
   ]
  },
  {
   "cell_type": "markdown",
   "metadata": {},
   "source": [
    "## Importar paquetes y dependencias"
   ]
  },
  {
   "cell_type": "code",
   "execution_count": 1,
   "metadata": {},
   "outputs": [
    {
     "data": {
      "text/html": [
       "<style>.container { width:95% !important; }</style>"
      ],
      "text/plain": [
       "<IPython.core.display.HTML object>"
      ]
     },
     "metadata": {},
     "output_type": "display_data"
    }
   ],
   "source": [
    "import pandas as pd\n",
    "import numpy as np\n",
    "\n",
    "import matplotlib.pyplot as plt\n",
    "import seaborn as sns;\n",
    "sns.set()\n",
    "\n",
    "%config InlineBackend.figure_format = 'retina'\n",
    "%matplotlib inline\n",
    "\n",
    "import warnings\n",
    "warnings.simplefilter('ignore')\n",
    "\n",
    "from IPython.core.display import display, HTML\n",
    "display(HTML(\"<style>.container { width:95% !important; }</style>\"))\n",
    "\n",
    "# seguir importando dependencias necesarias"
   ]
  },
  {
   "cell_type": "markdown",
   "metadata": {},
   "source": [
    "## Carga de los datos a modelar"
   ]
  },
  {
   "cell_type": "code",
   "execution_count": 28,
   "metadata": {},
   "outputs": [],
   "source": [
    "df_minsait = pd.read_csv('data/Modelar_UH2020.txt', sep=\"|\", index_col='ID', encoding='utf-8')"
   ]
  },
  {
   "cell_type": "code",
   "execution_count": 32,
   "metadata": {
    "scrolled": false
   },
   "outputs": [
    {
     "name": "stdout",
     "output_type": "stream",
     "text": [
      "El índice es único.\n"
     ]
    },
    {
     "data": {
      "text/html": [
       "<div>\n",
       "<style scoped>\n",
       "    .dataframe tbody tr th:only-of-type {\n",
       "        vertical-align: middle;\n",
       "    }\n",
       "\n",
       "    .dataframe tbody tr th {\n",
       "        vertical-align: top;\n",
       "    }\n",
       "\n",
       "    .dataframe thead th {\n",
       "        text-align: right;\n",
       "    }\n",
       "</style>\n",
       "<table border=\"1\" class=\"dataframe\">\n",
       "  <thead>\n",
       "    <tr style=\"text-align: right;\">\n",
       "      <th></th>\n",
       "      <th>X</th>\n",
       "      <th>Y</th>\n",
       "      <th>Q_R_4_0_0</th>\n",
       "      <th>Q_R_4_0_1</th>\n",
       "      <th>Q_R_4_0_2</th>\n",
       "      <th>Q_R_4_0_3</th>\n",
       "      <th>Q_R_4_0_4</th>\n",
       "      <th>Q_R_4_0_5</th>\n",
       "      <th>Q_R_4_0_6</th>\n",
       "      <th>Q_R_4_0_7</th>\n",
       "      <th>...</th>\n",
       "      <th>Q_NIR_8_1_0</th>\n",
       "      <th>AREA</th>\n",
       "      <th>GEOM_R1</th>\n",
       "      <th>GEOM_R2</th>\n",
       "      <th>GEOM_R3</th>\n",
       "      <th>GEOM_R4</th>\n",
       "      <th>CONTRUCTIONYEAR</th>\n",
       "      <th>MAXBUILDINGFLOOR</th>\n",
       "      <th>CADASTRALQUALITYID</th>\n",
       "      <th>CLASE</th>\n",
       "    </tr>\n",
       "    <tr>\n",
       "      <th>ID</th>\n",
       "      <th></th>\n",
       "      <th></th>\n",
       "      <th></th>\n",
       "      <th></th>\n",
       "      <th></th>\n",
       "      <th></th>\n",
       "      <th></th>\n",
       "      <th></th>\n",
       "      <th></th>\n",
       "      <th></th>\n",
       "      <th></th>\n",
       "      <th></th>\n",
       "      <th></th>\n",
       "      <th></th>\n",
       "      <th></th>\n",
       "      <th></th>\n",
       "      <th></th>\n",
       "      <th></th>\n",
       "      <th></th>\n",
       "      <th></th>\n",
       "      <th></th>\n",
       "    </tr>\n",
       "  </thead>\n",
       "  <tbody>\n",
       "    <tr>\n",
       "      <th>35984B9C3E7CD9A1</th>\n",
       "      <td>2207357872</td>\n",
       "      <td>165920300</td>\n",
       "      <td>0.000000</td>\n",
       "      <td>443.001300</td>\n",
       "      <td>616.001697</td>\n",
       "      <td>746.998401</td>\n",
       "      <td>872.996472</td>\n",
       "      <td>1009.000946</td>\n",
       "      <td>1159.002319</td>\n",
       "      <td>1342.002466</td>\n",
       "      <td>...</td>\n",
       "      <td>10951.926645</td>\n",
       "      <td>144.426900</td>\n",
       "      <td>0.557237</td>\n",
       "      <td>0.067249</td>\n",
       "      <td>0.057372</td>\n",
       "      <td>0.853127</td>\n",
       "      <td>2002</td>\n",
       "      <td>0.0</td>\n",
       "      <td>2</td>\n",
       "      <td>RESIDENTIAL</td>\n",
       "    </tr>\n",
       "    <tr>\n",
       "      <th>F9D04BF6D037F8FB</th>\n",
       "      <td>2189757160</td>\n",
       "      <td>165463267</td>\n",
       "      <td>0.000059</td>\n",
       "      <td>443.899011</td>\n",
       "      <td>627.999060</td>\n",
       "      <td>770.001611</td>\n",
       "      <td>904.999988</td>\n",
       "      <td>1032.998474</td>\n",
       "      <td>1165.001636</td>\n",
       "      <td>1316.000110</td>\n",
       "      <td>...</td>\n",
       "      <td>7048.367637</td>\n",
       "      <td>38.342550</td>\n",
       "      <td>0.709884</td>\n",
       "      <td>0.125156</td>\n",
       "      <td>0.147929</td>\n",
       "      <td>1.181953</td>\n",
       "      <td>1949</td>\n",
       "      <td>1.0</td>\n",
       "      <td>8</td>\n",
       "      <td>RESIDENTIAL</td>\n",
       "    </tr>\n",
       "    <tr>\n",
       "      <th>B89D5711AFF8C423</th>\n",
       "      <td>2240147335</td>\n",
       "      <td>165690752</td>\n",
       "      <td>0.000000</td>\n",
       "      <td>353.502274</td>\n",
       "      <td>523.003601</td>\n",
       "      <td>644.001831</td>\n",
       "      <td>760.997131</td>\n",
       "      <td>876.999634</td>\n",
       "      <td>1006.997498</td>\n",
       "      <td>1168.995544</td>\n",
       "      <td>...</td>\n",
       "      <td>7013.073271</td>\n",
       "      <td>108.794384</td>\n",
       "      <td>0.517702</td>\n",
       "      <td>0.058268</td>\n",
       "      <td>0.081666</td>\n",
       "      <td>1.401552</td>\n",
       "      <td>1986</td>\n",
       "      <td>1.0</td>\n",
       "      <td>5</td>\n",
       "      <td>RESIDENTIAL</td>\n",
       "    </tr>\n",
       "    <tr>\n",
       "      <th>1C3478AC1522E7E4</th>\n",
       "      <td>2227146459</td>\n",
       "      <td>165934099</td>\n",
       "      <td>0.000000</td>\n",
       "      <td>268.000613</td>\n",
       "      <td>376.999609</td>\n",
       "      <td>478.003784</td>\n",
       "      <td>575.001233</td>\n",
       "      <td>683.997742</td>\n",
       "      <td>809.005994</td>\n",
       "      <td>955.002960</td>\n",
       "      <td>...</td>\n",
       "      <td>6216.880538</td>\n",
       "      <td>155.224455</td>\n",
       "      <td>0.450871</td>\n",
       "      <td>0.053591</td>\n",
       "      <td>0.054201</td>\n",
       "      <td>1.011382</td>\n",
       "      <td>1999</td>\n",
       "      <td>1.0</td>\n",
       "      <td>2</td>\n",
       "      <td>RESIDENTIAL</td>\n",
       "    </tr>\n",
       "    <tr>\n",
       "      <th>4D12AA5009064345</th>\n",
       "      <td>2212350459</td>\n",
       "      <td>165681791</td>\n",
       "      <td>0.000000</td>\n",
       "      <td>318.997910</td>\n",
       "      <td>492.003845</td>\n",
       "      <td>632.999634</td>\n",
       "      <td>757.002197</td>\n",
       "      <td>882.999908</td>\n",
       "      <td>1019.008911</td>\n",
       "      <td>1175.993103</td>\n",
       "      <td>...</td>\n",
       "      <td>7092.767616</td>\n",
       "      <td>1789.873366</td>\n",
       "      <td>0.458819</td>\n",
       "      <td>0.012858</td>\n",
       "      <td>0.019936</td>\n",
       "      <td>1.550478</td>\n",
       "      <td>1966</td>\n",
       "      <td>8.0</td>\n",
       "      <td>6</td>\n",
       "      <td>RESIDENTIAL</td>\n",
       "    </tr>\n",
       "  </tbody>\n",
       "</table>\n",
       "<p>5 rows × 55 columns</p>\n",
       "</div>"
      ],
      "text/plain": [
       "                           X          Y  Q_R_4_0_0   Q_R_4_0_1   Q_R_4_0_2  \\\n",
       "ID                                                                           \n",
       "35984B9C3E7CD9A1  2207357872  165920300   0.000000  443.001300  616.001697   \n",
       "F9D04BF6D037F8FB  2189757160  165463267   0.000059  443.899011  627.999060   \n",
       "B89D5711AFF8C423  2240147335  165690752   0.000000  353.502274  523.003601   \n",
       "1C3478AC1522E7E4  2227146459  165934099   0.000000  268.000613  376.999609   \n",
       "4D12AA5009064345  2212350459  165681791   0.000000  318.997910  492.003845   \n",
       "\n",
       "                   Q_R_4_0_3   Q_R_4_0_4    Q_R_4_0_5    Q_R_4_0_6  \\\n",
       "ID                                                                   \n",
       "35984B9C3E7CD9A1  746.998401  872.996472  1009.000946  1159.002319   \n",
       "F9D04BF6D037F8FB  770.001611  904.999988  1032.998474  1165.001636   \n",
       "B89D5711AFF8C423  644.001831  760.997131   876.999634  1006.997498   \n",
       "1C3478AC1522E7E4  478.003784  575.001233   683.997742   809.005994   \n",
       "4D12AA5009064345  632.999634  757.002197   882.999908  1019.008911   \n",
       "\n",
       "                    Q_R_4_0_7  ...   Q_NIR_8_1_0         AREA   GEOM_R1  \\\n",
       "ID                             ...                                        \n",
       "35984B9C3E7CD9A1  1342.002466  ...  10951.926645   144.426900  0.557237   \n",
       "F9D04BF6D037F8FB  1316.000110  ...   7048.367637    38.342550  0.709884   \n",
       "B89D5711AFF8C423  1168.995544  ...   7013.073271   108.794384  0.517702   \n",
       "1C3478AC1522E7E4   955.002960  ...   6216.880538   155.224455  0.450871   \n",
       "4D12AA5009064345  1175.993103  ...   7092.767616  1789.873366  0.458819   \n",
       "\n",
       "                   GEOM_R2   GEOM_R3   GEOM_R4  CONTRUCTIONYEAR  \\\n",
       "ID                                                                \n",
       "35984B9C3E7CD9A1  0.067249  0.057372  0.853127             2002   \n",
       "F9D04BF6D037F8FB  0.125156  0.147929  1.181953             1949   \n",
       "B89D5711AFF8C423  0.058268  0.081666  1.401552             1986   \n",
       "1C3478AC1522E7E4  0.053591  0.054201  1.011382             1999   \n",
       "4D12AA5009064345  0.012858  0.019936  1.550478             1966   \n",
       "\n",
       "                  MAXBUILDINGFLOOR  CADASTRALQUALITYID        CLASE  \n",
       "ID                                                                   \n",
       "35984B9C3E7CD9A1               0.0                   2  RESIDENTIAL  \n",
       "F9D04BF6D037F8FB               1.0                   8  RESIDENTIAL  \n",
       "B89D5711AFF8C423               1.0                   5  RESIDENTIAL  \n",
       "1C3478AC1522E7E4               1.0                   2  RESIDENTIAL  \n",
       "4D12AA5009064345               8.0                   6  RESIDENTIAL  \n",
       "\n",
       "[5 rows x 55 columns]"
      ]
     },
     "execution_count": 32,
     "metadata": {},
     "output_type": "execute_result"
    }
   ],
   "source": [
    "if df_minsait.index.is_unique:\n",
    "    print('El índice es único.')\n",
    "else:\n",
    "    print('Los índices están duplicados.')\n",
    "    \n",
    "# Visualiza las primeras instancias\n",
    "df_minsait.head()"
   ]
  },
  {
   "cell_type": "code",
   "execution_count": 33,
   "metadata": {
    "scrolled": true
   },
   "outputs": [
    {
     "data": {
      "text/plain": [
       "Index(['X', 'Y', 'Q_R_4_0_0', 'Q_R_4_0_1', 'Q_R_4_0_2', 'Q_R_4_0_3',\n",
       "       'Q_R_4_0_4', 'Q_R_4_0_5', 'Q_R_4_0_6', 'Q_R_4_0_7', 'Q_R_4_0_8',\n",
       "       'Q_R_4_0_9', 'Q_R_4_1_0', 'Q_G_3_0_0', 'Q_G_3_0_1', 'Q_G_3_0_2',\n",
       "       'Q_G_3_0_3', 'Q_G_3_0_4', 'Q_G_3_0_5', 'Q_G_3_0_6', 'Q_G_3_0_7',\n",
       "       'Q_G_3_0_8', 'Q_G_3_0_9', 'Q_G_3_1_0', 'Q_B_2_0_0', 'Q_B_2_0_1',\n",
       "       'Q_B_2_0_2', 'Q_B_2_0_3', 'Q_B_2_0_4', 'Q_B_2_0_5', 'Q_B_2_0_6',\n",
       "       'Q_B_2_0_7', 'Q_B_2_0_8', 'Q_B_2_0_9', 'Q_B_2_1_0', 'Q_NIR_8_0_0',\n",
       "       'Q_NIR_8_0_1', 'Q_NIR_8_0_2', 'Q_NIR_8_0_3', 'Q_NIR_8_0_4',\n",
       "       'Q_NIR_8_0_5', 'Q_NIR_8_0_6', 'Q_NIR_8_0_7', 'Q_NIR_8_0_8',\n",
       "       'Q_NIR_8_0_9', 'Q_NIR_8_1_0', 'AREA', 'GEOM_R1', 'GEOM_R2', 'GEOM_R3',\n",
       "       'GEOM_R4', 'CONTRUCTIONYEAR', 'MAXBUILDINGFLOOR', 'CADASTRALQUALITYID',\n",
       "       'CLASE'],\n",
       "      dtype='object')"
      ]
     },
     "execution_count": 33,
     "metadata": {},
     "output_type": "execute_result"
    }
   ],
   "source": [
    "df_minsait.columns"
   ]
  },
  {
   "cell_type": "code",
   "execution_count": 51,
   "metadata": {
    "scrolled": true
   },
   "outputs": [
    {
     "data": {
      "text/plain": [
       "array(['2', '8', '5', '6', '4', '7', '3', 'C', '1', '9', 'B', 'A', nan],\n",
       "      dtype=object)"
      ]
     },
     "execution_count": 51,
     "metadata": {},
     "output_type": "execute_result"
    }
   ],
   "source": [
    "df_minsait['CADASTRALQUALITYID'].unique()"
   ]
  },
  {
   "cell_type": "code",
   "execution_count": 54,
   "metadata": {},
   "outputs": [
    {
     "data": {
      "image/png": "[encoded data removed]",
      "text/plain": [
       "<Figure size 1440x360 with 1 Axes>"
      ]
     },
     "metadata": {
      "image/png": {
       "height": 355,
       "width": 1430
      },
      "needs_background": "light"
     },
     "output_type": "display_data"
    },
    {
     "name": "stdout",
     "output_type": "stream",
     "text": [
      "Numero de variables del train: 55\n",
      "Numero de instancias del train: 103230\n",
      "Clase a predecir: ['AGRICULTURE' 'INDUSTRIAL' 'OFFICE' 'OTHER' 'PUBLIC' 'RESIDENTIAL'\n",
      " 'RETAIL']\n"
     ]
    }
   ],
   "source": [
    "plt.figure(figsize=(20,5))\n",
    "sns.countplot(x='CLASE', data=df_minsait)\n",
    "plt.title('Distribución de muestras')\n",
    "plt.tight_layout()\n",
    "plt.show()\n",
    "print('Numero de variables del train: {}'.format(df_minsait.shape[1]))\n",
    "print('Numero de instancias del train: {}'.format(df_minsait.shape[0]))\n",
    "print('Clase a predecir: {}'.format(np.sort(df_minsait['CLASE'].unique())))"
   ]
  },
  {
   "cell_type": "code",
   "execution_count": 31,
   "metadata": {
    "scrolled": true
   },
   "outputs": [
    {
     "data": {
      "text/plain": [
       "RESIDENTIAL    90173\n",
       "INDUSTRIAL      4490\n",
       "PUBLIC          2976\n",
       "RETAIL          2093\n",
       "OFFICE          1828\n",
       "OTHER           1332\n",
       "AGRICULTURE      338\n",
       "Name: CLASE, dtype: int64"
      ]
     },
     "execution_count": 31,
     "metadata": {},
     "output_type": "execute_result"
    }
   ],
   "source": [
    "df_minsait['CLASE'].value_counts()"
   ]
  },
  {
   "cell_type": "code",
   "execution_count": null,
   "metadata": {},
   "outputs": [],
   "source": []
  },
  {
   "cell_type": "markdown",
   "metadata": {},
   "source": [
    "---\n",
    "## Cargar datos a predecir"
   ]
  },
  {
   "cell_type": "code",
   "execution_count": 25,
   "metadata": {},
   "outputs": [],
   "source": [
    "df_minsait_test = pd.read_csv('data/Estimar_UH2020.txt', sep=\"|\", index_col='ID', encoding='utf-8')"
   ]
  },
  {
   "cell_type": "code",
   "execution_count": 26,
   "metadata": {},
   "outputs": [
    {
     "data": {
      "text/html": [
       "<div>\n",
       "<style scoped>\n",
       "    .dataframe tbody tr th:only-of-type {\n",
       "        vertical-align: middle;\n",
       "    }\n",
       "\n",
       "    .dataframe tbody tr th {\n",
       "        vertical-align: top;\n",
       "    }\n",
       "\n",
       "    .dataframe thead th {\n",
       "        text-align: right;\n",
       "    }\n",
       "</style>\n",
       "<table border=\"1\" class=\"dataframe\">\n",
       "  <thead>\n",
       "    <tr style=\"text-align: right;\">\n",
       "      <th></th>\n",
       "      <th>X</th>\n",
       "      <th>Y</th>\n",
       "      <th>Q_R_4_0_0</th>\n",
       "      <th>Q_R_4_0_1</th>\n",
       "      <th>Q_R_4_0_2</th>\n",
       "      <th>Q_R_4_0_3</th>\n",
       "      <th>Q_R_4_0_4</th>\n",
       "      <th>Q_R_4_0_5</th>\n",
       "      <th>Q_R_4_0_6</th>\n",
       "      <th>Q_R_4_0_7</th>\n",
       "      <th>...</th>\n",
       "      <th>Q_NIR_8_0_9</th>\n",
       "      <th>Q_NIR_8_1_0</th>\n",
       "      <th>AREA</th>\n",
       "      <th>GEOM_R1</th>\n",
       "      <th>GEOM_R2</th>\n",
       "      <th>GEOM_R3</th>\n",
       "      <th>GEOM_R4</th>\n",
       "      <th>CONTRUCTIONYEAR</th>\n",
       "      <th>MAXBUILDINGFLOOR</th>\n",
       "      <th>CADASTRALQUALITYID</th>\n",
       "    </tr>\n",
       "    <tr>\n",
       "      <th>ID</th>\n",
       "      <th></th>\n",
       "      <th></th>\n",
       "      <th></th>\n",
       "      <th></th>\n",
       "      <th></th>\n",
       "      <th></th>\n",
       "      <th></th>\n",
       "      <th></th>\n",
       "      <th></th>\n",
       "      <th></th>\n",
       "      <th></th>\n",
       "      <th></th>\n",
       "      <th></th>\n",
       "      <th></th>\n",
       "      <th></th>\n",
       "      <th></th>\n",
       "      <th></th>\n",
       "      <th></th>\n",
       "      <th></th>\n",
       "      <th></th>\n",
       "      <th></th>\n",
       "    </tr>\n",
       "  </thead>\n",
       "  <tbody>\n",
       "    <tr>\n",
       "      <th>44198C2A811A4DF4</th>\n",
       "      <td>2200905624</td>\n",
       "      <td>165480229</td>\n",
       "      <td>0.000001</td>\n",
       "      <td>445.999637</td>\n",
       "      <td>634.001172</td>\n",
       "      <td>780.000568</td>\n",
       "      <td>902.004053</td>\n",
       "      <td>1025.997009</td>\n",
       "      <td>1157.997681</td>\n",
       "      <td>1304.999585</td>\n",
       "      <td>...</td>\n",
       "      <td>2545.997754</td>\n",
       "      <td>6803.875107</td>\n",
       "      <td>283.593030</td>\n",
       "      <td>0.046741</td>\n",
       "      <td>0.014588</td>\n",
       "      <td>0.011298</td>\n",
       "      <td>0.774503</td>\n",
       "      <td>1994</td>\n",
       "      <td>5.0</td>\n",
       "      <td>4</td>\n",
       "    </tr>\n",
       "    <tr>\n",
       "      <th>216F638609E0E39E</th>\n",
       "      <td>2207436564</td>\n",
       "      <td>165625751</td>\n",
       "      <td>0.000000</td>\n",
       "      <td>385.000995</td>\n",
       "      <td>580.005762</td>\n",
       "      <td>737.004449</td>\n",
       "      <td>873.996460</td>\n",
       "      <td>1005.998779</td>\n",
       "      <td>1141.001758</td>\n",
       "      <td>1296.997083</td>\n",
       "      <td>...</td>\n",
       "      <td>2220.990137</td>\n",
       "      <td>5544.670485</td>\n",
       "      <td>357.712450</td>\n",
       "      <td>0.378483</td>\n",
       "      <td>0.041085</td>\n",
       "      <td>0.025753</td>\n",
       "      <td>0.626835</td>\n",
       "      <td>1968</td>\n",
       "      <td>8.0</td>\n",
       "      <td>3</td>\n",
       "    </tr>\n",
       "    <tr>\n",
       "      <th>FFFCEFB11E257364</th>\n",
       "      <td>2200313961</td>\n",
       "      <td>165752898</td>\n",
       "      <td>0.000000</td>\n",
       "      <td>343.996613</td>\n",
       "      <td>567.010620</td>\n",
       "      <td>745.995483</td>\n",
       "      <td>900.997925</td>\n",
       "      <td>1051.995361</td>\n",
       "      <td>1200.006226</td>\n",
       "      <td>1370.990234</td>\n",
       "      <td>...</td>\n",
       "      <td>2421.002441</td>\n",
       "      <td>8827.104856</td>\n",
       "      <td>160.979017</td>\n",
       "      <td>0.306545</td>\n",
       "      <td>0.034637</td>\n",
       "      <td>0.054977</td>\n",
       "      <td>1.587207</td>\n",
       "      <td>1968</td>\n",
       "      <td>5.0</td>\n",
       "      <td>7</td>\n",
       "    </tr>\n",
       "    <tr>\n",
       "      <th>596C5C8CE10BCF</th>\n",
       "      <td>2199220382</td>\n",
       "      <td>166288192</td>\n",
       "      <td>0.000000</td>\n",
       "      <td>173.999956</td>\n",
       "      <td>218.000000</td>\n",
       "      <td>261.999713</td>\n",
       "      <td>315.999951</td>\n",
       "      <td>408.000565</td>\n",
       "      <td>560.000500</td>\n",
       "      <td>700.697351</td>\n",
       "      <td>...</td>\n",
       "      <td>2752.005786</td>\n",
       "      <td>7734.759269</td>\n",
       "      <td>9088.678448</td>\n",
       "      <td>0.338955</td>\n",
       "      <td>0.006846</td>\n",
       "      <td>0.005448</td>\n",
       "      <td>0.795725</td>\n",
       "      <td>1993</td>\n",
       "      <td>6.0</td>\n",
       "      <td>6</td>\n",
       "    </tr>\n",
       "    <tr>\n",
       "      <th>F931B9FA2A8641D1</th>\n",
       "      <td>2209143550</td>\n",
       "      <td>165253334</td>\n",
       "      <td>0.000007</td>\n",
       "      <td>588.002014</td>\n",
       "      <td>738.999451</td>\n",
       "      <td>848.001282</td>\n",
       "      <td>954.000244</td>\n",
       "      <td>1074.000183</td>\n",
       "      <td>1228.998291</td>\n",
       "      <td>1416.999817</td>\n",
       "      <td>...</td>\n",
       "      <td>2712.997681</td>\n",
       "      <td>7435.991490</td>\n",
       "      <td>994.424368</td>\n",
       "      <td>0.581476</td>\n",
       "      <td>0.036470</td>\n",
       "      <td>0.016033</td>\n",
       "      <td>0.439638</td>\n",
       "      <td>1964</td>\n",
       "      <td>4.0</td>\n",
       "      <td>7</td>\n",
       "    </tr>\n",
       "  </tbody>\n",
       "</table>\n",
       "<p>5 rows × 54 columns</p>\n",
       "</div>"
      ],
      "text/plain": [
       "                           X          Y  Q_R_4_0_0   Q_R_4_0_1   Q_R_4_0_2  \\\n",
       "ID                                                                           \n",
       "44198C2A811A4DF4  2200905624  165480229   0.000001  445.999637  634.001172   \n",
       "216F638609E0E39E  2207436564  165625751   0.000000  385.000995  580.005762   \n",
       "FFFCEFB11E257364  2200313961  165752898   0.000000  343.996613  567.010620   \n",
       "596C5C8CE10BCF    2199220382  166288192   0.000000  173.999956  218.000000   \n",
       "F931B9FA2A8641D1  2209143550  165253334   0.000007  588.002014  738.999451   \n",
       "\n",
       "                   Q_R_4_0_3   Q_R_4_0_4    Q_R_4_0_5    Q_R_4_0_6  \\\n",
       "ID                                                                   \n",
       "44198C2A811A4DF4  780.000568  902.004053  1025.997009  1157.997681   \n",
       "216F638609E0E39E  737.004449  873.996460  1005.998779  1141.001758   \n",
       "FFFCEFB11E257364  745.995483  900.997925  1051.995361  1200.006226   \n",
       "596C5C8CE10BCF    261.999713  315.999951   408.000565   560.000500   \n",
       "F931B9FA2A8641D1  848.001282  954.000244  1074.000183  1228.998291   \n",
       "\n",
       "                    Q_R_4_0_7  ...  Q_NIR_8_0_9  Q_NIR_8_1_0         AREA  \\\n",
       "ID                             ...                                          \n",
       "44198C2A811A4DF4  1304.999585  ...  2545.997754  6803.875107   283.593030   \n",
       "216F638609E0E39E  1296.997083  ...  2220.990137  5544.670485   357.712450   \n",
       "FFFCEFB11E257364  1370.990234  ...  2421.002441  8827.104856   160.979017   \n",
       "596C5C8CE10BCF     700.697351  ...  2752.005786  7734.759269  9088.678448   \n",
       "F931B9FA2A8641D1  1416.999817  ...  2712.997681  7435.991490   994.424368   \n",
       "\n",
       "                   GEOM_R1   GEOM_R2   GEOM_R3   GEOM_R4  CONTRUCTIONYEAR  \\\n",
       "ID                                                                          \n",
       "44198C2A811A4DF4  0.046741  0.014588  0.011298  0.774503             1994   \n",
       "216F638609E0E39E  0.378483  0.041085  0.025753  0.626835             1968   \n",
       "FFFCEFB11E257364  0.306545  0.034637  0.054977  1.587207             1968   \n",
       "596C5C8CE10BCF    0.338955  0.006846  0.005448  0.795725             1993   \n",
       "F931B9FA2A8641D1  0.581476  0.036470  0.016033  0.439638             1964   \n",
       "\n",
       "                  MAXBUILDINGFLOOR  CADASTRALQUALITYID  \n",
       "ID                                                      \n",
       "44198C2A811A4DF4               5.0                   4  \n",
       "216F638609E0E39E               8.0                   3  \n",
       "FFFCEFB11E257364               5.0                   7  \n",
       "596C5C8CE10BCF                 6.0                   6  \n",
       "F931B9FA2A8641D1               4.0                   7  \n",
       "\n",
       "[5 rows x 54 columns]"
      ]
     },
     "execution_count": 26,
     "metadata": {},
     "output_type": "execute_result"
    }
   ],
   "source": [
    "df_minsait_test.head()"
   ]
  },
  {
   "cell_type": "code",
   "execution_count": 27,
   "metadata": {},
   "outputs": [
    {
     "data": {
      "text/plain": [
       "(5618, 54)"
      ]
     },
     "execution_count": 27,
     "metadata": {},
     "output_type": "execute_result"
    }
   ],
   "source": [
    "df_minsait_test.shape"
   ]
  },
  {
   "cell_type": "code",
   "execution_count": null,
   "metadata": {},
   "outputs": [],
   "source": []
  }
 ],
 "metadata": {
  "kernelspec": {
   "display_name": "Python 3",
   "language": "python",
   "name": "python3"
  },
  "language_info": {
   "codemirror_mode": {
    "name": "ipython",
    "version": 3
   },
   "file_extension": ".py",
   "mimetype": "text/x-python",
   "name": "python",
   "nbconvert_exporter": "python",
   "pygments_lexer": "ipython3",
   "version": "3.7.4"
  }
 },
 "nbformat": 4,
 "nbformat_minor": 2
}
