{
 "cells": [
  {
   "cell_type": "markdown",
   "metadata": {},
   "source": [
    "# Minsait Land Classification"
   ]
  },
  {
   "cell_type": "markdown",
   "metadata": {},
   "source": [
    "Este es un reto de multiclasificación cuya principal dificultad es que **las clases están muy desbalanceadas**. Tenlo en cuenta ya que nuestro dataset de validación no lo estará tanto."
   ]
  },
  {
   "cell_type": "markdown",
   "metadata": {},
   "source": [
    "**Variables**\n",
    "\n",
    "Los ficheros contienen un total 58 variables: las 6 primeras de ellas relativas a la identificación de los registros y las 8 últimas variables son distintas referencias geométricas y relativas al entorno (geometría del edificio, métricas geométricas generadas automáticamente -GEOM-, metros cuadrados, año construcción y nº de plantas de los edificios del entorno).\n",
    "\n",
    "Las imágenes satelitales se han tratado y se ha extraído información de 4 canales (R, G, B y NIR), correspondientes a las bandas de color rojo, verde y azul, y el infrarrojo cercano. El valor mostrado corresponde a la intensidad por deciles en cada imagen. Estas variables empiezan con la letra “Q”.\n",
    "\n",
    "El fichero \"Modelar_UH2020.txt\" tiene, adicionalmente como última variable, la clase a predecir.\n",
    "\n",
    "\n",
    "**Ámbito geográfico y temporal**\n",
    "\n",
    "El ámbito geográfico de las imágenes es una zona concreta del municipio Madrid. Una misma referencia geográfica puede tener datos tomados en distintos momentos, siendo una referencia (ID) distinta a todos los efectos.\n",
    "Formato y estructura\n",
    "\n",
    "**Los datasets con formato txt tienen como estructura**:\n",
    "\n",
    "Nombres de campo: Incluidos en la cabecera.\n",
    "Separador: \"|\".\n",
    "Codificación: UTF-8."
   ]
  },
  {
   "cell_type": "markdown",
   "metadata": {},
   "source": [
    "**Dataset respuesta**\n",
    "\n",
    "Se denominará “Equipo_UH2020.txt” donde Equipo será el nombre del equipo con el que te has inscrito y constará de dos columnas que corresponden a la variable “ID” (identificación de la referencia en “Estimar_UH2020.txt”) y la variable “CLASE”, que la predicción del tipo de terreno estimado por tu modelo."
   ]
  },
  {
   "cell_type": "code",
   "execution_count": null,
   "metadata": {},
   "outputs": [],
   "source": []
  }
 ],
 "metadata": {
  "kernelspec": {
   "display_name": "Python 3",
   "language": "python",
   "name": "python3"
  },
  "language_info": {
   "codemirror_mode": {
    "name": "ipython",
    "version": 3
   },
   "file_extension": ".py",
   "mimetype": "text/x-python",
   "name": "python",
   "nbconvert_exporter": "python",
   "pygments_lexer": "ipython3",
   "version": "3.7.4"
  }
 },
 "nbformat": 4,
 "nbformat_minor": 2
}
