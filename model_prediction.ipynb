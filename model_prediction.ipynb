{
 "cells": [
  {
   "cell_type": "markdown",
   "metadata": {},
   "source": [
    "# Libreta con el objetivo de predecir sobre un conjunto de datos"
   ]
  },
  {
   "cell_type": "code",
   "execution_count": 67,
   "metadata": {},
   "outputs": [
    {
     "data": {
      "text/html": [
       "<style>.container { width:75% !important; }</style>"
      ],
      "text/plain": [
       "<IPython.core.display.HTML object>"
      ]
     },
     "metadata": {},
     "output_type": "display_data"
    }
   ],
   "source": [
    "import pandas as pd\n",
    "import numpy as np\n",
    "import pickle\n",
    "\n",
    "import matplotlib.pyplot as plt\n",
    "import seaborn as sns;\n",
    "sns.set()\n",
    "\n",
    "from sklearn.decomposition import PCA\n",
    "from sklearn.preprocessing import MinMaxScaler\n",
    "from sklearn.metrics import accuracy_score, precision_score, recall_score, f1_score, confusion_matrix, classification_report\n",
    "\n",
    "%config InlineBackend.figure_format = 'retina'\n",
    "%matplotlib inline\n",
    "\n",
    "import warnings\n",
    "warnings.simplefilter('ignore')\n",
    "\n",
    "from IPython.core.display import display, HTML\n",
    "display(HTML(\"<style>.container { width:75% !important; }</style>\"))"
   ]
  },
  {
   "cell_type": "code",
   "execution_count": 2,
   "metadata": {},
   "outputs": [],
   "source": [
    "list_class_order = ['RESIDENTIAL', 'PUBLIC', 'RETAIL', 'OFFICE', 'INDUSTRIAL', 'AGRICULTURE', 'OTHER']"
   ]
  },
  {
   "cell_type": "code",
   "execution_count": 3,
   "metadata": {},
   "outputs": [],
   "source": [
    "def show_results(y, y_pred):\n",
    "    sns.heatmap(confusion_matrix(y, y_pred), square=True, annot=True, fmt='d', cbar=True, cmap=plt.cm.Blues)\n",
    "    plt.ylabel('Clase real')\n",
    "    plt.xlabel('Predicción');\n",
    "    plt.gca().set_ylim(2.0, 0)\n",
    "    plt.show()\n",
    "    print(\"Resultados\")\n",
    "    print('Accuracy: {}'.format(round(accuracy_score(y, y_pred), 3)))"
   ]
  },
  {
   "cell_type": "code",
   "execution_count": 4,
   "metadata": {},
   "outputs": [
    {
     "name": "stdout",
     "output_type": "stream",
     "text": [
      "Tamaño del conjunto de datos:  103230\n",
      "Número de variables: 55\n"
     ]
    }
   ],
   "source": [
    "#Cargamos los datos\n",
    "df_minsait = pd.read_csv('data/Modelar_UH2020.txt', sep=\"|\", index_col='ID', encoding='utf-8')\n",
    "print(\"Tamaño del conjunto de datos:  %d\" % df_minsait.shape[0])\n",
    "print(\"Número de variables: %d\" % df_minsait.shape[1])"
   ]
  },
  {
   "cell_type": "code",
   "execution_count": 5,
   "metadata": {},
   "outputs": [],
   "source": [
    "def process_cadastral_quality(df):\n",
    "    dic = {'A': 11, 'B': 10, 'C': 9, '1': 8, '2': 7, '3': 6, '4': 5, '5': 4, '6': 3, '7': 3, '8': 1, '9': 0}\n",
    "    df['CADASTRALQUALITYID'] = df['CADASTRALQUALITYID'].apply(lambda x: dic[x] if x not in [np.NaN] else -1)\n",
    "    return df\n",
    "\n",
    "def process_max_building_floor(df):\n",
    "    df['MAXBUILDINGFLOOR'].fillna(-1, inplace=True)\n",
    "    return df\n",
    "\n",
    "def assing_class(df):\n",
    "    df['SUBCLASE'] = (df['CLASE'] == 'RESIDENTIAL').astype(int)\n",
    "    \n",
    "process_cadastral_quality(df_minsait)\n",
    "process_max_building_floor(df_minsait)\n",
    "assing_class(df_minsait)"
   ]
  },
  {
   "cell_type": "code",
   "execution_count": 6,
   "metadata": {},
   "outputs": [],
   "source": [
    "#Para nuestro primer modelo vamos a usar todas las variables\n",
    "X = df_minsait[df_minsait.columns[:-2]].copy()\n",
    "y = df_minsait['SUBCLASE'].copy()"
   ]
  },
  {
   "cell_type": "code",
   "execution_count": 68,
   "metadata": {
    "scrolled": false
   },
   "outputs": [
    {
     "name": "stdout",
     "output_type": "stream",
     "text": [
      "0.9810520197616972\n"
     ]
    },
    {
     "data": {
      "image/png": "[encoded data removed]",
      "text/plain": [
       "<Figure size 432x288 with 2 Axes>"
      ]
     },
     "metadata": {
      "image/png": {
       "height": 269,
       "width": 334
      },
      "needs_background": "light"
     },
     "output_type": "display_data"
    },
    {
     "name": "stdout",
     "output_type": "stream",
     "text": [
      "Resultados\n",
      "Accuracy: 0.981\n",
      "              precision    recall  f1-score   support\n",
      "\n",
      "           0       0.93      0.92      0.92     13057\n",
      "           1       0.99      0.99      0.99     90173\n",
      "\n",
      "    accuracy                           0.98    103230\n",
      "   macro avg       0.96      0.96      0.96    103230\n",
      "weighted avg       0.98      0.98      0.98    103230\n",
      "\n"
     ]
    }
   ],
   "source": [
    "#Cargamos el modelo y predecimos\n",
    "model_bin = pickle.load(open('./models/binary_smote_15_03_xgboost_20_100.pkl', 'rb'))\n",
    "result = model_bin.score(X, y)\n",
    "print(result)\n",
    "y_pred = model_bin.predict(X)\n",
    "show_results(y, y_pred)\n",
    "print(classification_report(y, y_pred))"
   ]
  },
  {
   "cell_type": "markdown",
   "metadata": {},
   "source": [
    "Obtenicón de los regisrtros que no son residenciales"
   ]
  },
  {
   "cell_type": "code",
   "execution_count": 69,
   "metadata": {},
   "outputs": [],
   "source": [
    "list_ids_no_residential = X[y_pred==0].index.tolist()"
   ]
  },
  {
   "cell_type": "code",
   "execution_count": 70,
   "metadata": {},
   "outputs": [
    {
     "data": {
      "text/plain": [
       "(12951, 56)"
      ]
     },
     "execution_count": 70,
     "metadata": {},
     "output_type": "execute_result"
    }
   ],
   "source": [
    "df_no_resident = df_minsait[df_minsait.index.isin(list_ids_no_residential)]\n",
    "df_no_resident.shape"
   ]
  },
  {
   "cell_type": "code",
   "execution_count": 71,
   "metadata": {},
   "outputs": [
    {
     "data": {
      "text/plain": [
       "(90279, 56)"
      ]
     },
     "metadata": {},
     "output_type": "display_data"
    }
   ],
   "source": [
    "df_resident = df_minsait[~df_minsait.index.isin(list_ids_no_residential)]\n",
    "y_resident = df_resident['CLASE']\n",
    "display(df_resident.shape)"
   ]
  },
  {
   "cell_type": "markdown",
   "metadata": {},
   "source": [
    "Predicción sobre los datos obtenidos del primer modelo"
   ]
  },
  {
   "cell_type": "code",
   "execution_count": 72,
   "metadata": {},
   "outputs": [],
   "source": [
    "X_val = df_no_resident[df_no_resident.columns[:-2]].copy()\n",
    "y_val = df_no_resident['CLASE'].copy()"
   ]
  },
  {
   "cell_type": "code",
   "execution_count": 73,
   "metadata": {},
   "outputs": [
    {
     "name": "stdout",
     "output_type": "stream",
     "text": [
      "0.8173114045247472\n"
     ]
    }
   ],
   "source": [
    "#Cargamos el modelo y predecimos\n",
    "model_bin = pickle.load(open('./models/multiclass_14_03.pkl', 'rb'))\n",
    "result = model_bin.score(X_val, y_val)\n",
    "print(result)\n",
    "y_val_pred = model_bin.predict(X_val)"
   ]
  },
  {
   "cell_type": "code",
   "execution_count": 74,
   "metadata": {},
   "outputs": [
    {
     "data": {
      "image/png": "[encoded data removed]",
      "text/plain": [
       "<Figure size 432x288 with 2 Axes>"
      ]
     },
     "metadata": {
      "image/png": {
       "height": 323,
       "width": 397
      },
      "needs_background": "light"
     },
     "output_type": "display_data"
    },
    {
     "name": "stdout",
     "output_type": "stream",
     "text": [
      "Resultados\n",
      "Accuracy: 0.817\n",
      "              precision    recall  f1-score   support\n",
      "\n",
      " AGRICULTURE       0.91      0.92      0.91       326\n",
      "  INDUSTRIAL       0.88      0.92      0.90      4286\n",
      "      OFFICE       0.79      0.81      0.80      1647\n",
      "       OTHER       0.86      0.87      0.86      1257\n",
      "      PUBLIC       0.77      0.87      0.82      2686\n",
      " RESIDENTIAL       0.10      0.03      0.05       925\n",
      "      RETAIL       0.84      0.84      0.84      1824\n",
      "\n",
      "    accuracy                           0.82     12951\n",
      "   macro avg       0.74      0.75      0.74     12951\n",
      "weighted avg       0.78      0.82      0.80     12951\n",
      "\n"
     ]
    }
   ],
   "source": [
    "sns.heatmap(confusion_matrix(y_val, y_val_pred), square=True, annot=True, fmt='d', cbar=True, cmap=plt.cm.Blues)\n",
    "plt.ylabel('Clase real')\n",
    "plt.xlabel('Predicción');\n",
    "target_names = y_val.unique()\n",
    "tick_marks = np.arange(len(target_names))\n",
    "plt.xticks(tick_marks, target_names, rotation=45)\n",
    "plt.yticks(tick_marks, target_names, rotation=0)\n",
    "plt.show()\n",
    "print(\"Resultados\")\n",
    "print('Accuracy: {}'.format(round(accuracy_score(y_val, y_val_pred), 3)))\n",
    "print(classification_report(y_val, y_val_pred))"
   ]
  },
  {
   "cell_type": "code",
   "execution_count": 63,
   "metadata": {},
   "outputs": [
    {
     "data": {
      "text/plain": [
       "0.7615712486680228"
      ]
     },
     "execution_count": 63,
     "metadata": {},
     "output_type": "execute_result"
    }
   ],
   "source": [
    "# Lo convertimos en serie para tener referenciado el ID\n",
    "y_no_resident = pd.Series(index=X_val.index, data=y_val_pred)\n",
    "all_data_pred = y_resident.append(y_no_resident)\n",
    "accuracy_score(df_minsait['CLASE'], all_data_pred)"
   ]
  },
  {
   "cell_type": "code",
   "execution_count": 64,
   "metadata": {},
   "outputs": [
    {
     "data": {
      "text/plain": [
       "ID\n",
       "64F25387AC3C63C3    RESIDENTIAL\n",
       "810E110DCF7D1629     INDUSTRIAL\n",
       "FA71F6875DD2EFAB    RESIDENTIAL\n",
       "C8ACB408BA3CD153    RESIDENTIAL\n",
       "4FE64520669D13EB    RESIDENTIAL\n",
       "047E562FD0DDFA2F    RESIDENTIAL\n",
       "3B021797760C4602    RESIDENTIAL\n",
       "D53A7AF361F49028    RESIDENTIAL\n",
       "781CFBE5D41D360A    RESIDENTIAL\n",
       "0F0A3D4DED862C11    RESIDENTIAL\n",
       "C5FD596EB22DB167    RESIDENTIAL\n",
       "A51D42F2EAB0E15E    RESIDENTIAL\n",
       "9B75473FE6396523     INDUSTRIAL\n",
       "3E566F8A461FDBA3    RESIDENTIAL\n",
       "0E6F8A7388F1FF25    RESIDENTIAL\n",
       "Name: CLASE, dtype: object"
      ]
     },
     "execution_count": 64,
     "metadata": {},
     "output_type": "execute_result"
    }
   ],
   "source": [
    "df_minsait['CLASE'].tail(15)"
   ]
  },
  {
   "cell_type": "code",
   "execution_count": 65,
   "metadata": {},
   "outputs": [
    {
     "data": {
      "text/plain": [
       "ID\n",
       "64F25387AC3C63C3    RESIDENTIAL\n",
       "810E110DCF7D1629     INDUSTRIAL\n",
       "FA71F6875DD2EFAB    RESIDENTIAL\n",
       "C8ACB408BA3CD153     INDUSTRIAL\n",
       "4FE64520669D13EB    RESIDENTIAL\n",
       "047E562FD0DDFA2F    RESIDENTIAL\n",
       "3B021797760C4602    RESIDENTIAL\n",
       "D53A7AF361F49028    RESIDENTIAL\n",
       "781CFBE5D41D360A    RESIDENTIAL\n",
       "0F0A3D4DED862C11    RESIDENTIAL\n",
       "C5FD596EB22DB167    RESIDENTIAL\n",
       "A51D42F2EAB0E15E    RESIDENTIAL\n",
       "9B75473FE6396523     INDUSTRIAL\n",
       "3E566F8A461FDBA3    RESIDENTIAL\n",
       "0E6F8A7388F1FF25    RESIDENTIAL\n",
       "dtype: object"
      ]
     },
     "execution_count": 65,
     "metadata": {},
     "output_type": "execute_result"
    }
   ],
   "source": [
    "all_data_pred[df_minsait['CLASE'].tail(15).index]"
   ]
  },
  {
   "cell_type": "code",
   "execution_count": null,
   "metadata": {},
   "outputs": [],
   "source": []
  },
  {
   "cell_type": "code",
   "execution_count": null,
   "metadata": {},
   "outputs": [],
   "source": []
  },
  {
   "cell_type": "markdown",
   "metadata": {},
   "source": [
    "---"
   ]
  },
  {
   "cell_type": "markdown",
   "metadata": {},
   "source": [
    "# Prediccion de los valores a predecir junto con la generación del fichero"
   ]
  },
  {
   "cell_type": "code",
   "execution_count": 17,
   "metadata": {
    "scrolled": false
   },
   "outputs": [
    {
     "name": "stdout",
     "output_type": "stream",
     "text": [
      "Tamaño del conjunto de datos:  5618\n",
      "Número de variables: 54\n",
      "El índice es único.\n"
     ]
    },
    {
     "data": {
      "text/html": [
       "<div>\n",
       "<style scoped>\n",
       "    .dataframe tbody tr th:only-of-type {\n",
       "        vertical-align: middle;\n",
       "    }\n",
       "\n",
       "    .dataframe tbody tr th {\n",
       "        vertical-align: top;\n",
       "    }\n",
       "\n",
       "    .dataframe thead th {\n",
       "        text-align: right;\n",
       "    }\n",
       "</style>\n",
       "<table border=\"1\" class=\"dataframe\">\n",
       "  <thead>\n",
       "    <tr style=\"text-align: right;\">\n",
       "      <th></th>\n",
       "      <th>X</th>\n",
       "      <th>Y</th>\n",
       "      <th>Q_R_4_0_0</th>\n",
       "      <th>Q_R_4_0_1</th>\n",
       "      <th>Q_R_4_0_2</th>\n",
       "      <th>Q_R_4_0_3</th>\n",
       "      <th>Q_R_4_0_4</th>\n",
       "      <th>Q_R_4_0_5</th>\n",
       "      <th>Q_R_4_0_6</th>\n",
       "      <th>Q_R_4_0_7</th>\n",
       "      <th>...</th>\n",
       "      <th>Q_NIR_8_0_9</th>\n",
       "      <th>Q_NIR_8_1_0</th>\n",
       "      <th>AREA</th>\n",
       "      <th>GEOM_R1</th>\n",
       "      <th>GEOM_R2</th>\n",
       "      <th>GEOM_R3</th>\n",
       "      <th>GEOM_R4</th>\n",
       "      <th>CONTRUCTIONYEAR</th>\n",
       "      <th>MAXBUILDINGFLOOR</th>\n",
       "      <th>CADASTRALQUALITYID</th>\n",
       "    </tr>\n",
       "    <tr>\n",
       "      <th>ID</th>\n",
       "      <th></th>\n",
       "      <th></th>\n",
       "      <th></th>\n",
       "      <th></th>\n",
       "      <th></th>\n",
       "      <th></th>\n",
       "      <th></th>\n",
       "      <th></th>\n",
       "      <th></th>\n",
       "      <th></th>\n",
       "      <th></th>\n",
       "      <th></th>\n",
       "      <th></th>\n",
       "      <th></th>\n",
       "      <th></th>\n",
       "      <th></th>\n",
       "      <th></th>\n",
       "      <th></th>\n",
       "      <th></th>\n",
       "      <th></th>\n",
       "      <th></th>\n",
       "    </tr>\n",
       "  </thead>\n",
       "  <tbody>\n",
       "    <tr>\n",
       "      <th>44198C2A811A4DF4</th>\n",
       "      <td>2200905624</td>\n",
       "      <td>165480229</td>\n",
       "      <td>0.000001</td>\n",
       "      <td>445.999637</td>\n",
       "      <td>634.001172</td>\n",
       "      <td>780.000568</td>\n",
       "      <td>902.004053</td>\n",
       "      <td>1025.997009</td>\n",
       "      <td>1157.997681</td>\n",
       "      <td>1304.999585</td>\n",
       "      <td>...</td>\n",
       "      <td>2545.997754</td>\n",
       "      <td>6803.875107</td>\n",
       "      <td>283.593030</td>\n",
       "      <td>0.046741</td>\n",
       "      <td>0.014588</td>\n",
       "      <td>0.011298</td>\n",
       "      <td>0.774503</td>\n",
       "      <td>1994</td>\n",
       "      <td>5.0</td>\n",
       "      <td>4</td>\n",
       "    </tr>\n",
       "    <tr>\n",
       "      <th>216F638609E0E39E</th>\n",
       "      <td>2207436564</td>\n",
       "      <td>165625751</td>\n",
       "      <td>0.000000</td>\n",
       "      <td>385.000995</td>\n",
       "      <td>580.005762</td>\n",
       "      <td>737.004449</td>\n",
       "      <td>873.996460</td>\n",
       "      <td>1005.998779</td>\n",
       "      <td>1141.001758</td>\n",
       "      <td>1296.997083</td>\n",
       "      <td>...</td>\n",
       "      <td>2220.990137</td>\n",
       "      <td>5544.670485</td>\n",
       "      <td>357.712450</td>\n",
       "      <td>0.378483</td>\n",
       "      <td>0.041085</td>\n",
       "      <td>0.025753</td>\n",
       "      <td>0.626835</td>\n",
       "      <td>1968</td>\n",
       "      <td>8.0</td>\n",
       "      <td>3</td>\n",
       "    </tr>\n",
       "    <tr>\n",
       "      <th>FFFCEFB11E257364</th>\n",
       "      <td>2200313961</td>\n",
       "      <td>165752898</td>\n",
       "      <td>0.000000</td>\n",
       "      <td>343.996613</td>\n",
       "      <td>567.010620</td>\n",
       "      <td>745.995483</td>\n",
       "      <td>900.997925</td>\n",
       "      <td>1051.995361</td>\n",
       "      <td>1200.006226</td>\n",
       "      <td>1370.990234</td>\n",
       "      <td>...</td>\n",
       "      <td>2421.002441</td>\n",
       "      <td>8827.104856</td>\n",
       "      <td>160.979017</td>\n",
       "      <td>0.306545</td>\n",
       "      <td>0.034637</td>\n",
       "      <td>0.054977</td>\n",
       "      <td>1.587207</td>\n",
       "      <td>1968</td>\n",
       "      <td>5.0</td>\n",
       "      <td>7</td>\n",
       "    </tr>\n",
       "    <tr>\n",
       "      <th>596C5C8CE10BCF</th>\n",
       "      <td>2199220382</td>\n",
       "      <td>166288192</td>\n",
       "      <td>0.000000</td>\n",
       "      <td>173.999956</td>\n",
       "      <td>218.000000</td>\n",
       "      <td>261.999713</td>\n",
       "      <td>315.999951</td>\n",
       "      <td>408.000565</td>\n",
       "      <td>560.000500</td>\n",
       "      <td>700.697351</td>\n",
       "      <td>...</td>\n",
       "      <td>2752.005786</td>\n",
       "      <td>7734.759269</td>\n",
       "      <td>9088.678448</td>\n",
       "      <td>0.338955</td>\n",
       "      <td>0.006846</td>\n",
       "      <td>0.005448</td>\n",
       "      <td>0.795725</td>\n",
       "      <td>1993</td>\n",
       "      <td>6.0</td>\n",
       "      <td>6</td>\n",
       "    </tr>\n",
       "    <tr>\n",
       "      <th>F931B9FA2A8641D1</th>\n",
       "      <td>2209143550</td>\n",
       "      <td>165253334</td>\n",
       "      <td>0.000007</td>\n",
       "      <td>588.002014</td>\n",
       "      <td>738.999451</td>\n",
       "      <td>848.001282</td>\n",
       "      <td>954.000244</td>\n",
       "      <td>1074.000183</td>\n",
       "      <td>1228.998291</td>\n",
       "      <td>1416.999817</td>\n",
       "      <td>...</td>\n",
       "      <td>2712.997681</td>\n",
       "      <td>7435.991490</td>\n",
       "      <td>994.424368</td>\n",
       "      <td>0.581476</td>\n",
       "      <td>0.036470</td>\n",
       "      <td>0.016033</td>\n",
       "      <td>0.439638</td>\n",
       "      <td>1964</td>\n",
       "      <td>4.0</td>\n",
       "      <td>7</td>\n",
       "    </tr>\n",
       "  </tbody>\n",
       "</table>\n",
       "<p>5 rows × 54 columns</p>\n",
       "</div>"
      ],
      "text/plain": [
       "                           X          Y  Q_R_4_0_0   Q_R_4_0_1   Q_R_4_0_2  \\\n",
       "ID                                                                           \n",
       "44198C2A811A4DF4  2200905624  165480229   0.000001  445.999637  634.001172   \n",
       "216F638609E0E39E  2207436564  165625751   0.000000  385.000995  580.005762   \n",
       "FFFCEFB11E257364  2200313961  165752898   0.000000  343.996613  567.010620   \n",
       "596C5C8CE10BCF    2199220382  166288192   0.000000  173.999956  218.000000   \n",
       "F931B9FA2A8641D1  2209143550  165253334   0.000007  588.002014  738.999451   \n",
       "\n",
       "                   Q_R_4_0_3   Q_R_4_0_4    Q_R_4_0_5    Q_R_4_0_6  \\\n",
       "ID                                                                   \n",
       "44198C2A811A4DF4  780.000568  902.004053  1025.997009  1157.997681   \n",
       "216F638609E0E39E  737.004449  873.996460  1005.998779  1141.001758   \n",
       "FFFCEFB11E257364  745.995483  900.997925  1051.995361  1200.006226   \n",
       "596C5C8CE10BCF    261.999713  315.999951   408.000565   560.000500   \n",
       "F931B9FA2A8641D1  848.001282  954.000244  1074.000183  1228.998291   \n",
       "\n",
       "                    Q_R_4_0_7  ...  Q_NIR_8_0_9  Q_NIR_8_1_0         AREA  \\\n",
       "ID                             ...                                          \n",
       "44198C2A811A4DF4  1304.999585  ...  2545.997754  6803.875107   283.593030   \n",
       "216F638609E0E39E  1296.997083  ...  2220.990137  5544.670485   357.712450   \n",
       "FFFCEFB11E257364  1370.990234  ...  2421.002441  8827.104856   160.979017   \n",
       "596C5C8CE10BCF     700.697351  ...  2752.005786  7734.759269  9088.678448   \n",
       "F931B9FA2A8641D1  1416.999817  ...  2712.997681  7435.991490   994.424368   \n",
       "\n",
       "                   GEOM_R1   GEOM_R2   GEOM_R3   GEOM_R4  CONTRUCTIONYEAR  \\\n",
       "ID                                                                          \n",
       "44198C2A811A4DF4  0.046741  0.014588  0.011298  0.774503             1994   \n",
       "216F638609E0E39E  0.378483  0.041085  0.025753  0.626835             1968   \n",
       "FFFCEFB11E257364  0.306545  0.034637  0.054977  1.587207             1968   \n",
       "596C5C8CE10BCF    0.338955  0.006846  0.005448  0.795725             1993   \n",
       "F931B9FA2A8641D1  0.581476  0.036470  0.016033  0.439638             1964   \n",
       "\n",
       "                  MAXBUILDINGFLOOR  CADASTRALQUALITYID  \n",
       "ID                                                      \n",
       "44198C2A811A4DF4               5.0                   4  \n",
       "216F638609E0E39E               8.0                   3  \n",
       "FFFCEFB11E257364               5.0                   7  \n",
       "596C5C8CE10BCF                 6.0                   6  \n",
       "F931B9FA2A8641D1               4.0                   7  \n",
       "\n",
       "[5 rows x 54 columns]"
      ]
     },
     "execution_count": 17,
     "metadata": {},
     "output_type": "execute_result"
    }
   ],
   "source": [
    "#Cargamos los datos\n",
    "df_minsait_estimate = pd.read_csv('data/Estimar_UH2020.txt', sep=\"|\", index_col='ID', encoding='utf-8')\n",
    "print(\"Tamaño del conjunto de datos:  %d\" % df_minsait_estimate.shape[0])\n",
    "print(\"Número de variables: %d\" % df_minsait_estimate.shape[1])\n",
    "if df_minsait_estimate.index.is_unique:\n",
    "    print('El índice es único.')\n",
    "else:\n",
    "    print('Los índices están duplicados.')\n",
    "df_minsait_estimate.head()"
   ]
  },
  {
   "cell_type": "code",
   "execution_count": 19,
   "metadata": {},
   "outputs": [],
   "source": [
    "def estimate(df):\n",
    "    def process_cadastral_quality(df):\n",
    "        dic = {'A': 11, 'B': 10, 'C': 9, '1': 8, '2': 7, '3': 6, '4': 5, '5': 4, '6': 3, '7': 3, '8': 1, '9': 0}\n",
    "        df['CADASTRALQUALITYID'] = df['CADASTRALQUALITYID'].apply(lambda x: dic[x] if x not in [np.NaN] else -1)\n",
    "        return df\n",
    "\n",
    "    def process_max_building_floor(df):\n",
    "        df['MAXBUILDINGFLOOR'].fillna(-1, inplace=True)\n",
    "        return df\n",
    "    \n",
    "    process_cadastral_quality(df)\n",
    "    process_max_building_floor(df)\n",
    "    \n",
    "    X = df.copy()\n",
    "    \n",
    "    #Cargamos el modelo y predecimos\n",
    "    model_bin = pickle.load(open('./models/binary_14_03.pkl', 'rb'))\n",
    "    y_pred = model_bin.predict(X)\n",
    "    \n",
    "    list_ids_no_residential = X[y_pred==0].index.tolist()\n",
    "    y_resident = pd.Series(index=X[y_pred==1].index, data='RESIDENTIAL')\n",
    "    df_no_resident = df[df.index.isin(list_ids_no_residential)]\n",
    "    \n",
    "    #Modelo final\n",
    "    X_val = df_no_resident.copy()\n",
    "    \n",
    "    model_multi = pickle.load(open('./models/multiclass_14_03.pkl', 'rb'))\n",
    "    y_val_pred = model_multi.predict(X_val)\n",
    "    \n",
    "    # Lo convertimos en serie para tener referenciado el ID\n",
    "    y_no_resident = pd.Series(index=X_val.index, data=y_val_pred)\n",
    "    all_data_pred = y_resident.append(y_no_resident)\n",
    "    \n",
    "    solution = all_data_pred[df.index].reset_index()\n",
    "    #print(solution)\n",
    "    #print(all_data_pred.tail())\n",
    "    \n",
    "    #Generamos el fichero obtenido de la prediccion con ambos modelos\n",
    "    np.savetxt('./outputs/Estimar_CMBC_0_71_14_03.txt', solution.values, fmt='%s', delimiter=\"|\", header=\"ID|CLASE\", encoding='utf-8')\n",
    "    \n",
    "    print('Fichero generado correctamente')\n",
    "    plt.figure(figsize=(12,6))\n",
    "    sns.countplot(all_data_pred[df.index], order=list_class_order)"
   ]
  },
  {
   "cell_type": "code",
   "execution_count": 20,
   "metadata": {},
   "outputs": [
    {
     "name": "stdout",
     "output_type": "stream",
     "text": [
      "Fichero generado correctamente\n"
     ]
    },
    {
     "data": {
      "image/png": "[encoded data removed]",
      "text/plain": [
       "<Figure size 864x432 with 1 Axes>"
      ]
     },
     "metadata": {
      "image/png": {
       "height": 363,
       "width": 736
      },
      "needs_background": "light"
     },
     "output_type": "display_data"
    }
   ],
   "source": [
    "estimate(df_minsait_estimate)"
   ]
  },
  {
   "cell_type": "code",
   "execution_count": 26,
   "metadata": {},
   "outputs": [],
   "source": [
    "df_concurso = pd.read_csv('./outputs/Estimar_CMBC_0_70_no_PCA.txt', delimiter='|', encoding='utf-8', index_col='ID')\n",
    "df_now = pd.read_csv('./outputs/Estimar_CMBC_0_71_14_03.txt', delimiter='|', encoding='utf-8', index_col='ID')"
   ]
  },
  {
   "cell_type": "code",
   "execution_count": 27,
   "metadata": {},
   "outputs": [
    {
     "data": {
      "text/html": [
       "<div>\n",
       "<style scoped>\n",
       "    .dataframe tbody tr th:only-of-type {\n",
       "        vertical-align: middle;\n",
       "    }\n",
       "\n",
       "    .dataframe tbody tr th {\n",
       "        vertical-align: top;\n",
       "    }\n",
       "\n",
       "    .dataframe thead th {\n",
       "        text-align: right;\n",
       "    }\n",
       "</style>\n",
       "<table border=\"1\" class=\"dataframe\">\n",
       "  <thead>\n",
       "    <tr style=\"text-align: right;\">\n",
       "      <th></th>\n",
       "      <th>CLASE</th>\n",
       "    </tr>\n",
       "    <tr>\n",
       "      <th>ID</th>\n",
       "      <th></th>\n",
       "    </tr>\n",
       "  </thead>\n",
       "  <tbody>\n",
       "    <tr>\n",
       "      <th>44198C2A811A4DF4</th>\n",
       "      <td>PUBLIC</td>\n",
       "    </tr>\n",
       "    <tr>\n",
       "      <th>216F638609E0E39E</th>\n",
       "      <td>RESIDENTIAL</td>\n",
       "    </tr>\n",
       "    <tr>\n",
       "      <th>FFFCEFB11E257364</th>\n",
       "      <td>RESIDENTIAL</td>\n",
       "    </tr>\n",
       "    <tr>\n",
       "      <th>596C5C8CE10BCF</th>\n",
       "      <td>OFFICE</td>\n",
       "    </tr>\n",
       "    <tr>\n",
       "      <th>F931B9FA2A8641D1</th>\n",
       "      <td>OTHER</td>\n",
       "    </tr>\n",
       "  </tbody>\n",
       "</table>\n",
       "</div>"
      ],
      "text/plain": [
       "                        CLASE\n",
       "ID                           \n",
       "44198C2A811A4DF4       PUBLIC\n",
       "216F638609E0E39E  RESIDENTIAL\n",
       "FFFCEFB11E257364  RESIDENTIAL\n",
       "596C5C8CE10BCF         OFFICE\n",
       "F931B9FA2A8641D1        OTHER"
      ]
     },
     "metadata": {},
     "output_type": "display_data"
    },
    {
     "data": {
      "text/html": [
       "<div>\n",
       "<style scoped>\n",
       "    .dataframe tbody tr th:only-of-type {\n",
       "        vertical-align: middle;\n",
       "    }\n",
       "\n",
       "    .dataframe tbody tr th {\n",
       "        vertical-align: top;\n",
       "    }\n",
       "\n",
       "    .dataframe thead th {\n",
       "        text-align: right;\n",
       "    }\n",
       "</style>\n",
       "<table border=\"1\" class=\"dataframe\">\n",
       "  <thead>\n",
       "    <tr style=\"text-align: right;\">\n",
       "      <th></th>\n",
       "      <th>CLASE</th>\n",
       "    </tr>\n",
       "    <tr>\n",
       "      <th>ID</th>\n",
       "      <th></th>\n",
       "    </tr>\n",
       "  </thead>\n",
       "  <tbody>\n",
       "    <tr>\n",
       "      <th>44198C2A811A4DF4</th>\n",
       "      <td>PUBLIC</td>\n",
       "    </tr>\n",
       "    <tr>\n",
       "      <th>216F638609E0E39E</th>\n",
       "      <td>RESIDENTIAL</td>\n",
       "    </tr>\n",
       "    <tr>\n",
       "      <th>FFFCEFB11E257364</th>\n",
       "      <td>RESIDENTIAL</td>\n",
       "    </tr>\n",
       "    <tr>\n",
       "      <th>596C5C8CE10BCF</th>\n",
       "      <td>OFFICE</td>\n",
       "    </tr>\n",
       "    <tr>\n",
       "      <th>F931B9FA2A8641D1</th>\n",
       "      <td>OTHER</td>\n",
       "    </tr>\n",
       "  </tbody>\n",
       "</table>\n",
       "</div>"
      ],
      "text/plain": [
       "                        CLASE\n",
       "ID                           \n",
       "44198C2A811A4DF4       PUBLIC\n",
       "216F638609E0E39E  RESIDENTIAL\n",
       "FFFCEFB11E257364  RESIDENTIAL\n",
       "596C5C8CE10BCF         OFFICE\n",
       "F931B9FA2A8641D1        OTHER"
      ]
     },
     "metadata": {},
     "output_type": "display_data"
    }
   ],
   "source": [
    "display(df_concurso.head())\n",
    "display(df_now.head())"
   ]
  },
  {
   "cell_type": "code",
   "execution_count": 28,
   "metadata": {},
   "outputs": [
    {
     "data": {
      "text/plain": [
       "1.0"
      ]
     },
     "execution_count": 28,
     "metadata": {},
     "output_type": "execute_result"
    }
   ],
   "source": [
    "accuracy_score(df_concurso, df_now)"
   ]
  },
  {
   "cell_type": "code",
   "execution_count": null,
   "metadata": {},
   "outputs": [],
   "source": []
  }
 ],
 "metadata": {
  "kernelspec": {
   "display_name": "Python 3",
   "language": "python",
   "name": "python3"
  },
  "language_info": {
   "codemirror_mode": {
    "name": "ipython",
    "version": 3
   },
   "file_extension": ".py",
   "mimetype": "text/x-python",
   "name": "python",
   "nbconvert_exporter": "python",
   "pygments_lexer": "ipython3",
   "version": "3.7.4"
  }
 },
 "nbformat": 4,
 "nbformat_minor": 4
}
